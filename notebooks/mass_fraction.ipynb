{
 "cells": [
  {
   "cell_type": "code",
   "execution_count": 1,
   "id": "e452e17e",
   "metadata": {},
   "outputs": [],
   "source": [
    "import seaborn as sns\n",
    "import matplotlib as mpl\n",
    "import _init_\n",
    "from constants import *\n",
    "from set_path import *\n",
    "from config import *\n",
    "from functions import *\n",
    "import scipy.integrate as integrate\n",
    "import matplotlib.colors as mcolors\n",
    "import matplotlib.cm"
   ]
  },
  {
   "cell_type": "code",
   "execution_count": 2,
   "id": "fb71094c",
   "metadata": {},
   "outputs": [
    {
     "data": {
      "text/plain": [
       "(-3.3011022787786, 9.478378378378378e-18)"
      ]
     },
     "execution_count": 2,
     "metadata": {},
     "output_type": "execute_result"
    }
   ],
   "source": [
    "tdyn = rmax/v0\n",
    "sat_time = (Sigma0/G0)/Myr\n",
    "xi_sol = np.log(G0*t0/Sigma0)\n",
    "xi_sol, G0"
   ]
  },
  {
   "cell_type": "markdown",
   "id": "7e5aa369",
   "metadata": {},
   "source": [
    "# Fixed Solid Angle Case"
   ]
  },
  {
   "cell_type": "code",
   "execution_count": 3,
   "id": "fc457211",
   "metadata": {},
   "outputs": [
    {
     "name": "stderr",
     "output_type": "stream",
     "text": [
      "/Users/aditivijayan/opt/anaconda3/lib/python3.9/site-packages/scipy/integrate/quadpack.py:879: IntegrationWarning: The algorithm does not converge.  Roundoff error is detected\n",
      "  in the extrapolation table.  It is assumed that the requested tolerance\n",
      "  cannot be achieved, and that the returned result (if full_output = 1) is \n",
      "  the best which can be obtained.\n",
      "  quad_r = quad(f, low, high, args=args, full_output=self.full_output,\n",
      "/Users/aditivijayan/opt/anaconda3/lib/python3.9/site-packages/scipy/integrate/quadpack.py:879: IntegrationWarning: The occurrence of roundoff error is detected, which prevents \n",
      "  the requested tolerance from being achieved.  The error may be \n",
      "  underestimated.\n",
      "  quad_r = quad(f, low, high, args=args, full_output=self.full_output,\n",
      "/Users/aditivijayan/opt/anaconda3/lib/python3.9/site-packages/scipy/integrate/quadpack.py:879: IntegrationWarning: The maximum number of subdivisions (50) has been achieved.\n",
      "  If increasing the limit yields no improvement it is advised to analyze \n",
      "  the integrand in order to determine the difficulties.  If the position of a \n",
      "  local difficulty can be determined (singularity, discontinuity) one will \n",
      "  probably gain from splitting up the interval and calling the integrator \n",
      "  on the subranges.  Perhaps a special-purpose integrator should be used.\n",
      "  quad_r = quad(f, low, high, args=args, full_output=self.full_output,\n"
     ]
    },
    {
     "ename": "NameError",
     "evalue": "name 'dMassFluxHI' is not defined",
     "output_type": "error",
     "traceback": [
      "\u001b[0;31m---------------------------------------------------------------------------\u001b[0m",
      "\u001b[0;31mNameError\u001b[0m                                 Traceback (most recent call last)",
      "Input \u001b[0;32mIn [3]\u001b[0m, in \u001b[0;36m<cell line: 33>\u001b[0;34m()\u001b[0m\n\u001b[1;32m     29\u001b[0m         j\u001b[38;5;241m+\u001b[39m\u001b[38;5;241m=\u001b[39m\u001b[38;5;241m1\u001b[39m\n\u001b[1;32m     31\u001b[0m     i\u001b[38;5;241m+\u001b[39m\u001b[38;5;241m=\u001b[39m\u001b[38;5;241m1\u001b[39m\n\u001b[0;32m---> 33\u001b[0m dMassFlux \u001b[38;5;241m=\u001b[39m \u001b[43mdMassFluxHI\u001b[49m\u001b[38;5;241m/\u001b[39mdMassFluxtot\n\u001b[1;32m     34\u001b[0m FH2_fSA \u001b[38;5;241m=\u001b[39m \u001b[38;5;241m1.\u001b[39m \u001b[38;5;241m-\u001b[39m dMassFlux\n\u001b[1;32m     35\u001b[0m np\u001b[38;5;241m.\u001b[39mamax(FH2_fSA),np\u001b[38;5;241m.\u001b[39mamin(FH2_fSA)\n",
      "\u001b[0;31mNameError\u001b[0m: name 'dMassFluxHI' is not defined"
     ]
    }
   ],
   "source": [
    "Gamma = np.logspace(-2, 2., 20)\n",
    "xi_arr = np.linspace(-5, 5., 20) #xi = np.log(t0*G0/Sigma0)\n",
    "sat_rate = 1./sat_time\n",
    "\n",
    "a = rmax/r0\n",
    "\n",
    "dMassHI = np.zeros((xi_arr.shape[0], Gamma.shape[0]))\n",
    "dMasstot = np.zeros((xi_arr.shape[0], Gamma.shape[0]))\n",
    "i = j =0 \n",
    "for xi in xi_arr:\n",
    "    j=0\n",
    "    for gamma in Gamma:\n",
    "        xcrit = np.log(gamma)\n",
    "        if(xcrit<0.0):\n",
    "            xhigh = 1.*xcrit\n",
    "            xlow  = 1.5*xcrit\n",
    "        else:\n",
    "            xhigh = 1.*xcrit\n",
    "            xlow  = 0.5*xcrit\n",
    "            \n",
    "        G0 = Sigma0*np.exp(xi)/t0\n",
    "        \n",
    "        dMassHI[i,j] = integrate.dblquad(dMass_HI, 1, a, xlow, xhigh,   \\\n",
    "                                            args=(gamma, r0/v0, G0, Sigma0, Mach, 2))[0]\n",
    "        \n",
    "        dMasstot[i,j] = integrate.dblquad(dMass_tot, 1, a, xlow, xhigh,  \\\n",
    "                                            args=(gamma, r0/v0, G0, Sigma0, Mach, 2))[0] \n",
    "        \n",
    "        j+=1\n",
    "            \n",
    "    i+=1\n",
    "    \n"
   ]
  },
  {
   "cell_type": "code",
   "execution_count": 5,
   "id": "47734a0b",
   "metadata": {},
   "outputs": [
    {
     "data": {
      "text/plain": [
       "(0.999468020218746, 0.0)"
      ]
     },
     "execution_count": 5,
     "metadata": {},
     "output_type": "execute_result"
    }
   ],
   "source": [
    "dMass = dMassHI/dMasstot\n",
    "FH2_fSA = 1. - dMassFlux\n",
    "np.amax(FH2_fSA),np.amin(FH2_fSA)"
   ]
  },
  {
   "cell_type": "code",
   "execution_count": 9,
   "id": "ba69ecd2",
   "metadata": {},
   "outputs": [
    {
     "name": "stderr",
     "output_type": "stream",
     "text": [
      "No artists with labels found to put in legend.  Note that artists whose label start with an underscore are ignored when legend() is called with no argument.\n"
     ]
    },
    {
     "data": {
      "text/plain": [
       "(0.01, 100.0)"
      ]
     },
     "execution_count": 9,
     "metadata": {},
     "output_type": "execute_result"
    },
    {
     "data": {
      "image/png": "[encoded data removed]",
      "text/plain": [
       "<Figure size 576x576 with 2 Axes>"
      ]
     },
     "metadata": {
      "needs_background": "light"
     },
     "output_type": "display_data"
    }
   ],
   "source": [
    "fig, ax = plt.subplots(1, 1, gridspec_kw = {'wspace':0.00, 'hspace':0.00},figsize=(8,8))\n",
    "\n",
    "cbarx    = 0.141\n",
    "cbheight = 0.02\n",
    "cbary = 0.89\n",
    "cblen = 0.7\n",
    "dx1 = 0.4\n",
    "cbtitlex = 0.1\n",
    "\n",
    "\n",
    "plot = ax.pcolormesh(xi_arr, Gamma, np.transpose(FH2_fSA),\\\n",
    "                    vmin=0.0, vmax=1.,\n",
    "                    cmap='plasma')\n",
    "cax = fig.add_axes([cbarx, cbary, cblen, cbheight])\n",
    "fig.colorbar(plot, cax=cax, orientation='horizontal', ticks=(0.0, 0.5, 1.))\n",
    "cax.xaxis.set_ticks_position('top')\n",
    "cax.set_title(r\" $\\mathcal{F}_{\\rm H_2}^{\\rm mass}}$\")\n",
    "\n",
    "ax.set_ylabel(r'$\\Gamma$', fontsize=28)\n",
    "ax.set_xlabel(r'$\\xi=\\rm{log}(\\frac{G_0 t_0}{\\Sigma_0})$', fontsize=28)\n",
    "# ax.text(0.56, 0.14,r'$\\mathcal{M}=%.f$'%(Mach), transform=ax.transAxes, color='white', fontsize=26)\n",
    "ax.legend(loc='lower left', frameon=False, labelcolor='white')\n",
    "# ax.axvline(xi_sol, ls='--', color='red')\n",
    "file_name = os.path.join(fig_path, 'gamma_Mach_sinv_38M.jpeg')\n",
    "ax.set_yscale('log')\n",
    "\n",
    "x_arr = np.linspace(-5,5,20)\n",
    "y_arr = 0.5*(10.**x_arr) **(3.5/8.)\n",
    "# ax.plot(x_arr, y_arr, color='white', label=r'$\\Gamma \\propto (G_0 t_0/\\Sigma_0)^{0.43}$')\n",
    "ax.set_ylim(np.amin(Gamma),np.amax(Gamma))\n",
    "# ax.legend()\n",
    "# plt.savefig(file_name, bbox_inches='tight', dpi=160 )"
   ]
  },
  {
   "cell_type": "code",
   "execution_count": null,
   "id": "4fc79433",
   "metadata": {},
   "outputs": [],
   "source": []
  }
 ],
 "metadata": {
  "kernelspec": {
   "display_name": "Python 3 (ipykernel)",
   "language": "python",
   "name": "python3"
  },
  "language_info": {
   "codemirror_mode": {
    "name": "ipython",
    "version": 3
   },
   "file_extension": ".py",
   "mimetype": "text/x-python",
   "name": "python",
   "nbconvert_exporter": "python",
   "pygments_lexer": "ipython3",
   "version": "3.9.12"
  }
 },
 "nbformat": 4,
 "nbformat_minor": 5
}

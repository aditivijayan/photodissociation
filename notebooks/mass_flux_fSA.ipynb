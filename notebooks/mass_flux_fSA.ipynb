{
 "cells": [
  {
   "cell_type": "markdown",
   "id": "2b9de740",
   "metadata": {},
   "source": [
    "# Getting Mass Flux Ratio for clouds with fixed Solid Angle"
   ]
  },
  {
   "cell_type": "code",
   "execution_count": 1,
   "id": "842a2d9c",
   "metadata": {},
   "outputs": [
    {
     "ename": "NameError",
     "evalue": "name 'plt' is not defined",
     "output_type": "error",
     "traceback": [
      "\u001b[0;31m---------------------------------------------------------------------------\u001b[0m",
      "\u001b[0;31mNameError\u001b[0m                                 Traceback (most recent call last)",
      "Input \u001b[0;32mIn [1]\u001b[0m, in \u001b[0;36m<cell line: 1>\u001b[0;34m()\u001b[0m\n\u001b[0;32m----> 1\u001b[0m f, ax \u001b[38;5;241m=\u001b[39m \u001b[43mplt\u001b[49m\u001b[38;5;241m.\u001b[39msubplots(\u001b[38;5;241m1\u001b[39m, \u001b[38;5;241m1\u001b[39m, gridspec_kw \u001b[38;5;241m=\u001b[39m {\u001b[38;5;124m'\u001b[39m\u001b[38;5;124mwspace\u001b[39m\u001b[38;5;124m'\u001b[39m:\u001b[38;5;241m0.05\u001b[39m, \u001b[38;5;124m'\u001b[39m\u001b[38;5;124mhspace\u001b[39m\u001b[38;5;124m'\u001b[39m:\u001b[38;5;241m0.17\u001b[39m},figsize\u001b[38;5;241m=\u001b[39m(\u001b[38;5;241m8\u001b[39m,\u001b[38;5;241m8\u001b[39m))\n\u001b[1;32m      2\u001b[0m colors \u001b[38;5;241m=\u001b[39m  sns\u001b[38;5;241m.\u001b[39mcolor_palette(\u001b[38;5;124m\"\u001b[39m\u001b[38;5;124mhls\u001b[39m\u001b[38;5;124m\"\u001b[39m, \u001b[38;5;241m8\u001b[39m)\n\u001b[1;32m      4\u001b[0m cbarx \u001b[38;5;241m=\u001b[39m \u001b[38;5;241m0.141\u001b[39m\n",
      "\u001b[0;31mNameError\u001b[0m: name 'plt' is not defined"
     ]
    }
   ],
   "source": [
    "f, ax = plt.subplots(1, 1, gridspec_kw = {'wspace':0.05, 'hspace':0.17},figsize=(8,8))\n",
    "colors =  sns.color_palette(\"hls\", 8)\n",
    "\n",
    "cbarx = 0.141\n",
    "cbheight = 0.02\n",
    "cbary = 0.9\n",
    "cblen = 0.35\n",
    "dx1 = 0.4\n",
    "\n",
    "dMassFlux_num = np.zeros((xval.shape[0],arr.shape[0]))\n",
    "dMassFlux_den = np.zeros((xval.shape[0],arr.shape[0]))\n",
    "\n",
    "\n",
    "Gamma = 0.15\n",
    "xcrit = np.log(Gamma)\n",
    "xhigh = 1.*xcrit\n",
    "xlow  = 1.5*xcrit\n",
    "xval  = np.linspace(xlow, xhigh, 20)\n",
    "cmap  = plt.get_cmap('jet',xval.shape[0])\n",
    "\n",
    "arr  = np.linspace(1.,int(rmax/r0),200)\n",
    "a_scale = r0*arr\n",
    "\n",
    "frac_diss  = np.zeros((xval.shape[0]))\n",
    "i = 0\n",
    "for x in xval:\n",
    "    frac_diss= integrate.odeint(dfHI_da_fSA, 0.0, arr[1:], args=(Gamma, x, r0/v0, G0, Sigma0))\n",
    "    \n",
    "    dMassFlux_num[j,i] = integrate.quad(dMassFlux_fSA, xlow, x, \\\n",
    "                                            args=(Gamma, a, r0/v0, G0, Sigma0, True, M))[0]\n",
    "    dMassFlux_den[j,i] = integrate.quad(dMassFlux_fSA, xlow, x, \\\n",
    "                                            args=(Gamma, a, r0/v0, G0, Sigma0, False, M))[0]\n",
    "    \n",
    "    ax.plot(a_scale[1:]/kpc, frac_diss, lw=3.0, color=cmap(i))\n",
    "    i+=1\n",
    "    \n",
    "ax.set_xlabel('r [kpc]')\n",
    "# ax.set_xlim(0.0, 0.7)\n",
    "ax.set_ylabel(r'$\\mathcal{F}_\\mathrm{HI}$', fontsize=30)\n",
    "ax.set_yscale('log')\n",
    "norm = mpl.colors.Normalize(vmin=xlow,vmax=xhigh)\n",
    "sm = plt.cm.ScalarMappable(cmap=cmap, norm=norm)\n",
    "sm.set_array([])\n",
    "plt.colorbar(sm, ticks=xval,pad=0.01, location='right')"
   ]
  },
  {
   "cell_type": "code",
   "execution_count": null,
   "id": "362c50ac",
   "metadata": {},
   "outputs": [],
   "source": []
  }
 ],
 "metadata": {
  "kernelspec": {
   "display_name": "Python 3 (ipykernel)",
   "language": "python",
   "name": "python3"
  },
  "language_info": {
   "codemirror_mode": {
    "name": "ipython",
    "version": 3
   },
   "file_extension": ".py",
   "mimetype": "text/x-python",
   "name": "python",
   "nbconvert_exporter": "python",
   "pygments_lexer": "ipython3",
   "version": "3.9.12"
  }
 },
 "nbformat": 4,
 "nbformat_minor": 5
}

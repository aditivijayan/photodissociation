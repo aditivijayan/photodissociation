{
 "cells": [
  {
   "cell_type": "code",
   "execution_count": 1,
   "id": "b18b4407",
   "metadata": {},
   "outputs": [],
   "source": [
    "import seaborn as sns\n",
    "import matplotlib as mpl\n",
    "import _init_\n",
    "from constants import *\n",
    "from set_path import *\n",
    "from config import *\n",
    "from functions import *\n",
    "from isothermal_func import *\n",
    "import scipy.integrate as integrate\n",
    "from mpl_toolkits.axes_grid1 import make_axes_locatable\n",
    "from matplotlib.cm import ScalarMappable"
   ]
  },
  {
   "cell_type": "code",
   "execution_count": 2,
   "id": "a36df7aa",
   "metadata": {},
   "outputs": [],
   "source": [
    "cbarx = 0.141\n",
    "cbheight = 0.02\n",
    "cbary = 0.9\n",
    "cblen = 0.35\n",
    "dx1 = 0.4\n"
   ]
  },
  {
   "cell_type": "code",
   "execution_count": 3,
   "id": "6aa18143",
   "metadata": {},
   "outputs": [
    {
     "data": {
      "text/plain": [
       "(-3.3011022787786, 9.478378378378378e-18)"
      ]
     },
     "execution_count": 3,
     "metadata": {},
     "output_type": "execute_result"
    }
   ],
   "source": [
    "f_diss = 0.1\n",
    "X = 0.74 \n",
    "F0 = 2.1e7\n",
    "G0 = 2. * f_diss * F0 * mp/X\n",
    "r0 = 250. * pc\n",
    "v0 = 170. * kmps\n",
    "t0 = r0/v0\n",
    "Mach = 1.e3\n",
    "Sigma0        = 52.*Msun_pcsq\n",
    "rmax = 10. * kpc\n",
    "tdyn = rmax/v0\n",
    "sat_time = (Sigma0/G0)/Myr\n",
    "xi_sol = np.log(G0*t0/Sigma0)\n",
    "xi_sol, G0"
   ]
  },
  {
   "cell_type": "markdown",
   "id": "86740157",
   "metadata": {},
   "source": [
    "# Intermediate Area"
   ]
  },
  {
   "cell_type": "code",
   "execution_count": 26,
   "id": "745b0974",
   "metadata": {},
   "outputs": [
    {
     "name": "stdout",
     "output_type": "stream",
     "text": [
      "0\n",
      "1\n",
      "2\n",
      "3\n",
      "4\n",
      "5\n",
      "6\n",
      "7\n",
      "8\n",
      "9\n",
      "10\n",
      "11\n",
      "12\n",
      "13\n",
      "14\n",
      "15\n",
      "16\n",
      "17\n",
      "18\n",
      "19\n"
     ]
    }
   ],
   "source": [
    "Gamma = np.logspace(-2, 2., 20)\n",
    "xi_arr = np.linspace(-11, 7., 20) #xi = np.log(t0*G0/Sigma0)\n",
    "\n",
    "a = 40.\n",
    "\n",
    "dMassFluxHI_Int = np.zeros((xi_arr.shape[0], Gamma.shape[0]))\n",
    "dMassFluxtot_Int = np.zeros((xi_arr.shape[0], Gamma.shape[0]))\n",
    "i = j =0 \n",
    "for xi in xi_arr:\n",
    "    j=0\n",
    "    for gamma in Gamma:\n",
    "        xcrit = np.log(gamma)\n",
    "        xlow = -10.\n",
    "        if(xcrit<0.0):\n",
    "            xhigh = 1.01*xcrit\n",
    "        else:\n",
    "            xhigh = 0.99*xcrit\n",
    "        xi1 = 10.**xi\n",
    "\n",
    "        \n",
    "        dMassFluxHI_Int[i,j] = integrate.dblquad(IsodMassFlux_HI, 1, a, xlow, xhigh,   \\\n",
    "                                            args=(gamma, xi1, Mach, 1))[0]\n",
    "        dMassFluxtot_Int[i,j] = integrate.quad(IsodMassFlux_tot, xlow, xhigh,   \\\n",
    "                                            args=(gamma,  Mach, 1))[0]\n",
    "\n",
    "        \n",
    "        \n",
    "        j+=1\n",
    "    print(i)        \n",
    "    i+=1\n"
   ]
  },
  {
   "cell_type": "code",
   "execution_count": 27,
   "id": "dbd4dd83",
   "metadata": {},
   "outputs": [
    {
     "data": {
      "text/plain": [
       "(0.9999999999975289, 0.0)"
      ]
     },
     "execution_count": 27,
     "metadata": {},
     "output_type": "execute_result"
    }
   ],
   "source": [
    "dMassFlux_Int = dMassFluxHI_Int/dMassFluxtot_Int\n",
    "IsoFH2_flux_Int = 1. - dMassFlux_Int\n",
    "IsoFH2_flux_Int[IsoFH2_flux_Int<0.0] = 0.0\n",
    "IsoFH2_flux_Int[IsoFH2_flux_Int>1.0] = 1.0\n",
    "np.amax(IsoFH2_flux_Int),np.amin(IsoFH2_flux_Int)"
   ]
  },
  {
   "cell_type": "code",
   "execution_count": 28,
   "id": "f2821802",
   "metadata": {},
   "outputs": [
    {
     "data": {
      "text/plain": [
       "array([[0.99999999, 0.99999999, 1.        , 1.        , 1.        ,\n",
       "        1.        , 1.        , 1.        , 1.        , 1.        ,\n",
       "        1.        , 1.        , 1.        , 1.        , 1.        ,\n",
       "        1.        , 1.        , 1.        , 1.        , 1.        ],\n",
       "       [0.99999992, 0.99999995, 0.99999997, 0.99999998, 0.99999999,\n",
       "        0.99999999, 1.        , 1.        , 1.        , 1.        ,\n",
       "        1.        , 1.        , 1.        , 1.        , 1.        ,\n",
       "        1.        , 1.        , 1.        , 1.        , 1.        ],\n",
       "       [0.99999928, 0.99999955, 0.99999972, 0.99999983, 0.99999989,\n",
       "        0.99999993, 0.99999996, 0.99999997, 0.99999998, 0.99999999,\n",
       "        0.99999999, 1.        , 1.        , 1.        , 1.        ,\n",
       "        1.        , 1.        , 1.        , 1.        , 1.        ],\n",
       "       [0.99999362, 0.99999605, 0.99999754, 0.99999847, 0.99999905,\n",
       "        0.99999941, 0.99999963, 0.99999977, 0.99999985, 0.99999991,\n",
       "        0.99999994, 0.99999996, 0.99999998, 0.99999998, 0.99999999,\n",
       "        0.99999999, 1.        , 1.        , 1.        , 1.        ],\n",
       "       [0.99994187, 0.99996395, 0.99997741, 0.99998595, 0.99999125,\n",
       "        0.99999454, 0.99999658, 0.99999785, 0.99999864, 0.99999914,\n",
       "        0.99999946, 0.99999966, 0.99999978, 0.99999986, 0.99999991,\n",
       "        0.99999994, 0.99999996, 0.99999997, 0.99999998, 0.99999998],\n",
       "       [0.99948017, 0.99967761, 0.99979984, 0.99987557, 0.99992251,\n",
       "        0.99995164, 0.99996973, 0.99998098, 0.99998799, 0.99999235,\n",
       "        0.99999518, 0.99999697, 0.99999806, 0.99999874, 0.99999916,\n",
       "        0.99999944, 0.99999961, 0.99999973, 0.99999981, 0.99999986],\n",
       "       [0.99539504, 0.99714403, 0.99822689, 0.9988977 , 0.99931354,\n",
       "        0.99957156, 0.99973183, 0.99983151, 0.99989358, 0.99993218,\n",
       "        0.99995725, 0.99997312, 0.99998279, 0.9999888 , 0.99999259,\n",
       "        0.99999501, 0.99999658, 0.9999976 , 0.99999829, 0.99999876],\n",
       "       [0.95920662, 0.97469997, 0.98429265, 0.99023506, 0.99391889,\n",
       "        0.99620461, 0.99762438, 0.9985074 , 0.99905723, 0.99939917,\n",
       "        0.99962122, 0.99976191, 0.99984757, 0.99990081, 0.99993437,\n",
       "        0.99995579, 0.99996966, 0.99997878, 0.99998487, 0.99998901],\n",
       "       [0.6479993 , 0.77952389, 0.86227455, 0.91405141, 0.94634803,\n",
       "        0.96646468, 0.9789899 , 0.98677754, 0.99164838, 0.99467751,\n",
       "        0.99664452, 0.99789082, 0.99864965, 0.99912133, 0.99941859,\n",
       "        0.9996084 , 0.99973127, 0.99981201, 0.99986595, 0.99990264],\n",
       "       [0.        , 0.        , 0.        , 0.27595789, 0.53967515,\n",
       "        0.70890062, 0.8162833 , 0.88397033, 0.92647382, 0.95304954,\n",
       "        0.97035652, 0.98134807, 0.98805185, 0.9922226 , 0.9948526 ,\n",
       "        0.9965325 , 0.99762022, 0.9983351 , 0.99881249, 0.99913748],\n",
       "       [0.        , 0.        , 0.        , 0.        , 0.        ,\n",
       "        0.        , 0.        , 0.0426132 , 0.37892479, 0.59746169,\n",
       "        0.74294814, 0.83700816, 0.89513099, 0.93155062, 0.9546163 ,\n",
       "        0.96939053, 0.97897456, 0.98528146, 0.98949908, 0.99236999],\n",
       "       [0.        , 0.        , 0.        , 0.        , 0.        ,\n",
       "        0.        , 0.        , 0.        , 0.        , 0.        ,\n",
       "        0.        , 0.        , 0.13649578, 0.42472549, 0.61329597,\n",
       "        0.73669327, 0.81790379, 0.87188605, 0.90824976, 0.93313821],\n",
       "       [0.        , 0.        , 0.        , 0.        , 0.        ,\n",
       "        0.        , 0.        , 0.        , 0.        , 0.        ,\n",
       "        0.        , 0.        , 0.        , 0.        , 0.        ,\n",
       "        0.        , 0.        , 0.        , 0.25958552, 0.45151336],\n",
       "       [0.        , 0.        , 0.        , 0.        , 0.        ,\n",
       "        0.        , 0.        , 0.        , 0.        , 0.        ,\n",
       "        0.        , 0.        , 0.        , 0.        , 0.        ,\n",
       "        0.        , 0.        , 0.        , 0.        , 0.        ],\n",
       "       [0.        , 0.        , 0.        , 0.        , 0.        ,\n",
       "        0.        , 0.        , 0.        , 0.        , 0.        ,\n",
       "        0.        , 0.        , 0.        , 0.        , 0.        ,\n",
       "        0.        , 0.        , 0.        , 0.        , 0.        ],\n",
       "       [0.        , 0.        , 0.        , 0.        , 0.        ,\n",
       "        0.        , 0.        , 0.        , 0.        , 0.        ,\n",
       "        0.        , 0.        , 0.        , 0.        , 0.        ,\n",
       "        0.        , 0.        , 0.        , 0.        , 0.        ],\n",
       "       [0.        , 0.        , 0.        , 0.        , 0.        ,\n",
       "        0.        , 0.        , 0.        , 0.        , 0.        ,\n",
       "        0.        , 0.        , 0.        , 0.        , 0.        ,\n",
       "        0.        , 0.        , 0.        , 0.        , 0.        ],\n",
       "       [0.        , 0.        , 0.        , 0.        , 0.        ,\n",
       "        0.        , 0.        , 0.        , 0.        , 0.        ,\n",
       "        0.        , 0.        , 0.        , 0.        , 0.        ,\n",
       "        0.        , 0.        , 0.        , 0.        , 0.        ],\n",
       "       [0.        , 0.        , 0.        , 0.        , 0.        ,\n",
       "        0.        , 0.        , 0.        , 0.        , 0.        ,\n",
       "        0.        , 0.        , 0.        , 0.        , 0.        ,\n",
       "        0.        , 0.        , 0.        , 0.        , 0.        ],\n",
       "       [0.        , 0.        , 0.        , 0.        , 0.        ,\n",
       "        0.        , 0.        , 0.        , 0.        , 0.        ,\n",
       "        0.        , 0.        , 0.        , 0.        , 0.        ,\n",
       "        0.        , 0.        , 0.        , 0.        , 0.        ]])"
      ]
     },
     "execution_count": 28,
     "metadata": {},
     "output_type": "execute_result"
    }
   ],
   "source": [
    "IsoFH2_flux_Int"
   ]
  },
  {
   "cell_type": "code",
   "execution_count": 30,
   "id": "68c752be",
   "metadata": {},
   "outputs": [
    {
     "data": {
      "text/plain": [
       "(0.9999999999999916, 0.0)"
      ]
     },
     "execution_count": 30,
     "metadata": {},
     "output_type": "execute_result"
    }
   ],
   "source": [
    "Gamma = np.logspace(-2, 2., 100)\n",
    "xi_arr = np.linspace(-11, 7., 100) #xi = np.log(t0*G0/Sigma0)\n",
    "\n",
    "\n",
    "a = 40.\n",
    "\n",
    "dMassFluxHI_Int = np.zeros((xi_arr.shape[0], Gamma.shape[0]))\n",
    "dMassFluxtot_Int = np.zeros((xi_arr.shape[0], Gamma.shape[0]))\n",
    "i = j =0 \n",
    "for xi in xi_arr:\n",
    "    j=0\n",
    "    for gamma in Gamma:\n",
    "        xcrit = np.log(gamma)\n",
    "        xlow = -10\n",
    "        if(xcrit<0.0):\n",
    "            xhigh = 1.01*xcrit\n",
    "        else:\n",
    "            xhigh = 0.99*xcrit\n",
    "        xi1 = 10.**xi\n",
    "\n",
    "        dMassFluxHI_Int[i,j] = integrate.quad(dMassFlux_HI,xlow, xhigh,   \\\n",
    "                                            args=(a, gamma, xi1, Mach, 1))[0]\n",
    "\n",
    "        dMassFluxtot_Int[i,j] = integrate.quad(dMassFlux_tot, xlow, xhigh,  \\\n",
    "                                            args=(a, gamma, Mach, 1))[0] \n",
    "\n",
    "        \n",
    "        \n",
    "        j+=1\n",
    "            \n",
    "    i+=1\n",
    "dMassFlux_Int = dMassFluxHI_Int/dMassFluxtot_Int\n",
    "FH2_flux_Int = 1. - dMassFlux_Int\n",
    "FH2_flux_Int[FH2_flux_Int<0.0] = 0.0\n",
    "np.amax(FH2_flux_Int),np.amin(FH2_flux_Int)"
   ]
  },
  {
   "cell_type": "markdown",
   "id": "b4953c0f",
   "metadata": {},
   "source": [
    "# Constnat Solid Angle"
   ]
  },
  {
   "cell_type": "code",
   "execution_count": 46,
   "id": "3e3a49b1",
   "metadata": {},
   "outputs": [
    {
     "data": {
      "text/plain": [
       "(0.999999999999897, 0.0)"
      ]
     },
     "execution_count": 46,
     "metadata": {},
     "output_type": "execute_result"
    }
   ],
   "source": [
    "Gamma = np.logspace(-2, 2., 50)\n",
    "xi_arr = np.linspace(-11, 7., 50) #xi = np.log(t0*G0/Sigma0)\n",
    "\n",
    "sat_rate = 1./sat_time\n",
    "\n",
    "a = rmax/r0\n",
    "\n",
    "dMassFluxHI_SA = np.zeros((xi_arr.shape[0], Gamma.shape[0]))\n",
    "dMassFluxtot_SA = np.zeros((xi_arr.shape[0], Gamma.shape[0]))\n",
    "i = j =0 \n",
    "for xi in xi_arr:\n",
    "    j=0\n",
    "    for gamma in Gamma:\n",
    "        xcrit = np.log(gamma)\n",
    "        xlow = -10\n",
    "        xcrit = np.log(gamma)\n",
    "        xlow = -10\n",
    "        if(xcrit<0.0):\n",
    "            xhigh = 1.01*xcrit\n",
    "        else:\n",
    "            xhigh = 0.99*xcrit\n",
    "        xi1 = 10.**xi\n",
    "\n",
    "        dMassFluxHI_SA[i,j] = integrate.quad(IsodMassFlux_HI,xlow, xhigh,   \\\n",
    "                                            args=(a, gamma, xi1, Mach, 2))[0]\n",
    "\n",
    "        dMassFluxtot_SA[i,j] = integrate.quad(IsodMassFlux_tot, xlow, xhigh,  \\\n",
    "                                            args=(gamma,  Mach, 2))[0] \n",
    "        \n",
    "        \n",
    "        j+=1\n",
    "            \n",
    "    i+=1\n",
    "\n",
    "dMassFlux_SA = dMassFluxHI_SA/dMassFluxtot_SA\n",
    "IsoFH2_flux_SA = 1. - dMassFlux_SA\n",
    "IsoFH2_flux_SA[IsoFH2_flux_SA<0.0] = 0.0\n",
    "IsoFH2_flux_SA[IsoFH2_flux_SA>1.0] = 1.0\n",
    "np.amax(IsoFH2_flux_SA),np.amin(IsoFH2_flux_SA)"
   ]
  },
  {
   "cell_type": "code",
   "execution_count": 45,
   "id": "4ef097d4",
   "metadata": {},
   "outputs": [
    {
     "data": {
      "text/plain": [
       "(0.9999999999998972, 0.0)"
      ]
     },
     "execution_count": 45,
     "metadata": {},
     "output_type": "execute_result"
    }
   ],
   "source": [
    "Gamma = np.logspace(-2, 2., 50)\n",
    "xi_arr = np.linspace(-11, 7., 50) #xi = np.log(t0*G0/Sigma0)\n",
    "\n",
    "a = 40.\n",
    "\n",
    "dMassFluxHI_SA = np.zeros((xi_arr.shape[0], Gamma.shape[0]))\n",
    "dMassFluxtot_SA = np.zeros((xi_arr.shape[0], Gamma.shape[0]))\n",
    "i = j =0 \n",
    "for xi in xi_arr:\n",
    "    j=0\n",
    "    for gamma in Gamma:\n",
    "        xcrit = np.log(gamma)\n",
    "        xlow = -10\n",
    "        xcrit = np.log(gamma)\n",
    "        xlow = -10\n",
    "        if(xcrit<0.0):\n",
    "            xhigh = 1.01*xcrit\n",
    "        else:\n",
    "            xhigh = 0.99*xcrit\n",
    "        xi1 = 10.**xi\n",
    "\n",
    "        dMassFluxHI_SA[i,j] = integrate.quad(dMassFlux_HI,xlow, xhigh,   \\\n",
    "                                            args=(a, gamma, xi1, Mach, 2))[0]\n",
    "\n",
    "        dMassFluxtot_SA[i,j] = integrate.quad(dMassFlux_tot, xlow, xhigh,  \\\n",
    "                                            args=(a, gamma,  Mach, 2))[0] \n",
    "\n",
    "        \n",
    "        \n",
    "        j+=1\n",
    "            \n",
    "    i+=1\n",
    "\n",
    "dMassFlux_SA = dMassFluxHI_SA/dMassFluxtot_SA\n",
    "FH2_flux_SA = 1. - dMassFlux_SA\n",
    "FH2_flux_SA[FH2_flux_SA<0.0] = 0.0\n",
    "np.amax(FH2_flux_SA),np.amin(FH2_flux_SA)"
   ]
  },
  {
   "cell_type": "code",
   "execution_count": 38,
   "id": "be1c008d",
   "metadata": {},
   "outputs": [
    {
     "name": "stderr",
     "output_type": "stream",
     "text": [
      "No artists with labels found to put in legend.  Note that artists whose label start with an underscore are ignored when legend() is called with no argument.\n",
      "No artists with labels found to put in legend.  Note that artists whose label start with an underscore are ignored when legend() is called with no argument.\n"
     ]
    },
    {
     "data": {
      "image/png": "[encoded data removed]",
      "text/plain": [
       "<Figure size 1296x576 with 4 Axes>"
      ]
     },
     "metadata": {
      "needs_background": "light"
     },
     "output_type": "display_data"
    }
   ],
   "source": [
    "fig, ax = plt.subplots(1, 2, gridspec_kw = {'wspace':0.01, 'hspace':0.00},figsize=(18,8))\n",
    "\n",
    "cbarx    = 0.155\n",
    "cbheight = 0.04\n",
    "cbary = 0.89\n",
    "cblen = 0.7\n",
    "dx1 = 0.4\n",
    "cbtitlex = 0.1\n",
    "colors =  sns.color_palette(\"Spectral\", 8, as_cmap=True)\n",
    "\n",
    "\n",
    "Gamma = np.logspace(-2, 2., 100)\n",
    "xi_arr = np.linspace(-11, 7., 100) #xi = np.log(t0*G0/Sigma0)\n",
    "\n",
    "\n",
    "plot = ax[0].pcolormesh(10.**xi_arr, Gamma, np.transpose(FH2_flux_Int),\\\n",
    "                    vmin=0., vmax=1.,\n",
    "                    cmap=colors)\n",
    "cax = fig.add_axes([cbarx, cbary, cblen, cbheight])\n",
    "fig.colorbar(plot, cax=cax, orientation='horizontal', ticks=(0.0, 0.2, 0.4, 0.6, 0.8, 1.))\n",
    "cax.xaxis.set_ticks_position('top')\n",
    "# cax.set_title(r\" $\\mathcal{F}_{\\rm H_2, flux}^{\\rm asym}$\")\n",
    "ax[0].set_xlim(2.e-11, 1.e7)\n",
    "ax[0].set_ylim(1.2e-2, 1.e2)\n",
    "ax[0].set_yscale('log')\n",
    "ax[0].set_xscale('log')\n",
    "ax[0].set_ylabel(r'$\\Gamma$', fontsize=30)\n",
    "ax[0].set_xlabel(r'$\\xi$', fontsize=30)\n",
    "ax[0].tick_params(axis='y', which='both', labelleft=True, right=True, left=True)\n",
    "\n",
    "\n",
    "\n",
    "Gamma = np.logspace(-2, 2., 20)\n",
    "xi_arr = np.linspace(-11, 7., 20) #xi = np.log(t0*G0/Sigma0)\n",
    "\n",
    "\n",
    "plot = ax[1].pcolormesh(10.**xi_arr, Gamma, np.transpose(IsoFH2_flux_Int),\\\n",
    "                    vmin=0., vmax=1.,\n",
    "                    cmap=colors)\n",
    "cax = fig.add_axes([cbarx, cbary, cblen, cbheight])\n",
    "fig.colorbar(plot, cax=cax, orientation='horizontal', ticks=(0.0, 0.2, 0.4, 0.6, 0.8, 1.))\n",
    "cax.xaxis.set_ticks_position('top')\n",
    "cax.set_title(r\" $\\mathcal{F}_{\\rm H_2}$\", fontsize=30)\n",
    "ax[1].set_xlim(3.e-11, 1.e7)\n",
    "ax[1].set_ylim(1.2e-2, 1.e2)\n",
    "ax[1].set_yscale('log')\n",
    "ax[1].set_xscale('log')\n",
    "ax[1].yaxis.tick_right()\n",
    "ax[1].set_ylabel(r'$\\Gamma$', fontsize=30, rotation=270, labelpad=30)\n",
    "ax[1].yaxis.set_label_position(\"right\")\n",
    "ax[1].set_xlabel(r'$\\xi$', fontsize=30)\n",
    "ax[1].tick_params(axis='y', which='both', labelleft=False, labelright=True, right=True, left=True)\n",
    "\n",
    "# ax[0].text(0.1, 0.8,'By Flux', transform=ax[0].transAxes, color='white', fontsize=26)\n",
    "# ax[1].text(0.1, 0.8,'By Mass', transform=ax[1].transAxes, color='white', fontsize=26)\n",
    "\n",
    "slope = 1.2\n",
    "yy =  ( xi_arr * slope -1.4) \n",
    "ax[0].plot(10.**xi_arr, 10.**yy, color='red', ls='--', lw=2.)\n",
    "\n",
    "\n",
    "slope = 1.2\n",
    "yy =  ( xi_arr * slope +1.5) \n",
    "ax[1].plot(10.**xi_arr, 10.**yy, color='red', ls='--', lw=2.)\n",
    "# ax[0].legend(loc='lower right', fontsize=\"30\")\n",
    "\n",
    "\n",
    "\n",
    "# for i in range(xi_data.shape[0]):\n",
    "#     if(galtype[i]=='Starburst'):\n",
    "#         if(i==3):\n",
    "#             ax[0].plot(10.**xi_data[i], gamma_data[i], '*', color='gold', markersize='12',label='Starburst')\n",
    "#         else:\n",
    "#             ax[0].plot(10.**xi_data[i], gamma_data[i], '*', color='gold', markersize='14')\n",
    "#             ax[1].plot(10.**xi_data[i], gamma_data[i], '*', color='gold', markersize='14')\n",
    "#     else:\n",
    "#         if(i==16):\n",
    "#             ax[0].plot(10.**xi_data[i], gamma_data[i], 'o', color='black', markersize='6')\n",
    "#             ax[1].plot(10.**xi_data[i], gamma_data[i], 'o', color='black', markersize='6', alpha=0.7,\\\n",
    "#                        label='Non-SB')\n",
    "#         else:\n",
    "#             ax[0].plot(10.**xi_data[i], gamma_data[i], 'o', color='black', markersize='6', alpha=0.5)\n",
    "#             ax[1].plot(10.**xi_data[i], gamma_data[i], 'o', color='black', markersize='6', alpha=0.5)\n",
    "\n",
    "ax[0].legend(loc='upper left', fontsize=\"24\", frameon=False)\n",
    "ax[1].legend(loc='upper left', fontsize=\"24\", frameon=False)\n",
    "\n",
    "ax[0].text(0.1, 0.7,'INTERMEDIATE', transform=ax[0].transAxes, color='white', fontsize=20)\n",
    "ax[0].text(0.7, 0.1,'Point Source', transform=ax[0].transAxes, color='white', fontsize=20)\n",
    "ax[1].text(0.7, 0.1,'Isothermal', transform=ax[1].transAxes, color='white', fontsize=20)\n",
    "\n",
    "\n",
    "\n",
    "# ax[1].legend(loc='upper left', fontsize=\"26\")\n",
    "file_name = os.path.join(fig_path, 'gamma_xi_gals_SA_int.jpeg')\n",
    "# plt.savefig(file_name, bbox_inches='tight', dpi=160 )\n"
   ]
  },
  {
   "cell_type": "code",
   "execution_count": 47,
   "id": "c5a27636",
   "metadata": {},
   "outputs": [
    {
     "name": "stderr",
     "output_type": "stream",
     "text": [
      "No artists with labels found to put in legend.  Note that artists whose label start with an underscore are ignored when legend() is called with no argument.\n",
      "No artists with labels found to put in legend.  Note that artists whose label start with an underscore are ignored when legend() is called with no argument.\n"
     ]
    },
    {
     "data": {
      "image/png": "[encoded data removed]",
      "text/plain": [
       "<Figure size 1296x576 with 4 Axes>"
      ]
     },
     "metadata": {
      "needs_background": "light"
     },
     "output_type": "display_data"
    }
   ],
   "source": [
    "fig, ax = plt.subplots(1, 2, gridspec_kw = {'wspace':0.01, 'hspace':0.00},figsize=(18,8))\n",
    "\n",
    "cbarx    = 0.155\n",
    "cbheight = 0.04\n",
    "cbary = 0.89\n",
    "cblen = 0.7\n",
    "dx1 = 0.4\n",
    "cbtitlex = 0.1\n",
    "colors =  sns.color_palette(\"Spectral\", 8, as_cmap=True)\n",
    "\n",
    "\n",
    "Gamma = np.logspace(-2, 2., 50)\n",
    "xi_arr = np.linspace(-11, 7., 50) #xi = np.log(t0*G0/Sigma0)\n",
    "\n",
    "plot = ax[0].pcolormesh(10.**xi_arr, Gamma, np.transpose(FH2_flux_SA),\\\n",
    "                    vmin=0., vmax=1.,\n",
    "                    cmap=colors)\n",
    "cax = fig.add_axes([cbarx, cbary, cblen, cbheight])\n",
    "fig.colorbar(plot, cax=cax, orientation='horizontal', ticks=(0.0, 0.2, 0.4, 0.6, 0.8, 1.))\n",
    "cax.xaxis.set_ticks_position('top')\n",
    "# cax.set_title(r\" $\\mathcal{F}_{\\rm H_2, flux}^{\\rm asym}$\")\n",
    "ax[0].set_xlim(2.e-11, 1.e7)\n",
    "ax[0].set_ylim(1.2e-2, 1.e2)\n",
    "ax[0].set_yscale('log')\n",
    "ax[0].set_xscale('log')\n",
    "ax[0].set_ylabel(r'$\\Gamma$', fontsize=30)\n",
    "ax[0].set_xlabel(r'$\\xi$', fontsize=30)\n",
    "ax[0].tick_params(axis='y', which='both', labelleft=True, right=True, left=True)\n",
    "\n",
    "\n",
    "Gamma = np.logspace(-2, 2., 50)\n",
    "xi_arr = np.linspace(-11, 7., 50) #xi = np.log(t0*G0/Sigma0)\n",
    "\n",
    "plot = ax[1].pcolormesh(10.**xi_arr, Gamma, np.transpose((IsoFH2_flux_SA)),\\\n",
    "                    vmin=0., vmax=1.,\n",
    "                    cmap=colors)\n",
    "cax = fig.add_axes([cbarx, cbary, cblen, cbheight])\n",
    "fig.colorbar(plot, cax=cax, orientation='horizontal', ticks=(0.0, 0.2, 0.4, 0.6, 0.8, 1.))\n",
    "cax.xaxis.set_ticks_position('top')\n",
    "cax.set_title(r\" $\\mathcal{F}_{\\rm H_2}$\", fontsize=30)\n",
    "ax[1].set_xlim(3.e-11, 1.e7)\n",
    "ax[1].set_ylim(1.2e-2, 1.e2)\n",
    "ax[1].set_yscale('log')\n",
    "ax[1].set_xscale('log')\n",
    "ax[1].yaxis.tick_right()\n",
    "ax[1].set_ylabel(r'$\\Gamma$', fontsize=30, rotation=270, labelpad=30)\n",
    "ax[1].yaxis.set_label_position(\"right\")\n",
    "ax[1].set_xlabel(r'$\\xi$', fontsize=30)\n",
    "ax[1].tick_params(axis='y', which='both', labelleft=False, labelright=True, right=True, left=True)\n",
    "\n",
    "# ax[0].text(0.1, 0.8,'By Flux', transform=ax[0].transAxes, color='white', fontsize=26)\n",
    "# ax[1].text(0.1, 0.8,'By Mass', transform=ax[1].transAxes, color='white', fontsize=26)\n",
    "\n",
    "\n",
    "slope = 1.2\n",
    "yy =  ( xi_arr * slope -0.2) \n",
    "ax[1].plot(10.**xi_arr, 10.**yy, color='red', ls='--', lw=2.)\n",
    "# ax[0].legend(loc='lower right', fontsize=\"30\")\n",
    "\n",
    "slope = 1.2\n",
    "yy =  ( xi_arr * slope -0.2) \n",
    "ax[0].plot(10.**xi_arr, 10.**yy, color='red', ls='--', lw=2.)\n",
    "\n",
    "\n",
    "\n",
    "# for i in range(xi_data.shape[0]):\n",
    "#     if(galtype[i]=='Starburst'):\n",
    "#         if(i==3):\n",
    "#             ax[0].plot(10.**xi_data[i], gamma_data[i], '*', color='gold', markersize='12',label='Starburst')\n",
    "#         else:\n",
    "#             ax[0].plot(10.**xi_data[i], gamma_data[i], '*', color='gold', markersize='14')\n",
    "#             ax[1].plot(10.**xi_data[i], gamma_data[i], '*', color='gold', markersize='14')\n",
    "#     else:\n",
    "#         if(i==16):\n",
    "#             ax[0].plot(10.**xi_data[i], gamma_data[i], 'o', color='black', markersize='6')\n",
    "#             ax[1].plot(10.**xi_data[i], gamma_data[i], 'o', color='black', markersize='6', alpha=0.7,\\\n",
    "#                        label='Non-SB')\n",
    "#         else:\n",
    "#             ax[0].plot(10.**xi_data[i], gamma_data[i], 'o', color='black', markersize='6', alpha=0.5)\n",
    "#             ax[1].plot(10.**xi_data[i], gamma_data[i], 'o', color='black', markersize='6', alpha=0.5)\n",
    "\n",
    "ax[0].legend(loc='upper left', fontsize=\"24\", frameon=False)\n",
    "ax[1].legend(loc='upper left', fontsize=\"24\", frameon=False)\n",
    "\n",
    "# ax[0].text(0.7, 0.1,'Intermediate', transform=ax[0].transAxes, color='white', fontsize=20)\n",
    "# ax[1].text(0.7, 0.1,'Solid Angle', transform=ax[1].transAxes, color='white', fontsize=20)\n",
    "\n",
    "\n",
    "\n",
    "# ax[1].legend(loc='upper left', fontsize=\"26\")\n",
    "file_name = os.path.join(fig_path, 'gamma_xi_gals_SA_int.jpeg')\n",
    "# plt.savefig(file_name, bbox_inches='tight', dpi=160 )\n"
   ]
  },
  {
   "cell_type": "code",
   "execution_count": null,
   "id": "bdb00f37",
   "metadata": {},
   "outputs": [],
   "source": []
  }
 ],
 "metadata": {
  "kernelspec": {
   "display_name": "Python 3 (ipykernel)",
   "language": "python",
   "name": "python3"
  },
  "language_info": {
   "codemirror_mode": {
    "name": "ipython",
    "version": 3
   },
   "file_extension": ".py",
   "mimetype": "text/x-python",
   "name": "python",
   "nbconvert_exporter": "python",
   "pygments_lexer": "ipython3",
   "version": "3.9.21"
  }
 },
 "nbformat": 4,
 "nbformat_minor": 5
}

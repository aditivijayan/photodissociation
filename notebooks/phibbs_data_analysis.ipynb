{
 "cells": [
  {
   "cell_type": "code",
   "execution_count": 2,
   "id": "744034c9",
   "metadata": {},
   "outputs": [],
   "source": [
    "import seaborn as sns\n",
    "import matplotlib as mpl\n",
    "import _init_\n",
    "from constants import *\n",
    "from set_path import *\n",
    "from config import *\n",
    "from functions import *\n",
    "import scipy.integrate as integrate\n",
    "import matplotlib.colors as mcolors\n",
    "import matplotlib.cm"
   ]
  },
  {
   "cell_type": "code",
   "execution_count": 3,
   "id": "eca46b15",
   "metadata": {},
   "outputs": [],
   "source": [
    "import pandas as pd"
   ]
  },
  {
   "cell_type": "markdown",
   "id": "192e7124",
   "metadata": {},
   "source": [
    "# Data from PHIBBS"
   ]
  },
  {
   "cell_type": "code",
   "execution_count": 4,
   "id": "57426328",
   "metadata": {},
   "outputs": [],
   "source": [
    "phibbs = os.path.join(data_path, 'PHIBSS__paper_catalog.csv')\n",
    "df = pd.read_csv(phibbs)"
   ]
  },
  {
   "cell_type": "code",
   "execution_count": 5,
   "id": "745aa30d",
   "metadata": {},
   "outputs": [
    {
     "data": {
      "text/plain": [
       "<bound method NDFrame.keys of        Target            RA          DEC    Field     Line     z_CO  log(M_*)  \\\n",
       "0        4339  14:20:21.900  +53:02:22.2      EGS  CO(3-2)  1.44000      10.8   \n",
       "1        XL55   12:37:10.56  +62:11:40.7  GOODS-N  CO(2-1)  0.78802      10.5   \n",
       "2        8632  14:19:49.100  +52:56:39.2      EGS  CO(3-2)  1.22900      10.7   \n",
       "3        XF53   09:58:33.86  +02:19:50.9   COSMOS  CO(2-1)  0.50198      11.1   \n",
       "4    L14GN008   12:36:07.83  +62:12:00.6  GOODS-N  CO(2-1)  0.50276      10.3   \n",
       "..        ...           ...          ...      ...      ...      ...       ...   \n",
       "149      XV53   10:01:43.66  +02:48:09.4   COSMOS  CO(2-1)  0.62351      10.8   \n",
       "150  L14EG009   14:20:04.88  +52:59:38.8      EGS  CO(2-1)  0.73586      10.1   \n",
       "151  L14EG008   14:19:39.46  +52:52:33.6      EGS  CO(2-1)  0.73160      10.9   \n",
       "152      XB54   14:19:37.26  +52:51:03.4      EGS  CO(2-1)  0.66997      11.4   \n",
       "153      XB55   12:36:08.13  +62:10:35.9  GOODS-N  CO(2-1)  0.67910       NaN   \n",
       "\n",
       "     log(M_mol)  Delta MS  log(SFR) Type   R_e  FWHM    SNR  Binsize  \n",
       "0          10.7      0.20       1.9  NaN   3.0   249   5.40       36  \n",
       "1          10.4      0.25       1.3  NaN   6.6   385   1.20       55  \n",
       "2          10.5      0.25       1.9  NaN   1.9   221   3.73       32  \n",
       "3          10.5      0.08       1.3  NaN   6.9   546   2.08       78  \n",
       "4           9.9     -0.27       0.7  NaN   6.4   160   3.01       23  \n",
       "..          ...       ...       ...  ...   ...   ...    ...      ...  \n",
       "149        10.5      0.24       1.4  NaN   1.6   489   4.45       70  \n",
       "150        10.3      0.14       1.0  NaN   3.0   211   3.66       30  \n",
       "151        10.6      0.72       1.9  NaN   7.9   234  10.43       33  \n",
       "152        10.5      0.26       1.5  AGN  37.9    84   8.13       12  \n",
       "153         NaN       NaN       NaN  AGN   NaN    20   4.52        3  \n",
       "\n",
       "[154 rows x 15 columns]>"
      ]
     },
     "execution_count": 5,
     "metadata": {},
     "output_type": "execute_result"
    }
   ],
   "source": [
    "df.keys"
   ]
  },
  {
   "cell_type": "code",
   "execution_count": 11,
   "id": "02127d24",
   "metadata": {},
   "outputs": [],
   "source": [
    "log_Mstar = df['log(M_*)']\n",
    "Re = df['R_e']\n",
    "log_Mgas = df['log(M_mol)']\n",
    "log_SFR = df['log(SFR)']\n",
    "zCO = df['z_CO']"
   ]
  },
  {
   "cell_type": "code",
   "execution_count": 32,
   "id": "082a610d",
   "metadata": {},
   "outputs": [
    {
     "ename": "NameError",
     "evalue": "name 'siggas_tdyn' is not defined",
     "output_type": "error",
     "traceback": [
      "\u001b[0;31m---------------------------------------------------------------------------\u001b[0m",
      "\u001b[0;31mNameError\u001b[0m                                 Traceback (most recent call last)",
      "Cell \u001b[0;32mIn[32], line 10\u001b[0m\n\u001b[1;32m      8\u001b[0m \u001b[38;5;66;03m# gamma_data = sigSFR * p_avg * tdyn**2/(16. * math.pi**3 * r0**2 * siggas)\u001b[39;00m\n\u001b[1;32m      9\u001b[0m G0 \u001b[38;5;241m=\u001b[39m \u001b[38;5;241m1.\u001b[39m \u001b[38;5;241m*\u001b[39m \u001b[38;5;241m9.478378378378378e-18\u001b[39m \n\u001b[0;32m---> 10\u001b[0m xi_data \u001b[38;5;241m=\u001b[39m np\u001b[38;5;241m.\u001b[39mlog(G0\u001b[38;5;241m/\u001b[39m\u001b[43msiggas_tdyn\u001b[49m)\n",
      "\u001b[0;31mNameError\u001b[0m: name 'siggas_tdyn' is not defined"
     ]
    }
   ],
   "source": [
    "fg = 0.1\n",
    "sigSFR = 10.**(log_SFR)*Msun/yr_to_sec\n",
    "p_avg = 3.e3 * 1.e5\n",
    "G = 6.67e-8\n",
    "siggas = 10.**(log_Mgas)*Msun\n",
    "# siggas_tdyn = 10.**(log_siggas_tdyn)*Msun/yr_to_sec/pc/pc/1.e6\n",
    "gamma_data = 2. * fg * sigSFR * p_avg/(math.pi * G * (siggas**2.))\n",
    "# gamma_data = sigSFR * p_avg * tdyn**2/(16. * math.pi**3 * r0**2 * siggas)\n",
    "G0 = 1. * 9.478378378378378e-18 \n",
    "xi_data = np.log(G0/siggas_tdyn)"
   ]
  },
  {
   "cell_type": "code",
   "execution_count": 14,
   "id": "ab379c2a",
   "metadata": {},
   "outputs": [
    {
     "data": {
      "text/plain": [
       "(-11.0, 4.296801042633825e-21)"
      ]
     },
     "execution_count": 14,
     "metadata": {},
     "output_type": "execute_result"
    }
   ],
   "source": [
    "\n",
    "tdyn = rmax/v0\n",
    "sat_time = (Sigma0/G0)/Myr\n",
    "xi_sol = np.log(G0*t0/Sigma0)\n",
    "xi_sol, G0"
   ]
  },
  {
   "cell_type": "code",
   "execution_count": 11,
   "id": "9c8b7f12",
   "metadata": {},
   "outputs": [],
   "source": [
    "# Gamma = np.logspace(-3, np.log10(2.), 100)\n",
    "# xi_arr = np.logspace(-5, 3., 100) #xi = (chi0*Sigma0*t0/Sigma0)\n",
    "Gamma = np.logspace(-2, 2., 100)\n",
    "xi_arr = np.linspace(-11, 7., 100) #xi = np.log(t0*G0/Sigma0)\n",
    "\n",
    "\n",
    "a = rmax/r0\n",
    "\n",
    "dMassFluxHI = np.zeros((xi_arr.shape[0], Gamma.shape[0]))\n",
    "dMassFluxtot = np.zeros((xi_arr.shape[0], Gamma.shape[0]))\n",
    "i = j =0 \n",
    "for xi in xi_arr:\n",
    "    j=0\n",
    "    for gamma in Gamma:\n",
    "        xcrit = np.log(gamma)\n",
    "        xlow = -10\n",
    "        if(xcrit<0.0):\n",
    "            xhigh = 1.01*xcrit\n",
    "        else:\n",
    "            xhigh = 0.99*xcrit\n",
    "        xi1 = 10.**xi\n",
    "        dMassFluxHI[i,j] = integrate.quad(dMassFlux_HI,xlow, xhigh,   \\\n",
    "                                            args=(a, gamma, xi1, Mach, 0))[0]\n",
    "\n",
    "        dMassFluxtot[i,j] = integrate.quad(dMassFlux_tot, xlow, xhigh,  \\\n",
    "                                            args=(a, gamma,  Mach, 0))[0] \n",
    "\n",
    "        \n",
    "    \n",
    "        j+=1\n",
    "            \n",
    "    i+=1\n"
   ]
  },
  {
   "cell_type": "code",
   "execution_count": 12,
   "id": "ec1d273d",
   "metadata": {},
   "outputs": [
    {
     "data": {
      "text/plain": [
       "(0.9999999999986802, 0.0)"
      ]
     },
     "execution_count": 12,
     "metadata": {},
     "output_type": "execute_result"
    }
   ],
   "source": [
    "dMassFlux = dMassFluxHI/dMassFluxtot\n",
    "FH2_flux = 1. - dMassFlux\n",
    "FH2_flux[FH2_flux<0.0] = 0.0\n",
    "np.amax(FH2_flux),np.amin(FH2_flux)"
   ]
  },
  {
   "cell_type": "code",
   "execution_count": 13,
   "id": "b6904928",
   "metadata": {},
   "outputs": [
    {
     "name": "stderr",
     "output_type": "stream",
     "text": [
      "/var/folders/bh/gk6r7v913g3dxj455c079xyh0000gq/T/ipykernel_43984/1750870501.py:29: RuntimeWarning: invalid value encountered in log10\n",
      "  yy =  (np.log10(xi_arr) * slope + 1.05)\n"
     ]
    },
    {
     "data": {
      "image/png": "[encoded data removed]",
      "text/plain": [
       "<Figure size 1000x800 with 2 Axes>"
      ]
     },
     "metadata": {},
     "output_type": "display_data"
    }
   ],
   "source": [
    "fig, ax = plt.subplots(1, 1, gridspec_kw = {'wspace':0.01, 'hspace':0.00},figsize=(10,8))\n",
    "\n",
    "cbarx    = 0.155\n",
    "cbheight = 0.04\n",
    "cbary = 0.89\n",
    "cblen = 0.7\n",
    "dx1 = 0.4\n",
    "cbtitlex = 0.1\n",
    "colors =  sns.color_palette(\"Spectral\", 8, as_cmap=True)\n",
    "\n",
    "plot = ax.pcolormesh(10.**xi_arr, Gamma, np.transpose(FH2_flux),\\\n",
    "                    vmin=0., vmax=1.,\n",
    "                    cmap=colors)\n",
    "cax = fig.add_axes([cbarx, cbary, cblen, cbheight])\n",
    "fig.colorbar(plot, cax=cax, orientation='horizontal', ticks=(0.0, 0.2, 0.4, 0.6, 0.8, 1.))\n",
    "cax.xaxis.set_ticks_position('top')\n",
    "cax.set_title(r\" $\\mathcal{F}_{\\rm H_2}$\", fontsize=30)\n",
    "# ax.set_xlim(1.e-5, 1.e3)\n",
    "# ax.set_ylim(3.e-3, 2.)\n",
    "ax.set_xlim(3.e-11, 1.e7)\n",
    "ax.set_ylim(1.2e-2, 1.e2)\n",
    "ax.set_yscale('log')\n",
    "ax.set_xscale('log')\n",
    "ax.set_ylabel(r'$\\Gamma$', fontsize=30)\n",
    "ax.set_xlabel(r'$\\xi$', fontsize=30)\n",
    "ax.tick_params(axis='y', which='both', labelleft=True, right=True, left=True)\n",
    "\n",
    "slope = 1.\n",
    "yy =  (np.log10(xi_arr) * slope + 1.05) \n",
    "# ax.plot(xi_arr, 10.**yy, color='black', ls='--', lw=2., label=r'$\\Gamma \\propto \\xi$')\n",
    "# ax.legend(loc='lower right', fontsize=\"30\")\n",
    "\n",
    "# file_name = os.path.join(fig_path, 'gamma_xi.jpeg')\n",
    "# plt.savefig(file_name, bbox_inches='tight', dpi=160 )\n"
   ]
  },
  {
   "cell_type": "code",
   "execution_count": null,
   "id": "cc79b982",
   "metadata": {},
   "outputs": [],
   "source": []
  }
 ],
 "metadata": {
  "kernelspec": {
   "display_name": "Python 3 (ipykernel)",
   "language": "python",
   "name": "python3"
  },
  "language_info": {
   "codemirror_mode": {
    "name": "ipython",
    "version": 3
   },
   "file_extension": ".py",
   "mimetype": "text/x-python",
   "name": "python",
   "nbconvert_exporter": "python",
   "pygments_lexer": "ipython3",
   "version": "3.9.21"
  }
 },
 "nbformat": 4,
 "nbformat_minor": 5
}

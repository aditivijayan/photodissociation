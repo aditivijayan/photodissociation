{
 "cells": [
  {
   "cell_type": "code",
   "execution_count": 2,
   "id": "c0955814",
   "metadata": {},
   "outputs": [],
   "source": [
    "import seaborn as sns\n",
    "import matplotlib as mpl\n",
    "import _init_\n",
    "from constants import *\n",
    "from set_path import *\n",
    "from config import *\n",
    "from functions import *\n",
    "import scipy.integrate as integrate"
   ]
  },
  {
   "cell_type": "code",
   "execution_count": 3,
   "id": "986e8492",
   "metadata": {},
   "outputs": [],
   "source": [
    "f_diss = 0.1\n",
    "X = 0.74 \n",
    "F0 = 2.1e7\n",
    "G0 = 2. * f_diss * F0 * mp/X\n",
    "r0 = 250. * pc\n",
    "v0 = 170. * kmps\n",
    "Sigma0        = 52.*Msun_pcsq"
   ]
  },
  {
   "cell_type": "markdown",
   "id": "ca0e1975",
   "metadata": {},
   "source": [
    "# Getting Mass Flux Ratio for clouds with fixed area"
   ]
  },
  {
   "cell_type": "code",
   "execution_count": 40,
   "id": "49fc5cc4",
   "metadata": {},
   "outputs": [
    {
     "name": "stderr",
     "output_type": "stream",
     "text": [
      "/Users/aditivijayan/Projects/PhotoIonization/lib/functions.py:6: RuntimeWarning: invalid value encountered in sqrt\n",
      "  Ua_x =  ((gamma * np.exp(-x)-1.) * (a-1.)/a)**0.5 + 1.e-10 #fixed area\n",
      "/Users/aditivijayan/Projects/PhotoIonization/lib/functions.py:57: RuntimeWarning: invalid value encountered in sqrt\n",
      "  prefac = 2. * G0 * t0 * np.exp(-x)/Sigma0/np.sqrt(gamma*np.exp(-x)-1.)\n"
     ]
    }
   ],
   "source": [
    "Gamma = 0.2\n",
    "xcrit = np.log(Gamma)\n",
    "xhigh = 1.*xcrit\n",
    "xlow  = 1.5*xcrit\n",
    "xval  = np.linspace(xlow, xhigh, 20)\n",
    "arr = (1.3*kpc/r0)\n",
    "u_ax = Uax_fAr(arr, Gamma, xval)\n",
    "frac_diss  = np.zeros(xval.shape[0])\n",
    "i = 0\n",
    "for x in xval:\n",
    "    frac_diss[i]= fHI_anly(arr, Gamma, x, r0/v0, G0, Sigma0)\n",
    "    i+=1"
   ]
  },
  {
   "cell_type": "code",
   "execution_count": 50,
   "id": "55da5569",
   "metadata": {},
   "outputs": [],
   "source": [
    "M = 4.01\n",
    "rmax = 10.0 * kpc\n",
    "arr  = np.linspace(1.,int(rmax/r0),200)\n",
    "xval  = np.linspace(xlow, xhigh, 20)\n",
    "dMassFlux_num = np.zeros((arr.shape[0]))\n",
    "dMassFlux_den = np.zeros((arr.shape[0]))\n",
    "i=0\n",
    "\n",
    "for a in arr:\n",
    "    dMassFlux_num[i] = integrate.quad(dMassFlux_fAr, xlow, xhigh, \\\n",
    "                                        args=(Gamma, a, r0/v0, G0, Sigma0, True, M))[0]\n",
    "    dMassFlux_den[i] = integrate.quad(dMassFlux_fAr, xlow, xhigh, \\\n",
    "                                        args=(Gamma, a, r0/v0, G0, Sigma0, False, M))[0]\n",
    "    i+=1\n",
    "\n",
    "dMassFlux = dMassFlux_num/dMassFlux_den"
   ]
  },
  {
   "cell_type": "code",
   "execution_count": 52,
   "id": "b33c19b6",
   "metadata": {},
   "outputs": [
    {
     "data": {
      "text/plain": [
       "Text(0.5, 1.0, '$\\\\Gamma=$0.2, $\\\\mathcal{M}=4$')"
      ]
     },
     "execution_count": 52,
     "metadata": {},
     "output_type": "execute_result"
    },
    {
     "data": {
      "image/png": "[encoded data removed]",
      "text/plain": [
       "<Figure size 576x576 with 1 Axes>"
      ]
     },
     "metadata": {
      "needs_background": "light"
     },
     "output_type": "display_data"
    }
   ],
   "source": [
    "f, ax = plt.subplots(1, 1, gridspec_kw = {'wspace':0.05, 'hspace':0.17},figsize=(8,8))\n",
    "colors =  sns.color_palette(\"hls\", 8)\n",
    "\n",
    "cbarx = 0.141\n",
    "cbheight = 0.02\n",
    "cbary = 0.9\n",
    "cblen = 0.35\n",
    "dx1 = 0.4\n",
    "cmap  = plt.get_cmap('jet',xval.shape[0])\n",
    "a_scale = r0*arr\n",
    "\n",
    "ax.plot(a_scale/kpc, dMassFlux, lw=3.0, color='navy')\n",
    "    \n",
    "ax.set_xlabel('r [kpc]')\n",
    "ax.set_ylim(0.2, 1.)\n",
    "ax.set_ylabel(r'$\\mathcal{F}_\\mathrm{HI}$', fontsize=30)\n",
    "ax.set_yscale('log')\n",
    "ax.set_title(r'$\\Gamma=$%.1f'%(Gamma) + r', $\\mathcal{M}=%d$'%(M))"
   ]
  },
  {
   "cell_type": "code",
   "execution_count": null,
   "id": "9e2965a9",
   "metadata": {},
   "outputs": [],
   "source": []
  }
 ],
 "metadata": {
  "kernelspec": {
   "display_name": "Python 3 (ipykernel)",
   "language": "python",
   "name": "python3"
  },
  "language_info": {
   "codemirror_mode": {
    "name": "ipython",
    "version": 3
   },
   "file_extension": ".py",
   "mimetype": "text/x-python",
   "name": "python",
   "nbconvert_exporter": "python",
   "pygments_lexer": "ipython3",
   "version": "3.9.12"
  }
 },
 "nbformat": 4,
 "nbformat_minor": 5
}

{
 "cells": [
  {
   "cell_type": "markdown",
   "id": "93c3a6e5",
   "metadata": {},
   "source": [
    "# Code for Adding GalType to Kennicutt98a"
   ]
  },
  {
   "cell_type": "code",
   "execution_count": 3,
   "id": "b20531f6",
   "metadata": {},
   "outputs": [],
   "source": [
    "import seaborn as sns\n",
    "import matplotlib as mpl\n",
    "import _init_\n",
    "from constants import *\n",
    "from set_path import *\n",
    "from config import *\n",
    "from functions import *\n",
    "import scipy.integrate as integrate\n",
    "import matplotlib.colors as mcolors\n",
    "import matplotlib.cm\n",
    "import glob"
   ]
  },
  {
   "cell_type": "code",
   "execution_count": 2,
   "id": "15f949eb",
   "metadata": {},
   "outputs": [],
   "source": [
    "data_home = os.path.join(home, \"Data/\")"
   ]
  },
  {
   "cell_type": "code",
   "execution_count": 3,
   "id": "4dad73b7",
   "metadata": {},
   "outputs": [],
   "source": [
    "# Kennicutt ULIRGs and starbursts\n",
    "sigmag_kennicutt=[]\n",
    "sigmasfr_kennicutt=[]\n",
    "galtype_kennicutt=[]\n",
    "tdyn_kennicutt = []\n",
    "\n",
    "loc = os.path.join(data_home,'kennicutt98a.1txt.txt' )\n",
    "fp = open(loc)\n",
    "for line in fp:\n",
    "    if line[0]=='#':\n",
    "        continue\n",
    "    if line[0]=='\\n':\n",
    "        continue\n",
    "    spl=line.split()\n",
    "    if spl[2]=='-1':\n",
    "        continue\n",
    "    sigmag_kennicutt.append(10.0**float(spl[0]))\n",
    "    sigmasfr_kennicutt.append(10.0**float(spl[1]))\n",
    "    tdyn_kennicutt.append(10.0**float(spl[2]))\n",
    "    if sigmag_kennicutt[-1] < 1e3:\n",
    "        galtype_kennicutt.append('Intermediate')\n",
    "    else:\n",
    "        galtype_kennicutt.append('Starburst')\n",
    "fp.close()\n",
    "sigmag_kennicutt = np.asarray(sigmag_kennicutt)\n",
    "sigmasfr_kennicutt = np.asarray(sigmasfr_kennicutt)\n",
    "tdyn_kennicutt = np.asarray(tdyn_kennicutt)"
   ]
  },
  {
   "cell_type": "code",
   "execution_count": 4,
   "id": "2254727a",
   "metadata": {},
   "outputs": [],
   "source": [
    "sigmag_kennicutt_cgs = sigmag_kennicutt * Msun_pcsq\n",
    "tdyn_kennicutt_cgs = tdyn_kennicutt * Myr\n",
    "sigmasfr_kennicutt_cgs = sigmasfr_kennicutt * Msun_pcsq/Myr\n",
    "sigmag_tdyn_kenni = sigmag_kennicutt/tdyn_kennicutt"
   ]
  },
  {
   "cell_type": "code",
   "execution_count": 5,
   "id": "fc53931a",
   "metadata": {},
   "outputs": [],
   "source": [
    "\n",
    "\n",
    "combined_data = list(zip(np.log10(sigmag_kennicutt), np.log10(sigmasfr_kennicutt),\\\n",
    "                            np.log10(sigmag_tdyn_kenni), galtype_kennicutt))\n",
    "\n",
    "# File path\n",
    "file_path = data_home+'kennicutt98a.txt'\n",
    "\n",
    "# Open the file in write mode ('w')\n",
    "with open(file_path, 'w') as file:\n",
    "    file.write(\"# SigGas # SigSFR #SigGas_tdyn #GalType \\n\")\n",
    "    # Write column-wise data to the file\n",
    "    for column in combined_data:\n",
    "        n0 = '{:.3f}'.format(column[0])\n",
    "        n1 = '{:.3f}'.format(column[1])\n",
    "        n2 = '{:.3f}'.format(column[2])\n",
    "        file.write(f'{n0}\\t{n1}\\t{n2}\\t{column[3]}\\n')"
   ]
  },
  {
   "cell_type": "code",
   "execution_count": 37,
   "id": "c25d91e9",
   "metadata": {},
   "outputs": [],
   "source": [
    "# Kennicutt spirals\n",
    "\n",
    "sigmag_kennicutt98b  =[]\n",
    "sigmasfr_kennicutt98b=[]\n",
    "galtype_kennicutt98b =[]\n",
    "tdyn_kennicutt98b    = []\n",
    "\n",
    "\n",
    "loc = os.path.join(data_home,'kennicutt98b.txt' )\n",
    "fp = open(loc)\n",
    "for line in fp:\n",
    "    if line[0]=='#':\n",
    "        continue\n",
    "    if line[0]=='\\n':\n",
    "        continue\n",
    "    spl=line.split()\n",
    "    if spl[2]=='-1':\n",
    "        continue\n",
    "    sigmag_kennicutt98b.append(10.0**float(spl[0]))\n",
    "    sigmasfr_kennicutt98b.append(10.0**float(spl[1]))\n",
    "    tdyn_kennicutt98b.append(float(spl[2]))\n",
    "    galtype_kennicutt98b.append('Local')\n",
    "\n",
    "sigmag_kennicutt98b = np.asarray(sigmag_kennicutt98b)\n",
    "sigmasfr_kennicutt98b = np.asarray(sigmasfr_kennicutt98b)\n",
    "tdyn_kennicutt98b = np.asarray(tdyn_kennicutt98b)"
   ]
  },
  {
   "cell_type": "code",
   "execution_count": 38,
   "id": "52f499c6",
   "metadata": {},
   "outputs": [],
   "source": [
    "sigmag_kennicutt98b_cgs = sigmag_kennicutt98b * Msun_pcsq\n",
    "tdyn_kennicutt98b_cgs = tdyn_kennicutt98b * 1.e2 * Myr  #Kennicutt 98b tdyn is in 1.e8 yr\n",
    "sigmasfr_kennicutt98b_cgs = sigmasfr_kennicutt98b * Msun_pcsq/Myr\n",
    "sigmag_tdyn_kennicutt98b = sigmag_kennicutt98b/(tdyn_kennicutt98b_cgs/Myr)"
   ]
  },
  {
   "cell_type": "code",
   "execution_count": 39,
   "id": "7a5a3a25",
   "metadata": {},
   "outputs": [],
   "source": [
    "\n",
    "\n",
    "combined_data = list(zip(np.log10(sigmag_kennicutt98b), np.log10(sigmasfr_kennicutt98b),\\\n",
    "                            np.log10(sigmag_tdyn_kennicutt98b), galtype_kennicutt98b))\n",
    "\n",
    "# File path\n",
    "file_path = data_home+'CleanData/kennicutt98b.txt'\n",
    "\n",
    "# Open the file in write mode ('w')\n",
    "with open(file_path, 'w') as file:\n",
    "    file.write(\"# SigGas # SigSFR #SigGas_tdyn #GalType \\n\")\n",
    "    # Write column-wise data to the file\n",
    "    for column in combined_data:\n",
    "        n0 = '{:.3f}'.format(column[0])\n",
    "        n1 = '{:.3f}'.format(column[1])\n",
    "        n2 = '{:.3f}'.format(column[2])\n",
    "        file.write(f'{n0}\\t{n1}\\t{n2}\\t{column[3]}\\n')"
   ]
  },
  {
   "cell_type": "code",
   "execution_count": 40,
   "id": "73f6a853",
   "metadata": {},
   "outputs": [
    {
     "data": {
      "text/plain": [
       "array([-1.98275783, -1.57205999, -1.95762709, -1.95332286, -0.97103   ,\n",
       "       -1.95923172, -1.66406804, -1.23411998, -1.63136169, -1.13394335,\n",
       "       -1.58136376, -1.25794001, -1.79205999, -1.50136376, -1.62514998,\n",
       "       -1.29851394, -1.53019608, -1.35242268, -1.44514998, -1.41712125,\n",
       "       -1.46106461, -1.15406804, -2.09124124, -1.45712125, -1.47124124,\n",
       "       -1.51321251, -1.87514998, -1.54324929, -1.42851394, -1.472398  ,\n",
       "       -1.70600334, -1.84147892, -0.68411998, -2.08897   , -1.84209786,\n",
       "       -1.63715803, -1.61242268, -1.50406804, -1.37136376, -1.44406804,\n",
       "       -1.56514998, -2.14794001, -1.46514998, -1.78136376, -1.95649073,\n",
       "       -1.4097836 , -1.06147892, -0.74715803, -1.85448267, -1.38497335,\n",
       "       -1.172398  , -1.34044892, -1.45820172, -1.24406804, -1.68342799])"
      ]
     },
     "execution_count": 40,
     "metadata": {},
     "output_type": "execute_result"
    }
   ],
   "source": [
    "np.log10(sigmag_tdyn_kennicutt98b)"
   ]
  },
  {
   "cell_type": "code",
   "execution_count": 5,
   "id": "1c7c0566",
   "metadata": {},
   "outputs": [
    {
     "data": {
      "text/plain": [
       "array([10.18108 ,  6.18137 , 12.72635 , 12.799072,  9.162972])"
      ]
     },
     "execution_count": 5,
     "metadata": {},
     "output_type": "execute_result"
    }
   ],
   "source": [
    "arcmin_to_radian = 0.000290888\n",
    "#name = [NGC 3486, NGC 4294, NGC 4651, NGC 5055,  NGC 6217]\n",
    "dia = np.asarray([7., 2.5, 3.5,  11.0, 3.0])\n",
    "distance = np.asarray([10., 17.0, 25.0, 8.0, 21.0])*1.e3\n",
    "radius = dia*arcmin_to_radian/2.\n",
    "radius_kpc = radius * distance\n",
    "radius_kpc"
   ]
  },
  {
   "cell_type": "code",
   "execution_count": null,
   "id": "a9143f21",
   "metadata": {},
   "outputs": [],
   "source": []
  }
 ],
 "metadata": {
  "kernelspec": {
   "display_name": "Python 3 (ipykernel)",
   "language": "python",
   "name": "python3"
  },
  "language_info": {
   "codemirror_mode": {
    "name": "ipython",
    "version": 3
   },
   "file_extension": ".py",
   "mimetype": "text/x-python",
   "name": "python",
   "nbconvert_exporter": "python",
   "pygments_lexer": "ipython3",
   "version": "3.9.12"
  }
 },
 "nbformat": 4,
 "nbformat_minor": 5
}

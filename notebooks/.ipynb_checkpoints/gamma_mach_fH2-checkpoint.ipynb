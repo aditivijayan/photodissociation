{
 "cells": [
  {
   "cell_type": "code",
   "execution_count": 1,
   "id": "56934aff",
   "metadata": {},
   "outputs": [],
   "source": [
    "import seaborn as sns\n",
    "import matplotlib as mpl\n",
    "import _init_\n",
    "from constants import *\n",
    "from set_path import *\n",
    "from config import *\n",
    "from functions import *\n",
    "import scipy.integrate as integrate\n",
    "import matplotlib.colors as mcolors\n",
    "import matplotlib.cm"
   ]
  },
  {
   "cell_type": "code",
   "execution_count": 17,
   "id": "161daa45",
   "metadata": {},
   "outputs": [
    {
     "data": {
      "text/plain": [
       "(-3.118780721984645, 38.242852004077065, 53258823529411.766)"
      ]
     },
     "execution_count": 17,
     "metadata": {},
     "output_type": "execute_result"
    }
   ],
   "source": [
    "f_diss = 0.1\n",
    "X = 0.74 \n",
    "F0 = 2.1e7\n",
    "G0 = 1. * 2. * f_diss * F0 * mp/X\n",
    "r0 = 300. * pc\n",
    "v0 = 170. * kmps\n",
    "t0 = r0/v0\n",
    "Sigma0        = 52.*Msun_pcsq\n",
    "sat_rate = (G0/Sigma0 )\n",
    "sat_time = 1./sat_rate/Myr\n",
    "xi = np.log(G0*t0/Sigma0)\n",
    "xi, sat_time, t0"
   ]
  },
  {
   "cell_type": "markdown",
   "id": "6fd4c679",
   "metadata": {},
   "source": [
    "# Fixed Area"
   ]
  },
  {
   "cell_type": "code",
   "execution_count": 31,
   "id": "637f3c01",
   "metadata": {
    "scrolled": false
   },
   "outputs": [
    {
     "name": "stderr",
     "output_type": "stream",
     "text": [
      "/var/folders/bh/gk6r7v913g3dxj455c079xyh0000gq/T/ipykernel_57292/3847087500.py:25: IntegrationWarning: The algorithm does not converge.  Roundoff error is detected\n",
      "  in the extrapolation table.  It is assumed that the requested tolerance\n",
      "  cannot be achieved, and that the returned result (if full_output = 1) is \n",
      "  the best which can be obtained.\n",
      "  dMassFluxHI[i,j] = integrate.quad(dMassFlux_HI,xlow, xhigh,   \\\n"
     ]
    }
   ],
   "source": [
    "Mach  = np.logspace(0.1, 4., 100)\n",
    "Gamma = np.logspace(-2, 2., 100)\n",
    "rmax = 10. * kpc\n",
    "\n",
    "a = rmax/r0\n",
    "\n",
    "dMassFluxHI = np.zeros((Mach.shape[0], Gamma.shape[0]))\n",
    "dMassFluxtot = np.zeros((Mach.shape[0], Gamma.shape[0]))\n",
    "\n",
    "i = j =0 \n",
    "\n",
    "for M in Mach:\n",
    "    j=0\n",
    "    for gamma in Gamma:\n",
    "        xcrit = np.log(gamma)\n",
    "        xlow = -10\n",
    "        xhigh = xcrit\n",
    "        \n",
    "        dMassFluxHI[i,j] = integrate.quad(dMassFlux_HI,xlow, xhigh,   \\\n",
    "                                            args=(a, gamma, r0/v0, G0, Sigma0, M, 0))[0]\n",
    "        \n",
    "        dMassFluxtot[i,j] = integrate.quad(dMassFlux_tot, xlow, xhigh,  \\\n",
    "                                            args=(a, gamma, r0/v0, G0, Sigma0, M, 0))[0] \n",
    "        \n",
    "        \n",
    "        j+=1\n",
    "            \n",
    "    i+=1\n",
    "\n"
   ]
  },
  {
   "cell_type": "code",
   "execution_count": 42,
   "id": "82ea0437",
   "metadata": {},
   "outputs": [
    {
     "data": {
      "text/plain": [
       "(0.9943947147753627, 0.0)"
      ]
     },
     "execution_count": 42,
     "metadata": {},
     "output_type": "execute_result"
    }
   ],
   "source": [
    "dMassFlux = dMassFluxHI/dMassFluxtot\n",
    "FH2 = 1. - dMassFlux\n",
    "\n",
    "np.amax(FH2),np.amin(FH2)"
   ]
  },
  {
   "cell_type": "code",
   "execution_count": 44,
   "id": "c1b6ee9c",
   "metadata": {},
   "outputs": [
    {
     "data": {
      "image/png": "[encoded data removed]",
      "text/plain": [
       "<Figure size 576x576 with 2 Axes>"
      ]
     },
     "metadata": {
      "needs_background": "light"
     },
     "output_type": "display_data"
    }
   ],
   "source": [
    "fig, ax = plt.subplots(1, 1, gridspec_kw = {'wspace':0.00, 'hspace':0.00},figsize=(8,8))\n",
    "\n",
    "cbarx    = 0.141\n",
    "cbheight = 0.02\n",
    "cbary = 0.89\n",
    "cblen = 0.7\n",
    "dx1 = 0.4\n",
    "cbtitlex = 0.1\n",
    "colors =  sns.color_palette(\"RdYlBu\", 8, as_cmap=True)\n",
    "\n",
    "plot = ax.pcolormesh(Mach, Gamma, np.transpose(FH2),\\\n",
    "                    vmin=0., vmax=1.,\n",
    "                    cmap=colors)\n",
    "cax = fig.add_axes([cbarx, cbary, cblen, cbheight])\n",
    "fig.colorbar(plot, cax=cax, orientation='horizontal', ticks=(0.0, 0.5 ,1.))\n",
    "cax.xaxis.set_ticks_position('top')\n",
    "cax.set_title(r\" $\\mathcal{F}_{\\rm H_2, flux}^{\\rm asym}$\")\n",
    "ax.set_xlim(1.1, 1.e4)\n",
    "ax.set_xscale('log')\n",
    "ax.set_yscale('log')\n",
    "ax.set_ylabel(r'$\\Gamma$', fontsize=28)\n",
    "ax.set_xlabel(r'$\\mathcal{M}$', fontsize=28)\n",
    "# ax.text(0.4, 0.1,r'$\\mathbb{S}^{-1}=%.f$'%(sat_time) + r' Myr', transform=ax.transAxes, color='white', fontsize=26)\n",
    "file_name = os.path.join(fig_path, 'gamma_Mach.jpeg')\n",
    "plt.savefig(file_name, bbox_inches='tight', dpi=160 )\n"
   ]
  },
  {
   "cell_type": "markdown",
   "id": "2520793a",
   "metadata": {},
   "source": [
    "# Fixed Solid Angle"
   ]
  },
  {
   "cell_type": "code",
   "execution_count": 6,
   "id": "d681e939",
   "metadata": {
    "scrolled": false
   },
   "outputs": [],
   "source": [
    "Mach  = np.logspace(0.1, 4., 20)\n",
    "Gamma = np.linspace(0.1, 0.5, 20)\n",
    "rmax = 10. * kpc\n",
    "\n",
    "a = rmax/r0\n",
    "\n",
    "dMassFluxHI = np.zeros((Mach.shape[0], Gamma.shape[0]))\n",
    "dMassFluxtot = np.zeros((Mach.shape[0], Gamma.shape[0]))\n",
    "\n",
    "i = j =0 \n",
    "\n",
    "for M in Mach:\n",
    "    j=0\n",
    "    for gamma in Gamma:\n",
    "        xcrit = np.log(gamma)\n",
    "        xhigh = 1.*xcrit\n",
    "        xlow  = 1.5*xcrit\n",
    "        dMassFluxHI[i,j] = integrate.dblquad(dMassFlux_HI,1, a, xlow, xhigh,   \\\n",
    "                                            args=(gamma, r0/v0, G0, Sigma0, M, 2))[0]\n",
    "        \n",
    "        dMassFluxtot[i,j] = integrate.dblquad(dMassFlux_tot, 1, a, xlow, xhigh,  \\\n",
    "                                            args=(gamma, r0/v0, G0, Sigma0, M, 2))[0] \n",
    "        \n",
    "        if(dMassFluxtot[i,j]<0.0):\n",
    "            print(\"neg\")\n",
    "        \n",
    "        j+=1\n",
    "            \n",
    "    i+=1\n",
    "\n"
   ]
  },
  {
   "cell_type": "code",
   "execution_count": 7,
   "id": "f552bd4f",
   "metadata": {},
   "outputs": [
    {
     "data": {
      "text/plain": [
       "(0.9707302869303416, 0.8453400147516942)"
      ]
     },
     "execution_count": 7,
     "metadata": {},
     "output_type": "execute_result"
    }
   ],
   "source": [
    "dMassFlux = dMassFluxHI/dMassFluxtot\n",
    "FH2 = 1. - dMassFlux\n",
    "\n",
    "\n",
    "np.amax(FH2),np.amin(FH2)"
   ]
  },
  {
   "cell_type": "code",
   "execution_count": 8,
   "id": "4d02eb8b",
   "metadata": {},
   "outputs": [
    {
     "data": {
      "image/png": "[encoded data removed]",
      "text/plain": [
       "<Figure size 576x576 with 2 Axes>"
      ]
     },
     "metadata": {
      "needs_background": "light"
     },
     "output_type": "display_data"
    }
   ],
   "source": [
    "\n",
    "fig, ax = plt.subplots(1, 1, gridspec_kw = {'wspace':0.00, 'hspace':0.00},figsize=(8,8))\n",
    "\n",
    "cbarx    = 0.141\n",
    "cbheight = 0.02\n",
    "cbary = 0.89\n",
    "cblen = 0.7\n",
    "dx1 = 0.4\n",
    "cbtitlex = 0.1\n",
    "\n",
    "\n",
    "plot = ax.pcolormesh(Mach, Gamma, np.transpose(FH2),\\\n",
    "                    vmin=0.0, vmax=1.,\n",
    "                    cmap='plasma')\n",
    "cax = fig.add_axes([cbarx, cbary, cblen, cbheight])\n",
    "fig.colorbar(plot, cax=cax, orientation='horizontal', ticks=(0., 0.5, 1.))\n",
    "cax.xaxis.set_ticks_position('top')\n",
    "cax.set_title(r\" $\\mathcal{F}_{\\rm {H}_2}^{\\rm asym}$\")\n",
    "ax.set_xlim(1.1, 1.e4)\n",
    "ax.set_xscale('log')\n",
    "ax.set_ylabel(r'$\\Gamma$', fontsize=28)\n",
    "ax.set_xlabel(r'$\\mathcal{M}$', fontsize=28)\n",
    "ax.text(0.4, 0.1,r'$\\mathbb{S}^{-1}=%.3f$'%(sat_time) + r' Myr', transform=ax.transAxes, color='white', fontsize=26)\n",
    "file_name = os.path.join(fig_path, 'gamma_Mach_sinv_38M_fSA.jpeg')\n",
    "# plt.savefig(file_name, bbox_inches='tight', dpi=160 )"
   ]
  },
  {
   "cell_type": "markdown",
   "id": "f10de316",
   "metadata": {},
   "source": [
    "# Intermediate Area Case"
   ]
  },
  {
   "cell_type": "code",
   "execution_count": 12,
   "id": "d0a25554",
   "metadata": {},
   "outputs": [],
   "source": [
    "Mach  = np.logspace(0.1, 4., 20)\n",
    "Gamma = np.linspace(0.1, 0.5, 20)\n",
    "rmax = 10. * kpc\n",
    "\n",
    "a = rmax/r0\n",
    "\n",
    "dMassFluxHI = np.zeros((Mach.shape[0], Gamma.shape[0]))\n",
    "dMassFluxtot = np.zeros((Mach.shape[0], Gamma.shape[0]))\n",
    "\n",
    "i = j =0 \n",
    "\n",
    "for M in Mach:\n",
    "    j=0\n",
    "    for gamma in Gamma:\n",
    "        xcrit = np.log(gamma)\n",
    "        xhigh = 1.*xcrit\n",
    "        xlow  = 1.5*xcrit\n",
    "        dMassFluxHI[i,j] = integrate.dblquad(dMassFlux_HI,1, a, xlow, xhigh,   \\\n",
    "                                            args=(gamma, r0/v0, G0, Sigma0, M, 1))[0]\n",
    "        \n",
    "        dMassFluxtot[i,j] = integrate.dblquad(dMassFlux_tot, 1, a, xlow, xhigh,  \\\n",
    "                                            args=(gamma, r0/v0, G0, Sigma0, M, 1))[0] \n",
    "        \n",
    "    \n",
    "        j+=1\n",
    "            \n",
    "    i+=1\n",
    "\n"
   ]
  },
  {
   "cell_type": "code",
   "execution_count": 13,
   "id": "ee6d3a35",
   "metadata": {},
   "outputs": [
    {
     "data": {
      "text/plain": [
       "(0.9877337795356774, 0.9490898474509638)"
      ]
     },
     "execution_count": 13,
     "metadata": {},
     "output_type": "execute_result"
    }
   ],
   "source": [
    "dMassFlux = dMassFluxHI/dMassFluxtot\n",
    "FH2 = 1. - dMassFlux\n",
    "\n",
    "np.amax(FH2),np.amin(FH2)"
   ]
  },
  {
   "cell_type": "code",
   "execution_count": 14,
   "id": "54d37f08",
   "metadata": {},
   "outputs": [
    {
     "data": {
      "image/png": "[encoded data removed]",
      "text/plain": [
       "<Figure size 576x576 with 2 Axes>"
      ]
     },
     "metadata": {
      "needs_background": "light"
     },
     "output_type": "display_data"
    }
   ],
   "source": [
    "\n",
    "fig, ax = plt.subplots(1, 1, gridspec_kw = {'wspace':0.00, 'hspace':0.00},figsize=(8,8))\n",
    "\n",
    "cbarx    = 0.141\n",
    "cbheight = 0.02\n",
    "cbary = 0.89\n",
    "cblen = 0.7\n",
    "dx1 = 0.4\n",
    "cbtitlex = 0.1\n",
    "\n",
    "\n",
    "plot = ax.pcolormesh(Mach, Gamma, np.transpose(FH2),\\\n",
    "                    vmin=0.0, vmax=1.2,\n",
    "                    cmap='plasma')\n",
    "cax = fig.add_axes([cbarx, cbary, cblen, cbheight])\n",
    "fig.colorbar(plot, cax=cax, orientation='horizontal', ticks=(0., 0.5, 1.))\n",
    "cax.xaxis.set_ticks_position('top')\n",
    "cax.set_title(r\" $\\mathcal{F}_{\\rm {H}_2}^{\\rm asym}$\")\n",
    "ax.set_xlim(1.1, 1.e4)\n",
    "ax.set_xscale('log')\n",
    "ax.set_ylabel(r'$\\Gamma$', fontsize=28)\n",
    "ax.set_xlabel(r'$\\mathcal{M}$', fontsize=28)\n",
    "ax.text(0.4, 0.1,r'$\\mathbb{S}^{-1}=%.f$'%(sat_time) + r' Myr', transform=ax.transAxes, color='white', fontsize=26)\n",
    "file_name = os.path.join(fig_path, 'gamma_Mach_sinv_38M_fSA.jpeg')\n",
    "# plt.savefig(file_name, bbox_inches='tight', dpi=160 )"
   ]
  },
  {
   "cell_type": "code",
   "execution_count": null,
   "id": "1d0e5dca",
   "metadata": {},
   "outputs": [],
   "source": []
  }
 ],
 "metadata": {
  "kernelspec": {
   "display_name": "Python 3 (ipykernel)",
   "language": "python",
   "name": "python3"
  },
  "language_info": {
   "codemirror_mode": {
    "name": "ipython",
    "version": 3
   },
   "file_extension": ".py",
   "mimetype": "text/x-python",
   "name": "python",
   "nbconvert_exporter": "python",
   "pygments_lexer": "ipython3",
   "version": "3.9.12"
  }
 },
 "nbformat": 4,
 "nbformat_minor": 5
}

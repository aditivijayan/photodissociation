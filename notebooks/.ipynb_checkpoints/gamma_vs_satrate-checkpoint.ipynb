{
 "cells": [
  {
   "cell_type": "code",
   "execution_count": 1,
   "id": "d8c62f53",
   "metadata": {},
   "outputs": [],
   "source": [
    "import seaborn as sns\n",
    "import matplotlib as mpl\n",
    "import _init_\n",
    "from constants import *\n",
    "from set_path import *\n",
    "from config import *\n",
    "from functions import *\n",
    "import scipy.integrate as integrate\n",
    "import matplotlib.colors as mcolors\n",
    "import matplotlib.cm"
   ]
  },
  {
   "cell_type": "code",
   "execution_count": 2,
   "id": "6a9f5f6d",
   "metadata": {},
   "outputs": [
    {
     "data": {
      "text/plain": [
       "(-3.3011022787786, 9.478378378378378e-18)"
      ]
     },
     "execution_count": 2,
     "metadata": {},
     "output_type": "execute_result"
    }
   ],
   "source": [
    "f_diss = 0.1\n",
    "X = 0.74 \n",
    "F0 = 2.1e7\n",
    "G0 = 2. * f_diss * F0 * mp/X\n",
    "r0 = 250. * pc\n",
    "v0 = 170. * kmps\n",
    "t0 = r0/v0\n",
    "Mach = 1.e3\n",
    "Sigma0        = 52.*Msun_pcsq\n",
    "rmax = 10. * kpc\n",
    "tdyn = rmax/v0\n",
    "sat_time = (Sigma0/G0)/Myr\n",
    "xi_sol = np.log(G0*t0/Sigma0)\n",
    "xi_sol, G0"
   ]
  },
  {
   "cell_type": "markdown",
   "id": "fa749e15",
   "metadata": {},
   "source": [
    "# Fixed Area Case"
   ]
  },
  {
   "cell_type": "code",
   "execution_count": 3,
   "id": "2ebc45e9",
   "metadata": {},
   "outputs": [],
   "source": [
    "def dMassFlux_Hi_fAr(x, a, gamma, t0, G0, Sigma0, M, p):\n",
    "    pm = getPm(x, M)\n",
    "    fhi = (2. * G0 * t0* np.exp(-x)/Sigma0)/np.sqrt(gamma*np.exp(-x)-1.)\n",
    "    fhi *= np.sqrt((a-1.)/a)\n",
    "    if(fhi>1.):\n",
    "        fhi=1\n",
    "       \n",
    "    uax = np.sqrt((gamma*np.exp(-x) -1)) * np.sqrt((a-1.)/a) \n",
    "    return fhi*pm*uax\n",
    "\n",
    "\n",
    "def dMassFlux_tot_fAr(x, a, gamma, t0, G0, Sigma0, M, p):\n",
    "    pm = getPm(x, M)\n",
    "#     dfhi = np.sqrt((gamma*np.exp(-x) -1)) * np.sqrt((a-1.)/a) * pm\n",
    "    dfhi = Uax_fAr(a, gamma, x) * pm\n",
    "    return dfhi"
   ]
  },
  {
   "cell_type": "code",
   "execution_count": 4,
   "id": "ffc56b70",
   "metadata": {
    "scrolled": false
   },
   "outputs": [
    {
     "data": {
      "text/plain": [
       "(0.9996568102919895, 0.0)"
      ]
     },
     "execution_count": 4,
     "metadata": {},
     "output_type": "execute_result"
    }
   ],
   "source": [
    "Gamma = np.logspace(-2, 2., 20)\n",
    "xi_arr = np.linspace(-5, 5., 20) #xi = np.log(t0*G0/Sigma0)\n",
    "\n",
    "sat_rate = 1./sat_time\n",
    "\n",
    "a = rmax/r0\n",
    "\n",
    "dMassFluxHI = np.zeros((xi_arr.shape[0], Gamma.shape[0]))\n",
    "dMassFluxtot = np.zeros((xi_arr.shape[0], Gamma.shape[0]))\n",
    "i = j =0 \n",
    "for xi in xi_arr:\n",
    "    j=0\n",
    "    for gamma in Gamma:\n",
    "        xcrit = np.log(gamma)\n",
    "        if(xcrit<0.0):\n",
    "            xhigh = 1.*xcrit\n",
    "            xlow  = 1.5*xcrit\n",
    "        else:\n",
    "            xhigh = 1.*xcrit\n",
    "            xlow  = 0.5*xcrit\n",
    "            \n",
    "        G0 = Sigma0*np.exp(xi)/t0\n",
    "    \n",
    "        dMassFluxHI[i,j] = integrate.quad(dMassFlux_HI, xlow, xhigh,   \\\n",
    "                                            args=(a, gamma, r0/v0, G0, Sigma0, Mach, 0))[0]\n",
    "        \n",
    "        dMassFluxtot[i,j] = integrate.quad(dMassFlux_tot, xlow, xhigh,  \\\n",
    "                                            args=(a, gamma, r0/v0, G0, Sigma0, Mach, 0))[0]\n",
    "        \n",
    "        if(np.isnan(dMassFluxHI[i,j])):\n",
    "            print(xlow, xhigh, gamma)\n",
    "        \n",
    "        j+=1\n",
    "            \n",
    "    i+=1\n",
    "\n",
    "dMassFlux = dMassFluxHI/dMassFluxtot\n",
    "FH2_fAr = 1. - dMassFlux\n",
    "np.amax(FH2_fAr),np.amin(FH2_fAr)"
   ]
  },
  {
   "cell_type": "code",
   "execution_count": 16,
   "id": "b6b817ad",
   "metadata": {
    "scrolled": false
   },
   "outputs": [
    {
     "name": "stderr",
     "output_type": "stream",
     "text": [
      "No artists with labels found to put in legend.  Note that artists whose label start with an underscore are ignored when legend() is called with no argument.\n"
     ]
    },
    {
     "data": {
      "image/png": "[encoded data removed]",
      "text/plain": [
       "<Figure size 576x576 with 2 Axes>"
      ]
     },
     "metadata": {
      "needs_background": "light"
     },
     "output_type": "display_data"
    }
   ],
   "source": [
    "fig, ax = plt.subplots(1, 1, gridspec_kw = {'wspace':0.00, 'hspace':0.00},figsize=(8,8))\n",
    "\n",
    "cbarx    = 0.141\n",
    "cbheight = 0.02\n",
    "cbary = 0.89\n",
    "cblen = 0.7\n",
    "dx1 = 0.4\n",
    "cbtitlex = 0.1\n",
    "\n",
    "\n",
    "plot = ax.pcolormesh(xi_arr, Gamma, np.transpose(FH2_fAr),\\\n",
    "                    vmin=0.0, vmax=1.,\n",
    "                    cmap='plasma')\n",
    "cax = fig.add_axes([cbarx, cbary, cblen, cbheight])\n",
    "fig.colorbar(plot, cax=cax, orientation='horizontal', ticks=(0.0, 0.5, 1.))\n",
    "cax.xaxis.set_ticks_position('top')\n",
    "cax.set_title(r\" $\\mathcal{F}_{\\rm H_2}^{\\rm asym}$\")\n",
    "\n",
    "ax.set_ylabel(r'$\\Gamma$', fontsize=28)\n",
    "ax.set_xlabel(r'$\\xi=\\rm{ln}(\\frac{G_0 t_0}{\\Sigma_0})$', fontsize=28)\n",
    "# ax.text(0.56, 0.14,r'$\\mathcal{M}=%.f$'%(Mach), transform=ax.transAxes, color='white', fontsize=26)\n",
    "# ax.axvline(56, ls='--', color='white', label=r'$t_{\\rm dyn}$')\n",
    "ax.legend(loc='lower left', frameon=False, labelcolor='white')\n",
    "file_name = os.path.join(fig_path, 'gamma_Mach_sinv_38M.jpeg')\n",
    "# ax.axvline(xi_sol, ls='--', color='white')\n",
    "ax.set_yscale('log')\n",
    "# plt.savefig(file_name, bbox_inches='tight', dpi=160 )"
   ]
  },
  {
   "cell_type": "markdown",
   "id": "42d13aa8",
   "metadata": {},
   "source": [
    "# Fixed Solid Angle Case"
   ]
  },
  {
   "cell_type": "code",
   "execution_count": 1,
   "id": "20195cfd",
   "metadata": {},
   "outputs": [
    {
     "ename": "NameError",
     "evalue": "name 'np' is not defined",
     "output_type": "error",
     "traceback": [
      "\u001b[0;31m---------------------------------------------------------------------------\u001b[0m",
      "\u001b[0;31mNameError\u001b[0m                                 Traceback (most recent call last)",
      "Input \u001b[0;32mIn [1]\u001b[0m, in \u001b[0;36m<cell line: 1>\u001b[0;34m()\u001b[0m\n\u001b[0;32m----> 1\u001b[0m Gamma \u001b[38;5;241m=\u001b[39m \u001b[43mnp\u001b[49m\u001b[38;5;241m.\u001b[39mlogspace(\u001b[38;5;241m-\u001b[39m\u001b[38;5;241m2\u001b[39m, \u001b[38;5;241m2.\u001b[39m, \u001b[38;5;241m20\u001b[39m)\n\u001b[1;32m      2\u001b[0m xi_arr \u001b[38;5;241m=\u001b[39m np\u001b[38;5;241m.\u001b[39mlinspace(\u001b[38;5;241m-\u001b[39m\u001b[38;5;241m5\u001b[39m, \u001b[38;5;241m5.\u001b[39m, \u001b[38;5;241m20\u001b[39m) \u001b[38;5;66;03m#xi = np.log(t0*G0/Sigma0)\u001b[39;00m\n\u001b[1;32m      3\u001b[0m sat_rate \u001b[38;5;241m=\u001b[39m \u001b[38;5;241m1.\u001b[39m\u001b[38;5;241m/\u001b[39msat_time\n",
      "\u001b[0;31mNameError\u001b[0m: name 'np' is not defined"
     ]
    }
   ],
   "source": [
    "Gamma = np.logspace(-2, 2., 20)\n",
    "xi_arr = np.linspace(-5, 5., 20) #xi = np.log(t0*G0/Sigma0)\n",
    "sat_rate = 1./sat_time\n",
    "\n",
    "a = rmax/r0\n",
    "\n",
    "dMassFluxHI = np.zeros((xi_arr.shape[0], Gamma.shape[0]))\n",
    "dMassFluxtot = np.zeros((xi_arr.shape[0], Gamma.shape[0]))\n",
    "i = j =0 \n",
    "for xi in xi_arr:\n",
    "    j=0\n",
    "    for gamma in Gamma:\n",
    "        xcrit = np.log(gamma)\n",
    "        if(xcrit<0.0):\n",
    "            xhigh = 1.*xcrit\n",
    "            xlow  = 1.5*xcrit\n",
    "        else:\n",
    "            xhigh = 1.*xcrit\n",
    "            xlow  = 0.5*xcrit\n",
    "            \n",
    "        G0 = Sigma0*np.exp(xi)/t0\n",
    "        \n",
    "        dMassFluxHI[i,j] = integrate.dblquad(dMassFlux_HI, 1, a, xlow, xhigh,   \\\n",
    "                                            args=(gamma, r0/v0, G0, Sigma0, Mach, 2))[0]\n",
    "        \n",
    "        dMassFluxtot[i,j] = integrate.dblquad(dMassFlux_tot, 1, a, xlow, xhigh,  \\\n",
    "                                            args=(gamma, r0/v0, G0, Sigma0, Mach, 2))[0] \n",
    "        \n",
    "        j+=1\n",
    "            \n",
    "    i+=1\n",
    "    \n",
    "dMassFlux = dMassFluxHI/dMassFluxtot\n",
    "FH2_fSA = 1. - dMassFlux\n",
    "np.amax(FH2_fSA),np.amin(FH2_fSA)"
   ]
  },
  {
   "cell_type": "code",
   "execution_count": 14,
   "id": "578d93ed",
   "metadata": {},
   "outputs": [
    {
     "name": "stderr",
     "output_type": "stream",
     "text": [
      "No artists with labels found to put in legend.  Note that artists whose label start with an underscore are ignored when legend() is called with no argument.\n"
     ]
    },
    {
     "data": {
      "text/plain": [
       "(0.01, 100.0)"
      ]
     },
     "execution_count": 14,
     "metadata": {},
     "output_type": "execute_result"
    },
    {
     "data": {
      "image/png": "[encoded data removed]",
      "text/plain": [
       "<Figure size 576x576 with 2 Axes>"
      ]
     },
     "metadata": {
      "needs_background": "light"
     },
     "output_type": "display_data"
    }
   ],
   "source": [
    "fig, ax = plt.subplots(1, 1, gridspec_kw = {'wspace':0.00, 'hspace':0.00},figsize=(8,8))\n",
    "\n",
    "cbarx    = 0.141\n",
    "cbheight = 0.02\n",
    "cbary = 0.89\n",
    "cblen = 0.7\n",
    "dx1 = 0.4\n",
    "cbtitlex = 0.1\n",
    "\n",
    "\n",
    "plot = ax.pcolormesh(xi_arr, Gamma, np.transpose(FH2_fSA),\\\n",
    "                    vmin=0.0, vmax=1.,\n",
    "                    cmap='plasma')\n",
    "cax = fig.add_axes([cbarx, cbary, cblen, cbheight])\n",
    "fig.colorbar(plot, cax=cax, orientation='horizontal', ticks=(0.0, 0.5, 1.))\n",
    "cax.xaxis.set_ticks_position('top')\n",
    "cax.set_title(r\" $\\mathcal{F}_{\\rm H_2}^{\\rm asym}$\")\n",
    "\n",
    "ax.set_ylabel(r'$\\Gamma$', fontsize=28)\n",
    "ax.set_xlabel(r'$\\xi=\\rm{log}(\\frac{G_0 t_0}{\\Sigma_0})$', fontsize=28)\n",
    "# ax.text(0.56, 0.14,r'$\\mathcal{M}=%.f$'%(Mach), transform=ax.transAxes, color='white', fontsize=26)\n",
    "ax.legend(loc='lower left', frameon=False, labelcolor='white')\n",
    "# ax.axvline(xi_sol, ls='--', color='red')\n",
    "file_name = os.path.join(fig_path, 'gamma_Mach_sinv_38M.jpeg')\n",
    "ax.set_yscale('log')\n",
    "\n",
    "x_arr = np.linspace(-5,5,20)\n",
    "y_arr = 0.5*(10.**x_arr) **(3.5/8.)\n",
    "# ax.plot(x_arr, y_arr, color='white', label=r'$\\Gamma \\propto (G_0 t_0/\\Sigma_0)^{0.43}$')\n",
    "ax.set_ylim(np.amin(Gamma),np.amax(Gamma))\n",
    "# ax.legend()\n",
    "# plt.savefig(file_name, bbox_inches='tight', dpi=160 )"
   ]
  },
  {
   "cell_type": "markdown",
   "id": "62ae7d82",
   "metadata": {},
   "source": [
    "# Intermediate Area Case"
   ]
  },
  {
   "cell_type": "code",
   "execution_count": 8,
   "id": "54a52971",
   "metadata": {},
   "outputs": [
    {
     "name": "stderr",
     "output_type": "stream",
     "text": [
      "/Users/aditivijayan/opt/anaconda3/lib/python3.9/site-packages/scipy/integrate/quadpack.py:879: IntegrationWarning: The occurrence of roundoff error is detected, which prevents \n",
      "  the requested tolerance from being achieved.  The error may be \n",
      "  underestimated.\n",
      "  quad_r = quad(f, low, high, args=args, full_output=self.full_output,\n"
     ]
    },
    {
     "data": {
      "text/plain": [
       "(0.9999851153649023, 0.0)"
      ]
     },
     "execution_count": 8,
     "metadata": {},
     "output_type": "execute_result"
    }
   ],
   "source": [
    "Gamma = np.logspace(-2, 2., 20)\n",
    "xi_arr = np.linspace(-5, 5., 20) #xi = np.log(t0*G0/Sigma0)\n",
    "\n",
    "a = rmax/r0\n",
    "\n",
    "dMassFluxHI = np.zeros((xi_arr.shape[0], Gamma.shape[0]))\n",
    "dMassFluxtot = np.zeros((xi_arr.shape[0], Gamma.shape[0]))\n",
    "i = j =0 \n",
    "for xi in xi_arr:\n",
    "    j=0\n",
    "    for gamma in Gamma:\n",
    "        xcrit = np.log(gamma)\n",
    "        if(xcrit<0.0):\n",
    "            xhigh = 1.*xcrit\n",
    "            xlow  = 1.5*xcrit\n",
    "        else:\n",
    "            xhigh = 1.*xcrit\n",
    "            xlow  = 0.5*xcrit\n",
    "            \n",
    "        G0 = Sigma0*np.exp(xi)/t0\n",
    "        \n",
    "        dMassFluxHI[i,j] = integrate.dblquad(dMassFlux_HI,1, a, xlow, xhigh,   \\\n",
    "                                            args=(gamma, r0/v0, G0, Sigma0, Mach, 1))[0]\n",
    "        \n",
    "        dMassFluxtot[i,j] = integrate.dblquad(dMassFlux_tot, 1, a, xlow, xhigh,  \\\n",
    "                                            args=(gamma, r0/v0, G0, Sigma0, Mach, 1))[0] \n",
    "        \n",
    "        j+=1\n",
    "            \n",
    "    i+=1\n",
    "dMassFlux = dMassFluxHI/dMassFluxtot\n",
    "FH2_int = 1. - dMassFlux\n",
    "np.amax(FH2_int),np.amin(FH2_int)"
   ]
  },
  {
   "cell_type": "code",
   "execution_count": 12,
   "id": "8e9fbd6e",
   "metadata": {},
   "outputs": [
    {
     "name": "stderr",
     "output_type": "stream",
     "text": [
      "No artists with labels found to put in legend.  Note that artists whose label start with an underscore are ignored when legend() is called with no argument.\n"
     ]
    },
    {
     "data": {
      "image/png": "[encoded data removed]",
      "text/plain": [
       "<Figure size 576x576 with 2 Axes>"
      ]
     },
     "metadata": {
      "needs_background": "light"
     },
     "output_type": "display_data"
    }
   ],
   "source": [
    "fig, ax = plt.subplots(1, 1, gridspec_kw = {'wspace':0.00, 'hspace':0.00},figsize=(8,8))\n",
    "\n",
    "cbarx    = 0.141\n",
    "cbheight = 0.02\n",
    "cbary = 0.89\n",
    "cblen = 0.7\n",
    "dx1 = 0.4\n",
    "cbtitlex = 0.1\n",
    "\n",
    "\n",
    "plot = ax.pcolormesh(xi_arr, Gamma, np.transpose(FH2_int),\\\n",
    "                    vmin=0.0, vmax=1.,\n",
    "                    cmap='plasma')\n",
    "cax = fig.add_axes([cbarx, cbary, cblen, cbheight])\n",
    "fig.colorbar(plot, cax=cax, orientation='horizontal', ticks=(0.0, 0.5, 1.))\n",
    "cax.xaxis.set_ticks_position('top')\n",
    "cax.set_title(r\" $\\mathcal{F}_{\\rm H_2}^{\\rm asym}$\")\n",
    "\n",
    "ax.set_ylabel(r'$\\Gamma$', fontsize=28)\n",
    "ax.set_xlabel(r'$\\xi=\\rm{log}(\\frac{G_0 t_0}{\\Sigma_0})$', fontsize=28)\n",
    "# ax.text(0.56, 0.14,r'$\\mathcal{M}=%.f$'%(Mach), transform=ax.transAxes, color='white', fontsize=26)\n",
    "# ax.axvline(56, ls='--', color='white', label=r'$t_{\\rm dyn}$')\n",
    "ax.legend(loc='lower left', frameon=False, labelcolor='white')\n",
    "# ax.axvline(xi_sol, ls='--', color='red')\n",
    "# ax.axvline(xi_sol + np.log(10.), ls='--', color='red')\n",
    "# ax.axvline(xi_sol + np.log(100.), ls='--', color='black')\n",
    "file_name = os.path.join(fig_path, 'gamma_Mach_sinv_38M.jpeg')\n",
    "ax.set_yscale('log')\n",
    "plt.savefig(file_name, bbox_inches='tight', dpi=160 )"
   ]
  },
  {
   "cell_type": "code",
   "execution_count": null,
   "id": "65f47cf6",
   "metadata": {},
   "outputs": [],
   "source": []
  },
  {
   "cell_type": "code",
   "execution_count": null,
   "id": "5e1c4b92",
   "metadata": {},
   "outputs": [],
   "source": []
  }
 ],
 "metadata": {
  "kernelspec": {
   "display_name": "Python 3 (ipykernel)",
   "language": "python",
   "name": "python3"
  },
  "language_info": {
   "codemirror_mode": {
    "name": "ipython",
    "version": 3
   },
   "file_extension": ".py",
   "mimetype": "text/x-python",
   "name": "python",
   "nbconvert_exporter": "python",
   "pygments_lexer": "ipython3",
   "version": "3.9.12"
  }
 },
 "nbformat": 4,
 "nbformat_minor": 5
}

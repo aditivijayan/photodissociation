{
 "cells": [
  {
   "cell_type": "code",
   "execution_count": 83,
   "id": "248c4384",
   "metadata": {},
   "outputs": [],
   "source": [
    "import seaborn as sns\n",
    "import matplotlib as mpl\n",
    "import _init_\n",
    "from constants import *\n",
    "from set_path import *\n",
    "from config import *\n",
    "from functions import *\n",
    "import scipy.integrate as integrate\n",
    "import matplotlib.colors as mcolors\n",
    "import matplotlib.cm\n",
    "import glob\n",
    "from scipy import interpolate"
   ]
  },
  {
   "cell_type": "code",
   "execution_count": 84,
   "id": "e1b47821",
   "metadata": {},
   "outputs": [],
   "source": [
    "p_avg     = 3.e3 * 1.e5\n",
    "G         = 6.67e-8\n",
    "Sigma_diss = 1.5 * Msun /pc/pc/Myr\n",
    "chi0 = 1.0\n",
    "#xi = chi0 * Sigma_diss *t0/Sigma_gas"
   ]
  },
  {
   "cell_type": "markdown",
   "id": "88b0ec37",
   "metadata": {},
   "source": [
    "# Daddi+10"
   ]
  },
  {
   "cell_type": "code",
   "execution_count": 128,
   "id": "a9264f64",
   "metadata": {},
   "outputs": [
    {
     "data": {
      "text/plain": [
       "(1.1609326759320253,\n",
       " 0.058313746708636836,\n",
       " 0.15776570960696956,\n",
       " 0.017064852111817547)"
      ]
     },
     "execution_count": 128,
     "metadata": {},
     "output_type": "execute_result"
    }
   ],
   "source": [
    "data_home = os.path.join(home, \"Data/CleanData/\")\n",
    "datapath = os.path.join(data_home, \"*.txt\")\n",
    "list_file = glob.glob(datapath)\n",
    "log_siggas = []\n",
    "log_sigSFR = []\n",
    "log_siggas_tdyn = []\n",
    "galtype = []\n",
    "radius = []\n",
    "torb = []\n",
    "list_file = ['/Users/aditivijayan/Projects/PhotoIonization/Data/CleanData/daddi10.txt']\n",
    "for file in list_file:\n",
    "    infile = open(file)\n",
    "    lines = infile.readlines()\n",
    "#     print(file)\n",
    "    for line in lines:\n",
    "        while(line.split()[0]!='#' and line.split()[0]!='\\n'):\n",
    "            siggas = float(line.split()[0])\n",
    "            sigSFR = float(line.split()[1])\n",
    "            sgastdyn = float(line.split()[2])\n",
    "            gal_type = str(line.split()[3])\n",
    "            rad = float(line.split()[4])\n",
    "            torbval = float(line.split()[5])\n",
    "            if(file == '/Users/aditivijayan/Projects/PhotoIonization/Data/CleanData/daddi10.txt'):\n",
    "                siggas = np.log10(siggas)\n",
    "                sigSFR = np.log10(sigSFR)\n",
    "                sgastdyn = np.log10(sgastdyn)\n",
    "            torb.append(torbval)\n",
    "            log_siggas.append(siggas)\n",
    "            log_sigSFR.append(sigSFR)\n",
    "            log_siggas_tdyn.append(sgastdyn)\n",
    "            galtype.append(gal_type)\n",
    "            radius.append(rad)\n",
    "\n",
    "            break\n",
    "            \n",
    "log_siggas_daddi       = log_siggas\n",
    "log_sigSFR_daddi       = log_sigSFR\n",
    "log_siggas_tdyn_daddi  = log_siggas_tdyn\n",
    "galtype_daddi          = galtype\n",
    "\n",
    "siggas_daddi     = 10.**(np.asarray(log_siggas))*Msun/pc/pc\n",
    "sigSFR_daddi     = 10.**(np.asarray(log_sigSFR_daddi))*Msun/yr_to_sec/kpc/kpc\n",
    "siggas_tdyn_daddi= 10.**(np.asarray(log_siggas_tdyn_daddi))*Msun/yr_to_sec/pc/pc/1.e6\n",
    "torb_daddi       = np.asarray(torb) * Myr\n",
    "rad_daddi        = np.asarray(radius)*kpc\n",
    "v0_daddi         =  2. *math.pi * rad_daddi/torb_daddi/kmps\n",
    "gamma_data_daddi = sigSFR_daddi * p_avg * torb_daddi**2/(16. * math.pi**2 * rad_daddi * siggas_daddi)\n",
    "xi_data_daddi = chi0 * Sigma_diss * torb_daddi/(2.**1.5 * math.pi * siggas_daddi)\n",
    "# xi_data_daddi = chi0 * Sigma_diss/(siggas_tdyn_daddi)\n",
    "np.amax(gamma_data_daddi),np.amin(gamma_data_daddi),np.amax(xi_data_daddi),np.amin(xi_data_daddi)"
   ]
  },
  {
   "cell_type": "markdown",
   "id": "015ab325",
   "metadata": {},
   "source": [
    "# Genzel+10 Data"
   ]
  },
  {
   "cell_type": "code",
   "execution_count": 129,
   "id": "953570d5",
   "metadata": {},
   "outputs": [
    {
     "data": {
      "text/plain": [
       "(0.30304662518819475,\n",
       " 0.018529167563143205,\n",
       " 0.07268553308526017,\n",
       " 5.613360292468564e-05)"
      ]
     },
     "execution_count": 129,
     "metadata": {},
     "output_type": "execute_result"
    }
   ],
   "source": [
    "data_home = os.path.join(home, \"Data/CleanData/\")\n",
    "datapath = os.path.join(data_home, \"*.txt\")\n",
    "list_file = glob.glob(datapath)\n",
    "log_siggas = []\n",
    "log_sigSFR = []\n",
    "log_siggas_tdyn = []\n",
    "galtype = []\n",
    "radius = []\n",
    "log_torb = []\n",
    "v0_genzel = []\n",
    "list_file = ['/Users/aditivijayan/Projects/PhotoIonization/Data/CleanData/genzel2010.txt']\n",
    "for file in list_file:\n",
    "    infile = open(file)\n",
    "    lines = infile.readlines()\n",
    "#     print(file)\n",
    "    for line in lines:\n",
    "        while(line.split()[0]!='#' and line.split()[0]!='\\n'):\n",
    "            siggas = float(line.split()[0])\n",
    "            sigSFR = float(line.split()[1])\n",
    "            sgastdyn = float(line.split()[2])\n",
    "            gal_type = str(line.split()[3])\n",
    "            rad = float(line.split()[4])\n",
    "            torb = float(line.split()[5])\n",
    "            v0 = float(line.split()[6])\n",
    "            log_torb.append(torb)\n",
    "            log_siggas.append(siggas)\n",
    "            log_sigSFR.append(sigSFR)\n",
    "            log_siggas_tdyn.append(sgastdyn)\n",
    "            galtype.append(gal_type)\n",
    "            radius.append(rad)\n",
    "            v0_genzel.append(v0)\n",
    "            break\n",
    "            \n",
    "log_siggas_genzel =(log_siggas)\n",
    "log_sigSFR_genzel = log_sigSFR\n",
    "log_torb_genzel = (log_torb)\n",
    "log_siggas_tdyn_genzel = log_siggas_tdyn\n",
    "\n",
    "siggas_genzel = 10.**(np.asarray(log_siggas))*Msun/pc/pc\n",
    "sigSFR_genzel = 10.**(np.asarray(log_sigSFR_genzel))*Msun/yr_to_sec/kpc/kpc\n",
    "siggas_tdyn_genzel = 10.**(np.asarray(log_siggas_tdyn_genzel))*Msun/yr_to_sec/pc/pc/1.e6\n",
    "torb_genzel = 10.**np.asarray(log_torb) * Myr\n",
    "galtype_genzel = (galtype)\n",
    "rad_genzel = np.asarray(radius)*kpc\n",
    "torb_genzel1 = 2.* math.pi * rad_genzel/v0_genzel/kmps\n",
    "\n",
    "gamma_data_genzel = sigSFR_genzel * p_avg * torb_genzel1**2/(16. * math.pi**2 * rad_genzel * siggas_genzel)\n",
    "xi_data_genzel = chi0 * Sigma_diss * torb_genzel1/(2.**1.5 * math.pi * siggas_genzel)\n",
    "# xi_data_genzel = chi0 * Sigma_diss/siggas_tdyn_genzel\n",
    "np.amax(gamma_data_genzel),np.amin(gamma_data_genzel),np.amax(xi_data_genzel),np.amin(xi_data_genzel)"
   ]
  },
  {
   "cell_type": "markdown",
   "id": "e99ce613",
   "metadata": {},
   "source": [
    "# Kennicutt Data-- taken from Kennicutt98 and Krumholz+12, distances from simbad"
   ]
  },
  {
   "cell_type": "code",
   "execution_count": 130,
   "id": "fec4524c",
   "metadata": {},
   "outputs": [
    {
     "name": "stderr",
     "output_type": "stream",
     "text": [
      "/var/folders/bh/gk6r7v913g3dxj455c079xyh0000gq/T/ipykernel_47829/264377746.py:16: RuntimeWarning: divide by zero encountered in true_divide\n",
      "  gamma_data_kenni = sigSFR_kenni * p_avg * (torb_kenni)**2/(16. * math.pi**2 * rad_kenni * siggas_kenni)\n"
     ]
    },
    {
     "data": {
      "text/plain": [
       "(10000.0, 0.012151557453640733, 23.84507752748416, 0.8079756233093239)"
      ]
     },
     "execution_count": 130,
     "metadata": {},
     "output_type": "execute_result"
    }
   ],
   "source": [
    "file = '/Users/aditivijayan/Projects/PhotoIonization/Data/krumholz_kennit_gal_data.txt'\n",
    "name_kenni = np.loadtxt(file, usecols=0)\n",
    "rad_kenni = np.loadtxt(file, usecols=3)*kpc\n",
    "log_sigmagas_kenni = np.loadtxt(file, usecols=4)\n",
    "log_sigmaSFR_kenni = np.loadtxt(file, usecols=5)\n",
    "torb_kenni = np.loadtxt(file, usecols=-2)*Myr\n",
    "log_siggas_tdyn_kenni = np.loadtxt(file, usecols=-1)\n",
    "\n",
    "\n",
    "siggas_kenni = 10.**(np.asarray(log_sigmagas_kenni))*Msun/pc/pc\n",
    "sigSFR_kenni = 10.**(np.asarray(log_sigmaSFR_kenni))*Msun/yr_to_sec/kpc/kpc\n",
    "siggas_tdyn_kenni = 10.**(np.asarray(log_siggas_tdyn_kenni))*Msun/yr_to_sec/pc/pc/1.e6\n",
    "v0_kenni = 2.*math.pi*rad_kenni/(torb_kenni)/kmps\n",
    "gal_type_kenni = ['D']*log_sigmagas_kenni.shape[0]\n",
    "\n",
    "gamma_data_kenni = sigSFR_kenni * p_avg * (torb_kenni)**2/(16. * math.pi**2 * rad_kenni * siggas_kenni)\n",
    "gamma_data_kenni[gamma_data_kenni>1.e4]=1.e4\n",
    "# xi_data_kenni    = chi0 * Sigma_diss/siggas_tdyn_kenni\n",
    "xi_data_kenni = chi0 * Sigma_diss * torb_kenni/(2.**1.5 * math.pi * siggas_kenni)\n",
    "np.amax(gamma_data_kenni),np.amin(gamma_data_kenni),np.amax(xi_data_kenni),np.amin(xi_data_kenni)"
   ]
  },
  {
   "cell_type": "code",
   "execution_count": 131,
   "id": "f87d00d7",
   "metadata": {},
   "outputs": [
    {
     "data": {
      "text/plain": [
       "<matplotlib.legend.Legend at 0x7f7e5abb81f0>"
      ]
     },
     "execution_count": 131,
     "metadata": {},
     "output_type": "execute_result"
    },
    {
     "data": {
      "image/png": "[encoded data removed]",
      "text/plain": [
       "<Figure size 720x576 with 1 Axes>"
      ]
     },
     "metadata": {
      "needs_background": "light"
     },
     "output_type": "display_data"
    }
   ],
   "source": [
    "plt.figure(figsize=(10,8))\n",
    "plt.plot(log_sigmagas_kenni[v0_kenni>0.0], v0_kenni[v0_kenni>0.0], 'o', label='Kennitcutt+98', markersize=10)\n",
    "plt.plot(log_siggas_genzel, v0_genzel, '*', label = 'Genzel', markersize=10)\n",
    "plt.plot(log_siggas_daddi, v0_daddi, 's', label='Daddi+10', markersize=10)\n",
    "plt.ylabel(r\"$v_0$\")\n",
    "plt.xlabel(r'log$\\Sigma_{\\rm gas}$')\n",
    "plt.xlim(0.1, 5.)\n",
    "plt.legend(fontsize=18,  loc='lower right')"
   ]
  },
  {
   "cell_type": "code",
   "execution_count": 91,
   "id": "0f33b09e",
   "metadata": {},
   "outputs": [
    {
     "data": {
      "text/plain": [
       "<matplotlib.legend.Legend at 0x7f7eb8502970>"
      ]
     },
     "execution_count": 91,
     "metadata": {},
     "output_type": "execute_result"
    },
    {
     "data": {
      "image/png": "[encoded data removed]",
      "text/plain": [
       "<Figure size 432x432 with 1 Axes>"
      ]
     },
     "metadata": {
      "needs_background": "light"
     },
     "output_type": "display_data"
    }
   ],
   "source": [
    "plt.figure(figsize=(6,6))\n",
    "plt.plot(log_siggas_tdyn_kenni[v0_kenni>0.0], log_sigmaSFR_kenni[v0_kenni>0.0], 'o',\\\n",
    "         label='Kennitcutt+98', markersize=10)\n",
    "plt.plot(log_siggas_tdyn_genzel, log_sigSFR_genzel, '*', label = 'Genzel', markersize=10)\n",
    "plt.plot(log_siggas_tdyn_daddi, log_sigSFR_daddi, '*', label = 'Daddi+10', markersize=10)\n",
    "plt.ylabel(r\"$\\dot{\\Sigma}_{\\rm SFR}$\")\n",
    "plt.xlabel(r'log$\\Sigma_{\\rm gas}/t_{\\rm dyn}$')\n",
    "# plt.xlim(0.1, 5.)\n",
    "plt.legend(fontsize=18,  loc='lower right')"
   ]
  },
  {
   "cell_type": "markdown",
   "id": "7aa52ad8",
   "metadata": {},
   "source": [
    "# Flux weighted fraction"
   ]
  },
  {
   "cell_type": "code",
   "execution_count": 92,
   "id": "2750ced5",
   "metadata": {},
   "outputs": [],
   "source": [
    "Gamma = np.logspace(-3, np.log10(2.), 100)\n",
    "xi_arr = np.logspace(-5, 3., 100) #xi = np.log(t0*G0/Sigma0)\n",
    "\n",
    "a = rmax/r0\n",
    "\n",
    "dMassFluxHI = np.zeros((xi_arr.shape[0], Gamma.shape[0]))\n",
    "dMassFluxtot = np.zeros((xi_arr.shape[0], Gamma.shape[0]))\n",
    "i = j =0 \n",
    "for xi in xi_arr:\n",
    "    j=0\n",
    "    for gamma in Gamma:\n",
    "        xcrit = np.log(gamma)\n",
    "        xlow = -10\n",
    "        if(xcrit<0.0):\n",
    "            xhigh = 1.01*xcrit\n",
    "        else:\n",
    "            xhigh = 0.99*xcrit\n",
    "       \n",
    "        dMassFluxHI[i,j] = integrate.quad(dMassFlux_HI,xlow, xhigh,   \\\n",
    "                                            args=(a, gamma, xi, Mach, 0))[0]\n",
    "\n",
    "        dMassFluxtot[i,j] = integrate.quad(dMassFlux_tot, xlow, xhigh,  \\\n",
    "                                            args=(a, gamma,  Mach, 0))[0] \n",
    "\n",
    "        \n",
    "    \n",
    "        j+=1\n",
    "            \n",
    "    i+=1\n"
   ]
  },
  {
   "cell_type": "code",
   "execution_count": 93,
   "id": "181f27e7",
   "metadata": {},
   "outputs": [
    {
     "data": {
      "text/plain": [
       "(0.9999704831858524, 0.0)"
      ]
     },
     "execution_count": 93,
     "metadata": {},
     "output_type": "execute_result"
    }
   ],
   "source": [
    "dMassFlux = dMassFluxHI/dMassFluxtot\n",
    "FH2_flux = 1. - dMassFlux\n",
    "FH2_flux[FH2_flux<0.0] = 0.0\n",
    "np.amax(FH2_flux),np.amin(FH2_flux)"
   ]
  },
  {
   "cell_type": "markdown",
   "id": "e4b549a8",
   "metadata": {},
   "source": [
    "# Interpolator for Fraction"
   ]
  },
  {
   "cell_type": "code",
   "execution_count": 94,
   "id": "bf2cace9",
   "metadata": {},
   "outputs": [],
   "source": [
    "flux_fractionH2 = interpolate.interp2d(xi_arr, Gamma, np.transpose(FH2_flux), kind='cubic')"
   ]
  },
  {
   "cell_type": "markdown",
   "id": "1128a123",
   "metadata": {},
   "source": [
    "# Plot SFR vs SigGas/tdyn"
   ]
  },
  {
   "cell_type": "code",
   "execution_count": 132,
   "id": "a9dbfaf1",
   "metadata": {},
   "outputs": [],
   "source": [
    "flux_frac_kenni = np.zeros((xi_data_kenni.shape[0]))\n",
    "for i in range(xi_data_kenni.shape[0]):\n",
    "    flux_frac_kenni[i] = flux_fractionH2(xi_data_kenni[i], gamma_data_kenni[i])\n",
    "    \n",
    "flux_frac_daddi = np.zeros((xi_data_daddi.shape[0]))\n",
    "for i in range(xi_data_daddi.shape[0]):\n",
    "    flux_frac_daddi[i] = flux_fractionH2(xi_data_daddi[i], gamma_data_daddi[i])\n",
    "    \n",
    "flux_frac_genzel = np.zeros((xi_data_genzel.shape[0]))\n",
    "for i in range(xi_data_genzel.shape[0]):\n",
    "    flux_frac_genzel[i] = flux_fractionH2(xi_data_genzel[i], gamma_data_genzel[i])"
   ]
  },
  {
   "cell_type": "code",
   "execution_count": 134,
   "id": "90d79878",
   "metadata": {
    "scrolled": false
   },
   "outputs": [
    {
     "data": {
      "image/png": "[encoded data removed]",
      "text/plain": [
       "<Figure size 576x576 with 2 Axes>"
      ]
     },
     "metadata": {
      "needs_background": "light"
     },
     "output_type": "display_data"
    }
   ],
   "source": [
    "fig, ax = plt.subplots(1, 1, gridspec_kw = {'wspace':0.02, 'hspace':0.02},figsize=(8, 8))\n",
    "\n",
    "cbarx = 0.16\n",
    "cbheight = 0.04\n",
    "cbary = 0.89\n",
    "cblen = 0.7\n",
    "dx1 = 0.13\n",
    "cbtitlex = 0.1\n",
    "cbtitley = 16.5\n",
    "plane=0\n",
    "cmap = 'Spectral'\n",
    "\n",
    "mask = np.array(['Starburst' in s for s in gal_type])\n",
    "\n",
    "plot = ax.scatter(log_siggas_tdyn_kenni, log_sigmaSFR_kenni, \\\n",
    "                            c=flux_frac_kenni ,\\\n",
    "                            marker='o', cmap=cmap, vmin=0.0, vmax=1.0, s=160)\n",
    "\n",
    "\n",
    "plot = ax.scatter(log_siggas_tdyn_daddi, log_sigSFR_daddi, \\\n",
    "                            c=flux_frac_daddi ,\\\n",
    "                            marker='o', cmap=cmap, vmin=0.0, vmax=1.0, s=160)\n",
    "\n",
    "\n",
    "\n",
    "for i in range(len(galtype_genzel)):\n",
    "    if(galtype_genzel[i]=='Starburst'):\n",
    "        if(i==1):\n",
    "            plot = ax.scatter(log_siggas_tdyn_genzel[i],log_sigSFR_genzel[i],  \\\n",
    "                            c=flux_frac_genzel[i] ,\\\n",
    "                            marker='*', cmap=cmap, vmin=0.0, vmax=1.0, s=160, label='SB')\n",
    "        plot = ax.scatter(log_siggas_tdyn_genzel[i], log_sigSFR_genzel[i], \\\n",
    "                            c=flux_frac_genzel[i] ,\\\n",
    "                            marker='*', cmap=cmap, vmin=0.0, vmax=1.0, s=160)\n",
    "\n",
    "    else:\n",
    "         plot = ax.scatter(log_siggas_tdyn_genzel[i], log_sigSFR_genzel[i], \\\n",
    "                            c=flux_frac_genzel[i] ,\\\n",
    "                            marker='o', cmap=cmap, vmin=0.0, vmax=1.0, s=160, label='Non-SB')\n",
    "\n",
    "\n",
    "\n",
    "\n",
    "\n",
    "# plot = ax.scatter(log_siggas_tdyn_genzel, log_sigSFR_genzel, \\\n",
    "#                             c=flux_frac_genzel ,\\\n",
    "#                             marker='o', cmap=cmap, vmin=0.0, vmax=1.0, s=160)\n",
    "\n",
    "\n",
    "cax  = fig.add_axes([cbarx, cbary, cblen, cbheight])\n",
    "fig.colorbar(plot, cax=cax, orientation='horizontal', ticks=(0.0, 0.5,  1.))\n",
    "cax.xaxis.set_ticks_position('top')\n",
    "ax.set_ylabel(r'log($\\dot{\\Sigma}_{\\rm SFR}$)')\n",
    "ax.set_xlabel(r'log($\\Sigma_{\\rm gas}/t_{\\rm dyn}$)')\n",
    "ax.text(0.45, 1.15, r\"$\\mathcal{F}_{\\rm H_2}$\", transform=ax.transAxes, fontsize=26)\n",
    "save_fig = os.path.join(fig_path, 'sigSFR_sigGas.jpeg')\n",
    "plt.savefig(save_fig, bbox_inches='tight', dpi=160)"
   ]
  },
  {
   "cell_type": "code",
   "execution_count": 135,
   "id": "723b0c01",
   "metadata": {},
   "outputs": [
    {
     "data": {
      "image/png": "[encoded data removed]",
      "text/plain": [
       "<Figure size 576x576 with 2 Axes>"
      ]
     },
     "metadata": {
      "needs_background": "light"
     },
     "output_type": "display_data"
    }
   ],
   "source": [
    "fig, ax = plt.subplots(1, 1, gridspec_kw = {'wspace':0.02, 'hspace':0.02},figsize=(8, 8))\n",
    "\n",
    "cbarx = 0.16\n",
    "cbheight = 0.04\n",
    "cbary = 0.89\n",
    "cblen = 0.7\n",
    "dx1 = 0.13\n",
    "cbtitlex = 0.1\n",
    "cbtitley = 16.5\n",
    "plane=0\n",
    "cmap = 'Spectral'\n",
    "\n",
    "mask = np.array(['Starburst' in s for s in gal_type])\n",
    "\n",
    "plot = ax.scatter(np.log10(torb_kenni/Myr),log_sigmagas_kenni,  \\\n",
    "                            c=flux_frac_kenni ,\\\n",
    "                            marker='o', cmap=cmap, vmin=0.0, vmax=1.0, s=160)\n",
    "# ax.set_ylim(-4., 3.)\n",
    "\n",
    "for i in range(len(galtype_genzel)):\n",
    "    if(galtype_genzel[i]=='Starburst'):\n",
    "        if(i==1):\n",
    "            plot = ax.scatter(np.log10(torb_genzel[i]/Myr),log_siggas_genzel[i],  \\\n",
    "                            c=flux_frac_genzel[i] ,\\\n",
    "                            marker='*', cmap=cmap, vmin=0.0, vmax=1.0, s=160, label='SB')\n",
    "        plot = ax.scatter(np.log10(torb_genzel/Myr), log_siggas_genzel, \\\n",
    "                            c=flux_frac_genzel ,\\\n",
    "                            marker='*', cmap=cmap, vmin=0.0, vmax=1.0, s=160)\n",
    "\n",
    "    else:\n",
    "         plot = ax.scatter(np.log10(torb_genzel[i]/Myr), log_siggas_genzel[i], \\\n",
    "                            c=flux_frac_genzel[i] ,\\\n",
    "                            marker='o', cmap=cmap, vmin=0.0, vmax=1.0, s=160, label='Non-SB')\n",
    "\n",
    "\n",
    "\n",
    "plot = ax.scatter(np.log10(torb_daddi/Myr), log_siggas_daddi, \\\n",
    "                            c=flux_frac_daddi ,\\\n",
    "                            marker='o', cmap=cmap, vmin=0.0, vmax=1.0, s=160)\n",
    "\n",
    "\n",
    "cax  = fig.add_axes([cbarx, cbary, cblen, cbheight])\n",
    "fig.colorbar(plot, cax=cax, orientation='horizontal', ticks=(0.0, 0.5,  1.))\n",
    "cax.xaxis.set_ticks_position('top')\n",
    "ax.set_xlabel(r'log($t_{\\rm dyn}$)')\n",
    "ax.set_ylabel(r'log($\\Sigma_{\\rm gas}$)')\n",
    "ax.text(0.45, 1.15, r\"$\\mathcal{F}_{\\rm H_2}$\", transform=ax.transAxes, fontsize=26)\n",
    "save_fig = os.path.join(fig_path, 'siggas_vs_tdyn.jpeg')\n",
    "plt.savefig(save_fig, bbox_inches='tight', dpi=160)"
   ]
  },
  {
   "cell_type": "code",
   "execution_count": 136,
   "id": "5b7649d2",
   "metadata": {},
   "outputs": [
    {
     "name": "stderr",
     "output_type": "stream",
     "text": [
      "No artists with labels found to put in legend.  Note that artists whose label start with an underscore are ignored when legend() is called with no argument.\n"
     ]
    },
    {
     "data": {
      "image/png": "[encoded data removed]",
      "text/plain": [
       "<Figure size 576x576 with 2 Axes>"
      ]
     },
     "metadata": {
      "needs_background": "light"
     },
     "output_type": "display_data"
    }
   ],
   "source": [
    "fig, ax = plt.subplots(1, 1, gridspec_kw = {'wspace':0.01, 'hspace':0.00},figsize=(8,8))\n",
    "\n",
    "cbarx    = 0.155\n",
    "cbheight = 0.04\n",
    "cbary = 0.89\n",
    "cblen = 0.7\n",
    "dx1 = 0.4\n",
    "cbtitlex = 0.1\n",
    "colors =  sns.color_palette(\"Spectral\", 8, as_cmap=True)\n",
    "\n",
    "plot = ax.pcolormesh(xi_arr, Gamma, np.transpose(FH2_flux),\\\n",
    "                    vmin=0., vmax=1.,\n",
    "                    cmap=colors)\n",
    "cax = fig.add_axes([cbarx, cbary, cblen, cbheight])\n",
    "fig.colorbar(plot, cax=cax, orientation='horizontal', ticks=(0.0, 0.2, 0.4, 0.6, 0.8, 1.))\n",
    "cax.xaxis.set_ticks_position('top')\n",
    "cax.set_title(r\" $\\mathcal{F}_{\\rm H_2}$\", fontsize=30)\n",
    "ax.set_xlim(1.e-5, 1.e3)\n",
    "ax.set_ylim(3.e-3, 2.)\n",
    "ax.set_yscale('log')\n",
    "ax.set_xscale('log')\n",
    "ax.set_ylabel(r'$\\Gamma$', fontsize=30)\n",
    "ax.set_xlabel(r'$\\xi$', fontsize=30)\n",
    "ax.tick_params(axis='y', which='both', labelleft=True, right=True, left=True)\n",
    "\n",
    "\n",
    "\n",
    "slope = 1.\n",
    "yy =  (np.log10(xi_arr) * slope + 1.) \n",
    "ax.plot(xi_arr, 10.**yy, color='black', ls='--', lw=2.)\n",
    "ax.legend(loc='lower right', fontsize=\"30\")\n",
    "\n",
    "\n",
    "ax.plot(xi_data_kenni, gamma_data_kenni, 'o', color='black', markersize=8)\n",
    "ax.plot(xi_data_daddi, gamma_data_daddi, 'o', color='black', markersize=8)\n",
    "for i in range(len(galtype_genzel)):\n",
    "    if(galtype_genzel[i]=='Starburst'):\n",
    "        if(i==1):\n",
    "            ax.plot(xi_data_genzel[i], gamma_data_genzel[i], '*', color='magenta', markersize=14, label='SB')\n",
    "        else:\n",
    "            ax.plot(xi_data_genzel[i], gamma_data_genzel[i], '*', color='magenta', markersize=14)\n",
    "    else:\n",
    "        ax.plot(xi_data_genzel[i], gamma_data_genzel[i], 'o', color='black', markersize=8, label='Non-SB')\n",
    "\n",
    "\n",
    "ax.legend(loc='upper left', fontsize=\"24\")\n",
    "file_name = os.path.join(fig_path, 'gamma_xi_gals.jpeg')\n",
    "# plt.savefig(file_name, bbox_inches='tight', dpi=160 )\n"
   ]
  },
  {
   "cell_type": "markdown",
   "id": "23c63522",
   "metadata": {},
   "source": [
    "# Flux weighted fraction for Intermediate"
   ]
  },
  {
   "cell_type": "code",
   "execution_count": 34,
   "id": "2b243739",
   "metadata": {},
   "outputs": [
    {
     "name": "stderr",
     "output_type": "stream",
     "text": [
      "/Users/aditivijayan/opt/anaconda3/lib/python3.9/site-packages/scipy/integrate/quadpack.py:879: IntegrationWarning: The algorithm does not converge.  Roundoff error is detected\n",
      "  in the extrapolation table.  It is assumed that the requested tolerance\n",
      "  cannot be achieved, and that the returned result (if full_output = 1) is \n",
      "  the best which can be obtained.\n",
      "  quad_r = quad(f, low, high, args=args, full_output=self.full_output,\n",
      "/Users/aditivijayan/opt/anaconda3/lib/python3.9/site-packages/scipy/integrate/quadpack.py:879: IntegrationWarning: The occurrence of roundoff error is detected, which prevents \n",
      "  the requested tolerance from being achieved.  The error may be \n",
      "  underestimated.\n",
      "  quad_r = quad(f, low, high, args=args, full_output=self.full_output,\n",
      "/Users/aditivijayan/opt/anaconda3/lib/python3.9/site-packages/scipy/integrate/quadpack.py:879: IntegrationWarning: The maximum number of subdivisions (50) has been achieved.\n",
      "  If increasing the limit yields no improvement it is advised to analyze \n",
      "  the integrand in order to determine the difficulties.  If the position of a \n",
      "  local difficulty can be determined (singularity, discontinuity) one will \n",
      "  probably gain from splitting up the interval and calling the integrator \n",
      "  on the subranges.  Perhaps a special-purpose integrator should be used.\n",
      "  quad_r = quad(f, low, high, args=args, full_output=self.full_output,\n"
     ]
    }
   ],
   "source": [
    "Gamma = np.logspace(-3, np.log10(2.), 100)\n",
    "xi_arr = np.logspace(-5, 3., 100) #xi = np.log(t0*G0/Sigma0)\n",
    "\n",
    "a = rmax/r0\n",
    "\n",
    "dMassFluxHI = np.zeros((xi_arr.shape[0], Gamma.shape[0]))\n",
    "dMassFluxtot = np.zeros((xi_arr.shape[0], Gamma.shape[0]))\n",
    "i = j =0 \n",
    "for xi in xi_arr:\n",
    "    j=0\n",
    "    for gamma in Gamma:\n",
    "        xcrit = np.log(gamma)\n",
    "        xlow = -10\n",
    "        if(xcrit<0.0):\n",
    "            xhigh = 1.01*xcrit\n",
    "        else:\n",
    "            xhigh = 0.99*xcrit\n",
    "       \n",
    "        dMassFluxHI [i,j] = integrate.dblquad(dMassFlux_HI, 1, a, xlow, xhigh,   \\\n",
    "                                            args=(gamma, xi, Mach, 1))[0]\n",
    "        dMassFluxtot[i,j] = integrate.quad(dMassFlux_tot, xlow, xhigh,   \\\n",
    "                                            args=(a, gamma,  Mach, 1))[0]\n",
    "        \n",
    "    \n",
    "        j+=1\n",
    "            \n",
    "    i+=1\n",
    "\n",
    "    \n"
   ]
  },
  {
   "cell_type": "code",
   "execution_count": 35,
   "id": "e34f66fd",
   "metadata": {},
   "outputs": [
    {
     "data": {
      "text/plain": [
       "(0.999950681543061, 0.0)"
      ]
     },
     "execution_count": 35,
     "metadata": {},
     "output_type": "execute_result"
    }
   ],
   "source": [
    "dMassFlux = dMassFluxHI/dMassFluxtot\n",
    "FH2_fluxInt = 1. - dMassFlux\n",
    "FH2_fluxInt[FH2_fluxInt<0.0] = 0.0\n",
    "np.amax(FH2_fluxInt),np.amin(FH2_fluxInt)"
   ]
  },
  {
   "cell_type": "markdown",
   "id": "ad57a22e",
   "metadata": {},
   "source": [
    "# Flux weighted fraction for Const Solid Angle"
   ]
  },
  {
   "cell_type": "code",
   "execution_count": 33,
   "id": "383372a4",
   "metadata": {},
   "outputs": [
    {
     "data": {
      "text/plain": [
       "(0.9999982069738076, 0.0)"
      ]
     },
     "execution_count": 33,
     "metadata": {},
     "output_type": "execute_result"
    }
   ],
   "source": [
    "Gamma = np.logspace(-3, np.log10(2.), 100)\n",
    "xi_arr = np.logspace(-5, 3., 100) #xi = np.log(t0*G0/Sigma0)\n",
    "\n",
    "a = rmax/r0\n",
    "\n",
    "dMassFluxHI = np.zeros((xi_arr.shape[0], Gamma.shape[0]))\n",
    "dMassFluxtot = np.zeros((xi_arr.shape[0], Gamma.shape[0]))\n",
    "i = j =0 \n",
    "for xi in xi_arr:\n",
    "    j=0\n",
    "    for gamma in Gamma:\n",
    "        xcrit = np.log(gamma)\n",
    "        xlow = -10\n",
    "        if(xcrit<0.0):\n",
    "            xhigh = 1.01*xcrit\n",
    "        else:\n",
    "            xhigh = 0.99*xcrit\n",
    "       \n",
    "        dMassFluxHI[i,j] = integrate.quad(dMassFlux_HI,xlow, xhigh,   \\\n",
    "                                            args=(a, gamma, xi, Mach, 2))[0]\n",
    "\n",
    "        dMassFluxtot[i,j] = integrate.quad(dMassFlux_tot, xlow, xhigh,  \\\n",
    "                                            args=(a, gamma,  Mach, 2))[0] \n",
    "\n",
    "        \n",
    "    \n",
    "        j+=1\n",
    "            \n",
    "    i+=1\n",
    "    \n",
    "dMassFlux = dMassFluxHI/dMassFluxtot\n",
    "FH2_fluxSA = 1. - dMassFlux\n",
    "FH2_fluxSA[FH2_fluxSA<0.0] = 0.0\n",
    "np.amax(FH2_fluxSA),np.amin(FH2_fluxSA)"
   ]
  },
  {
   "cell_type": "code",
   "execution_count": null,
   "id": "9eb25e73",
   "metadata": {
    "scrolled": false
   },
   "outputs": [
    {
     "name": "stderr",
     "output_type": "stream",
     "text": [
      "No artists with labels found to put in legend.  Note that artists whose label start with an underscore are ignored when legend() is called with no argument.\n"
     ]
    }
   ],
   "source": [
    "fig, ax = plt.subplots(3, 1, gridspec_kw = {'wspace':0.0, 'hspace':0.00},figsize=(6,18))\n",
    "\n",
    "cbarx    = 0.155\n",
    "cbheight = 0.04\n",
    "cbary = 0.89\n",
    "cblen = 0.7\n",
    "dx1 = 0.4\n",
    "cbtitlex = 0.1\n",
    "lightness = 0.5\n",
    "sns.desaturate(\"yellow\",0.5)\n",
    "colors =  sns.color_palette(\"Spectral\", 8, as_cmap=True)\n",
    "\n",
    "\n",
    "\n",
    "plot = ax[0].pcolormesh(xi_arr, Gamma, np.transpose(FH2_flux),\\\n",
    "                    vmin=0., vmax=1.,\n",
    "                    cmap=colors)\n",
    "cax = fig.add_axes([cbarx, cbary, cblen, cbheight])\n",
    "fig.colorbar(plot, cax=cax, orientation='horizontal', ticks=(0.0, 0.2, 0.4, 0.6, 0.8, 1.))\n",
    "cax.xaxis.set_ticks_position('top')\n",
    "cax.set_title(r\" $\\mathcal{F}_{\\rm H_2}$\", fontsize=30)\n",
    "ax[0].set_xlim(1.e-5, 9.e2)\n",
    "ax[0].set_ylim(3.e-3, 2.)\n",
    "ax[0].set_yscale('log')\n",
    "ax[0].set_xscale('log')\n",
    "ax[0].set_ylabel(r'$\\Gamma$', fontsize=24)\n",
    "ax[0].tick_params(axis='y', which='both', labelleft=True, right=True, left=True)\n",
    "ax[0].tick_params(axis='x', which='both', labelbottom=False, bottom=True)\n",
    "\n",
    "\n",
    "\n",
    "slope = 1.\n",
    "yy =  (np.log10(xi_arr) * slope + 1.) \n",
    "ax[0].plot(xi_arr, 10.**yy, color='black', ls='--', lw=3.)\n",
    "ax[0].legend(loc='lower right', fontsize=\"30\")\n",
    "\n",
    "\n",
    "plot = ax[1].pcolormesh(xi_arr, Gamma, np.transpose(FH2_fluxInt),\\\n",
    "                    vmin=0., vmax=1.,\n",
    "                    cmap=colors)\n",
    "cax.set_title(r\" $\\mathcal{F}_{\\rm H_2, flux}^{\\rm asym}$\")\n",
    "ax[1].set_xlim(1.e-5, 1.e3)\n",
    "ax[1].set_ylim(3.e-3, 2.)\n",
    "ax[1].set_yscale('log')\n",
    "ax[1].set_xscale('log')\n",
    "ax[1].set_ylabel(r'$\\Gamma$', fontsize=24)\n",
    "ax[1].set_xlabel(r'$\\xi$', fontsize=24)\n",
    "ax[1].tick_params(axis='y', which='both', labelleft=True, right=True, left=True)\n",
    "ax[1].tick_params(axis='x', which='both', labelbottom=False, bottom=True, top=True)\n",
    "\n",
    "\n",
    "\n",
    "plot = ax[2].pcolormesh(xi_arr, Gamma, np.transpose(FH2_fluxSA),\\\n",
    "                    vmin=0., vmax=1.,\n",
    "                    cmap=colors)\n",
    "ax[2].set_xlim(1.e-5, 1.e3)\n",
    "ax[2].set_ylim(3.e-3, 2.)\n",
    "ax[2].set_yscale('log')\n",
    "ax[2].set_xscale('log')\n",
    "ax[2].yaxis.tick_right()\n",
    "ax[2].set_ylabel(r'$\\Gamma$', fontsize=24)\n",
    "# ax[2].yaxis.set_label_position(\"right\")\n",
    "ax[2].set_xlabel(r'$\\xi$', fontsize=30)\n",
    "ax[2].tick_params(axis='y', which='both', labelleft=True, right=True, left=True, labelright=False)\n",
    "ax[2].tick_params(axis='x', which='both', top=True, bottom=True)\n",
    "\n",
    "slope = 1.\n",
    "yy =  (np.log10(xi_arr) * slope + 1.2) \n",
    "ax[1].plot(xi_arr, 10.**yy, color='black', ls='--', lw=3.)\n",
    "\n",
    "\n",
    "\n",
    "slope = 1.\n",
    "yy =  (np.log10(xi_arr) * slope -0.2) \n",
    "ax[2].plot(xi_arr, 10.**yy, color='black', ls='--', lw=3.)\n",
    "\n",
    "\n",
    "\n",
    "##Add curves for isothermal potential-- from isothermal_mass_distribution.ipynb#####\n",
    "slope = 1.2\n",
    "yy =  (np.log10(xi_arr) * slope +1.5) \n",
    "ax[1].plot(xi_arr, 10.**yy, color='red', ls='-.', lw=3.)\n",
    "\n",
    "\n",
    "slope = 1.2\n",
    "yy =  ( np.log10(xi_arr) * slope -0.2) \n",
    "ax[2].plot(xi_arr, 10.**yy, color='red', ls='-.', lw=3.)\n",
    "\n",
    "\n",
    "##########################\n",
    "\n",
    "for i in range(3):\n",
    "    ax[i].plot(xi_data_kenni, gamma_data_kenni, 'o', color='black', markersize=8)\n",
    "    ax[i].plot(xi_data_daddi, gamma_data_daddi, 'o', color='black', markersize=8)\n",
    "\n",
    "    for j in range(len(galtype_genzel)):\n",
    "        if(galtype_genzel[j]=='Starburst'):\n",
    "            if(j==1 and i==0):\n",
    "                ax[i].plot(xi_data_genzel[j], gamma_data_genzel[j], '*', color='magenta', markersize=14, label='SB')\n",
    "            else:\n",
    "                ax[i].plot(xi_data_genzel[j], gamma_data_genzel[j], '*', color='magenta', markersize=14)\n",
    "        else:\n",
    "            ax[i].plot(xi_data_genzel[j], gamma_data_genzel[j], 'o', color='black', markersize=8, label='Non-SB')\n",
    "\n",
    "\n",
    "\n",
    "ax[0].legend(loc='upper left', fontsize=\"22\", frameon=False)\n",
    "# ax[1].legend(loc='upper left', fontsize=\"24\", frameon=False)\n",
    "\n",
    "ax[0].text(0.6, 0.17,'Fixed Area', transform=ax[0].transAxes, color='white', fontsize=22)\n",
    "ax[1].text(0.55, 0.15,'Intermediate', transform=ax[1].transAxes, color='black', fontsize=22)\n",
    "ax[2].text(0.6, 0.17,'Solid Angle', transform=ax[2].transAxes, color='black', fontsize=22)\n",
    "\n",
    "\n",
    "\n",
    "# ax[1].legend(loc='upper left', fontsize=\"26\")\n",
    "file_name = os.path.join(fig_path, 'gamma_xi_gals_fAr_SA_int.jpeg')\n",
    "plt.savefig(file_name, bbox_inches='tight', dpi=160 )\n"
   ]
  },
  {
   "cell_type": "code",
   "execution_count": 42,
   "id": "2583f20b",
   "metadata": {},
   "outputs": [],
   "source": [
    "file_SAfhi = 'FHI_SA.h5'\n",
    "xi_arr\n",
    "hf = h5py.File(file_SAfhi, 'w')\n",
    "hf.create_dataset('FHI_SA', data=np.transpose(FH2_fluxSA))\n",
    "hf.create_dataset('Gamma_yaxis', data= Gamma)\n",
    "hf.create_dataset('xi_arr_xaxis', data= xi_arr)\n",
    "hf.close()"
   ]
  },
  {
   "cell_type": "code",
   "execution_count": 43,
   "id": "f950d1d5",
   "metadata": {},
   "outputs": [],
   "source": [
    "file_SAfhi = 'FHI_Int.h5'\n",
    "xi_arr\n",
    "hf = h5py.File(file_SAfhi, 'w')\n",
    "hf.create_dataset('FHI_Int', data=np.transpose(FH2_fluxInt))\n",
    "hf.create_dataset('Gamma_yaxis', data= Gamma)\n",
    "hf.create_dataset('xi_arr_xaxis', data= xi_arr)\n",
    "hf.close()"
   ]
  },
  {
   "cell_type": "code",
   "execution_count": null,
   "id": "b1929cae",
   "metadata": {},
   "outputs": [],
   "source": []
  }
 ],
 "metadata": {
  "kernelspec": {
   "display_name": "Python 3 (ipykernel)",
   "language": "python",
   "name": "python3"
  },
  "language_info": {
   "codemirror_mode": {
    "name": "ipython",
    "version": 3
   },
   "file_extension": ".py",
   "mimetype": "text/x-python",
   "name": "python",
   "nbconvert_exporter": "python",
   "pygments_lexer": "ipython3",
   "version": "3.9.12"
  }
 },
 "nbformat": 4,
 "nbformat_minor": 5
}

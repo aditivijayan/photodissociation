{
 "cells": [
  {
   "cell_type": "code",
   "execution_count": 1,
   "id": "e3ebeced",
   "metadata": {},
   "outputs": [],
   "source": [
    "import seaborn as sns\n",
    "import matplotlib as mpl\n",
    "import _init_\n",
    "from constants import *\n",
    "from set_path import *\n",
    "from config import *\n",
    "from functions import *\n",
    "import scipy.integrate as integrate\n",
    "import matplotlib.colors as mcolors\n",
    "import matplotlib.cm\n",
    "import glob"
   ]
  },
  {
   "cell_type": "code",
   "execution_count": 2,
   "id": "a326214c",
   "metadata": {},
   "outputs": [
    {
     "data": {
      "text/plain": [
       "(-3.3011022787786, 9.478378378378378e-18)"
      ]
     },
     "execution_count": 2,
     "metadata": {},
     "output_type": "execute_result"
    }
   ],
   "source": [
    "f_diss = 0.1\n",
    "X = 0.74 \n",
    "F0 = 2.1e7\n",
    "G0 = 2. * f_diss * F0 * mp/X\n",
    "r0 = 250. * pc\n",
    "v0 = 170. * kmps\n",
    "t0 = r0/v0\n",
    "Mach = 1.e3\n",
    "Sigma0        = 52.*Msun_pcsq\n",
    "rmax = 10. * kpc\n",
    "tdyn = rmax/v0\n",
    "sat_time = (Sigma0/G0)/Myr\n",
    "xi_sol = np.log(G0*t0/Sigma0)\n",
    "xi_sol, G0"
   ]
  },
  {
   "cell_type": "code",
   "execution_count": 43,
   "id": "02836d89",
   "metadata": {},
   "outputs": [
    {
     "name": "stderr",
     "output_type": "stream",
     "text": [
      "/Users/aditivijayan/Projects/PhotoIonization/lib/functions.py:27: RuntimeWarning: invalid value encountered in sqrt\n",
      "  Ua_x =  np.sqrt((gamma*np.exp(-x) -1.)) * np.sqrt((a-1.)/a) #fixed area\n",
      "/Users/aditivijayan/Projects/PhotoIonization/lib/functions.py:40: RuntimeWarning: invalid value encountered in sqrt\n",
      "  prefac = 2. * xi * np.exp(-x)/np.sqrt(gamma*np.exp(-x)-1.)\n",
      "/var/folders/bh/gk6r7v913g3dxj455c079xyh0000gq/T/ipykernel_2882/111273773.py:19: IntegrationWarning: The occurrence of roundoff error is detected, which prevents \n",
      "  the requested tolerance from being achieved.  The error may be \n",
      "  underestimated.\n",
      "  dMassFluxHI[i,j] = integrate.quad(dMassFlux_HI,xlow, xhigh,   \\\n"
     ]
    }
   ],
   "source": [
    "Gamma = np.logspace(-5, 2., 100)\n",
    "xi_arr = np.linspace(-11, 7., 100) #xi = np.log(t0*G0/Sigma0)\n",
    "\n",
    "a = rmax/r0\n",
    "\n",
    "dMassFluxHI = np.zeros((xi_arr.shape[0], Gamma.shape[0]))\n",
    "dMassFluxtot = np.zeros((xi_arr.shape[0], Gamma.shape[0]))\n",
    "i = j =0 \n",
    "for xi in xi_arr:\n",
    "    j=0\n",
    "    for gamma in Gamma:\n",
    "        xcrit = np.log(gamma)\n",
    "        xlow = -10\n",
    "        if(xcrit<0.0):\n",
    "            xhigh = 1.01*xcrit\n",
    "        else:\n",
    "            xhigh = 0.99*xcrit\n",
    "        xi1 = 10.**xi\n",
    "        dMassFluxHI[i,j] = integrate.quad(dMassFlux_HI,xlow, xhigh,   \\\n",
    "                                            args=(a, gamma, xi1, Mach, 0))[0]\n",
    "\n",
    "        dMassFluxtot[i,j] = integrate.quad(dMassFlux_tot, xlow, xhigh,  \\\n",
    "                                            args=(a, gamma,  Mach, 0))[0] \n",
    "\n",
    "        \n",
    "    \n",
    "        j+=1\n",
    "            \n",
    "    i+=1\n"
   ]
  },
  {
   "cell_type": "code",
   "execution_count": 40,
   "id": "6ee2bd03",
   "metadata": {},
   "outputs": [
    {
     "data": {
      "text/plain": [
       "(nan, nan)"
      ]
     },
     "execution_count": 40,
     "metadata": {},
     "output_type": "execute_result"
    }
   ],
   "source": [
    "dMassFlux = dMassFluxHI/dMassFluxtot\n",
    "FH2_flux = 1. - dMassFlux\n",
    "FH2_flux[FH2_flux<0.0] = 0.0\n",
    "np.amax(FH2_flux),np.amin(FH2_flux)"
   ]
  },
  {
   "cell_type": "markdown",
   "id": "fa7e14d0",
   "metadata": {},
   "source": [
    "# Daddi+10 Data"
   ]
  },
  {
   "cell_type": "code",
   "execution_count": 450,
   "id": "f1877ac5",
   "metadata": {},
   "outputs": [
    {
     "data": {
      "text/plain": [
       "(219.54892659910658, 6.2, 170.0)"
      ]
     },
     "execution_count": 450,
     "metadata": {},
     "output_type": "execute_result"
    }
   ],
   "source": [
    "data_home = os.path.join(home, \"Data/CleanData/\")\n",
    "datapath = os.path.join(data_home, \"*.txt\")\n",
    "list_file = glob.glob(datapath)\n",
    "log_siggas = []\n",
    "log_sigSFR = []\n",
    "log_siggas_tdyn = []\n",
    "galtype = []\n",
    "radius = []\n",
    "torb = []\n",
    "list_file = ['/Users/aditivijayan/Projects/PhotoIonization/Data/CleanData/daddi10.txt']\n",
    "for file in list_file:\n",
    "    infile = open(file)\n",
    "    lines = infile.readlines()\n",
    "#     print(file)\n",
    "    for line in lines:\n",
    "        while(line.split()[0]!='#' and line.split()[0]!='\\n'):\n",
    "            siggas = float(line.split()[0])\n",
    "            sigSFR = float(line.split()[1])\n",
    "            sgastdyn = float(line.split()[2])\n",
    "            gal_type = str(line.split()[3])\n",
    "            rad = float(line.split()[4])\n",
    "            torbval = float(line.split()[5])\n",
    "            if(file == '/Users/aditivijayan/Projects/PhotoIonization/Data/CleanData/daddi10.txt'):\n",
    "                siggas = np.log10(siggas)\n",
    "                sigSFR = np.log10(sigSFR)\n",
    "                sgastdyn = np.log10(sgastdyn)\n",
    "            torb.append(torbval)\n",
    "            log_siggas.append(siggas)\n",
    "            log_sigSFR.append(sigSFR)\n",
    "            log_siggas_tdyn.append(sgastdyn)\n",
    "            galtype.append(gal_type)\n",
    "            radius.append(rad)\n",
    "\n",
    "            break\n",
    "            \n",
    "log_siggas_daddi =(log_siggas)\n",
    "log_sigSFR_daddi = log_sigSFR\n",
    "log_torb_daddi   = (log_torb)\n",
    "log_siggas_tdyn_daddi  = log_siggas_tdyn\n",
    "galtype_daddi    = galtype\n",
    "siggas_daddi     = 10.**(np.asarray(log_siggas))*Msun/pc/pc\n",
    "torb_daddi       = np.asarray(torb) * Myr\n",
    "rad_daddi        = np.asarray(radius)*kpc\n",
    "v0_daddi         =  2. *math.pi * rad_daddi/torb_daddi/kmps\n",
    "v0_daddi[1], rad_daddi[1]/kpc, torb_daddi[1]/Myr"
   ]
  },
  {
   "cell_type": "markdown",
   "id": "f7962154",
   "metadata": {},
   "source": [
    "# Genzel Data"
   ]
  },
  {
   "cell_type": "code",
   "execution_count": 460,
   "id": "f4319e3a",
   "metadata": {},
   "outputs": [
    {
     "data": {
      "text/plain": [
       "[157.0, 590.0, 295.0, 457.0, 442.0, 343.0, 317.0, 430.0, 346.0, 523.0, 590.0]"
      ]
     },
     "execution_count": 460,
     "metadata": {},
     "output_type": "execute_result"
    }
   ],
   "source": [
    "data_home = os.path.join(home, \"Data/CleanData/\")\n",
    "datapath = os.path.join(data_home, \"*.txt\")\n",
    "list_file = glob.glob(datapath)\n",
    "log_siggas = []\n",
    "log_sigSFR = []\n",
    "log_siggas_tdyn = []\n",
    "galtype = []\n",
    "radius = []\n",
    "log_torb = []\n",
    "v0_genzel = []\n",
    "list_file = ['/Users/aditivijayan/Projects/PhotoIonization/Data/CleanData/genzel2010.txt']\n",
    "for file in list_file:\n",
    "    infile = open(file)\n",
    "    lines = infile.readlines()\n",
    "#     print(file)\n",
    "    for line in lines:\n",
    "        while(line.split()[0]!='#' and line.split()[0]!='\\n'):\n",
    "            siggas = float(line.split()[0])\n",
    "            sigSFR = float(line.split()[1])\n",
    "            sgastdyn = float(line.split()[2])\n",
    "            gal_type = str(line.split()[3])\n",
    "            rad = float(line.split()[4])\n",
    "            torb = float(line.split()[5])\n",
    "            v0 = float(line.split()[6])\n",
    "            log_torb.append(torb)\n",
    "            log_siggas.append(siggas)\n",
    "            log_sigSFR.append(sigSFR)\n",
    "            log_siggas_tdyn.append(sgastdyn)\n",
    "            galtype.append(gal_type)\n",
    "            radius.append(rad)\n",
    "            v0_genzel.append(v0)\n",
    "            break\n",
    "            \n",
    "log_siggas_genzel =(log_siggas)\n",
    "log_sigSFR_genzel = log_sigSFR\n",
    "log_torb_genzel = (log_torb)\n",
    "log_siggas_tdyn_genzel = log_siggas_tdyn\n",
    "siggas_genzel = 10.**(np.asarray(log_siggas))*Msun/pc/pc\n",
    "torb_genzel = 10.**np.asarray(log_torb) * Myr\n",
    "galtype_genzel = (galtype)\n",
    "rad_genzel = np.asarray(radius)*kpc\n",
    "# v0_genzel = 2.  * math.pi * rad_genzel/torb_genzel/kmps\n",
    "v0_genzel"
   ]
  },
  {
   "cell_type": "markdown",
   "id": "999e4f8f",
   "metadata": {},
   "source": [
    "# Kennicutt Data"
   ]
  },
  {
   "cell_type": "code",
   "execution_count": 324,
   "id": "4039b86f",
   "metadata": {},
   "outputs": [
    {
     "data": {
      "text/plain": [
       "(11.831999999999999, 1.4980470588661592, 158.48931924611142)"
      ]
     },
     "execution_count": 324,
     "metadata": {},
     "output_type": "execute_result"
    }
   ],
   "source": [
    "data_home = os.path.join(home, \"Data/CleanData/\")\n",
    "datapath = os.path.join(data_home, \"*.txt\")\n",
    "list_file = glob.glob(datapath)\n",
    "log_siggas = []\n",
    "log_siggas_tdyn = []\n",
    "galtype = []\n",
    "rad_arcmin = []\n",
    "distance = []\n",
    "log_torb = []\n",
    "log_sigSFR = []\n",
    "list_file = ['/Users/aditivijayan/Projects/PhotoIonization/Data/CleanData/kennicutt98b.txt']\n",
    "for file in list_file:\n",
    "    infile = open(file)\n",
    "    lines = infile.readlines()\n",
    "    for line in lines:\n",
    "        while(line.split()[0]!='#' and line.split()[0]!='\\n'):\n",
    "            siggas = float(line.split()[0])\n",
    "            sigSFR = float(line.split()[1])\n",
    "            sgastdyn = float(line.split()[2])\n",
    "            gal_type = str(line.split()[3])\n",
    "            if(len(line.split())>7):\n",
    "                log_siggas.append(siggas)\n",
    "                log_sigSFR.append(sigSFR)\n",
    "                log_siggas_tdyn.append(sgastdyn)\n",
    "                log_torb.append(float(line.split()[-1]))\n",
    "                distance.append(float(line.split()[-2]))\n",
    "                rad_arcmin.append(float(line.split()[-3])/2.)\n",
    "                galtype.append(gal_type)\n",
    "            break\n",
    "            \n",
    "log_siggas_kenni =(log_siggas)\n",
    "log_sigSFR_kenni = log_sigSFR\n",
    "log_torb_kenni = (log_torb)\n",
    "log_siggas_tdyn_kenni = log_siggas_tdyn\n",
    "galtype_kenni = (galtype)\n",
    "siggas_kenni = 10.**(np.asarray(log_siggas))*Msun/pc/pc\n",
    "torb_kenni = 10.**(np.asarray(log_torb)) * Myr\n",
    "distance = np.asarray(distance)\n",
    "rad_radian = np.asarray(rad_arcmin)*2.9e-4\n",
    "rad_kenni= rad_radian * distance * 1.e3 * kpc\n",
    "v0_kenni = 2. * math.pi * rad_kenni/torb_kenni/kmps\n",
    "# v0_kenni,np.log10(torb_kenni[-3]/Myr), \n",
    "rad_kenni[4]/kpc,v0_kenni[4], (torb_kenni[4]/Myr), "
   ]
  },
  {
   "cell_type": "code",
   "execution_count": 457,
   "id": "680446af",
   "metadata": {},
   "outputs": [
    {
     "data": {
      "text/plain": [
       "<matplotlib.legend.Legend at 0x7fcfc24dbfa0>"
      ]
     },
     "execution_count": 457,
     "metadata": {},
     "output_type": "execute_result"
    },
    {
     "data": {
      "image/png": "[encoded data removed]",
      "text/plain": [
       "<Figure size 720x576 with 1 Axes>"
      ]
     },
     "metadata": {
      "needs_background": "light"
     },
     "output_type": "display_data"
    }
   ],
   "source": [
    "plt.figure(figsize=(10,8))\n",
    "plt.plot(log_siggas_kenni, v0_kenni, 'o', label='Kennitcutt+98', markersize=10)\n",
    "plt.plot(log_siggas_genzel, v0_genzel, '*', label = 'Genzel', markersize=10)\n",
    "plt.plot(log_siggas_daddi, v0_daddi, 's', label='Daddi+10', markersize=10)\n",
    "plt.ylabel(r\"$v_0=r_0/t_{\\rm orb}$\")\n",
    "plt.xlabel(r'log$\\Sigma_{\\rm gas}$')\n",
    "plt.xlim(0.1, 5.)\n",
    "plt.legend(fontsize=18,  loc='lower right')"
   ]
  },
  {
   "cell_type": "code",
   "execution_count": 328,
   "id": "147863f7",
   "metadata": {},
   "outputs": [],
   "source": [
    "logsiggas = log_siggas_daddi + log_siggas_genzel + log_siggas_kenni\n",
    "logsfr    = log_sigSFR_daddi + log_sigSFR_genzel + log_sigSFR_kenni\n",
    "logtorb   = log_torb_daddi   + log_torb_genzel   + log_torb_kenni\n",
    "galtype   = np.asarray(galtype_daddi    + galtype_genzel    + galtype_kenni)\n",
    "radius    = np.asarray(rad_daddi.tolist() + rad_genzel.tolist() + rad_kenni.tolist())\n",
    "logsiggas_tdyn = log_siggas_tdyn_daddi + log_siggas_tdyn_genzel + log_siggas_tdyn_kenni\n",
    "\n",
    "siggas    = 10.**np.asarray(logsiggas)*Msun/pc/pc\n",
    "sigSFR    = 10.**np.asarray(logsfr) * Msun/yr_to_sec/kpc/kpc\n",
    "siggas_tdyn = 10.**np.asarray(logsiggas_tdyn)*Msun/yr_to_sec/pc/pc/1.e6\n",
    "torb      = 10.**np.asarray(logtorb)*Myr\n",
    "p_avg     = 3.e3 * 1.e5\n",
    "G         = 6.67e-8\n",
    "gamma_data_new = sigSFR * p_avg * torb**2/(16. * math.pi**3 * radius * siggas)\n",
    "gamma_data_old = 2. * fg * sigSFR * p_avg/(math.pi * G * (siggas**2.))\n",
    "G0 = 1. * 9.478378378378378e-18 \n",
    "xi_data = np.log(G0/siggas_tdyn)"
   ]
  },
  {
   "cell_type": "code",
   "execution_count": 329,
   "id": "aa933e9c",
   "metadata": {},
   "outputs": [
    {
     "name": "stderr",
     "output_type": "stream",
     "text": [
      "No artists with labels found to put in legend.  Note that artists whose label start with an underscore are ignored when legend() is called with no argument.\n"
     ]
    },
    {
     "data": {
      "image/png": "[encoded data removed]",
      "text/plain": [
       "<Figure size 576x576 with 2 Axes>"
      ]
     },
     "metadata": {
      "needs_background": "light"
     },
     "output_type": "display_data"
    }
   ],
   "source": [
    "fig, ax = plt.subplots(1, 1, gridspec_kw = {'wspace':0.01, 'hspace':0.00},figsize=(8,8))\n",
    "\n",
    "cbarx    = 0.155\n",
    "cbheight = 0.04\n",
    "cbary = 0.89\n",
    "cblen = 0.7\n",
    "dx1 = 0.4\n",
    "cbtitlex = 0.1\n",
    "colors =  sns.color_palette(\"Spectral\", 8, as_cmap=True)\n",
    "\n",
    "plot = ax.pcolormesh(10.**xi_arr, Gamma, np.transpose(FH2_flux),\\\n",
    "                    vmin=0., vmax=1.,\n",
    "                    cmap=colors)\n",
    "cax = fig.add_axes([cbarx, cbary, cblen, cbheight])\n",
    "fig.colorbar(plot, cax=cax, orientation='horizontal', ticks=(0.0, 0.2, 0.4, 0.6, 0.8, 1.))\n",
    "cax.xaxis.set_ticks_position('top')\n",
    "cax.set_title(r\" $\\mathcal{F}_{\\rm H_2}$\", fontsize=30)\n",
    "# ax.set_xlim(-11., 7.)\n",
    "ax.set_ylim(3.e-4, 1.e2)\n",
    "ax.set_yscale('log')\n",
    "ax.set_xscale('log')\n",
    "ax.set_ylabel(r'$\\Gamma$', fontsize=30)\n",
    "ax.set_xlabel(r'$\\xi$', fontsize=30)\n",
    "ax.tick_params(axis='y', which='both', labelleft=True, right=True, left=True)\n",
    "\n",
    "\n",
    "\n",
    "slope = 1.\n",
    "yy =  ( xi_arr * slope + 1.2) \n",
    "ax.plot(10.**xi_arr, 10.**yy, color='black', ls='--', lw=2.)\n",
    "ax.legend(loc='lower right', fontsize=\"30\")\n",
    "ax.set_xlim(2.e-11, 1.e7)\n",
    "\n",
    "\n",
    "for i in range(xi_data.shape[0]):\n",
    "    \n",
    "    if(galtype[i]=='Starburst'):\n",
    "        if(i==8):\n",
    "            ax.plot(10.**xi_data[i], gamma_data_new[i], '*', color='gold', markersize='12',label='Starburst')\n",
    "        else:\n",
    "            ax.plot(10.**xi_data[i], gamma_data_new[i], '*', color='gold', markersize='14')\n",
    "            ax.plot(10.**xi_data[i], gamma_data_new[i], '*', color='gold', markersize='14')\n",
    "    else:\n",
    "        if(i==0):\n",
    "            ax.plot(10.**xi_data[i], gamma_data_new[i], 'o', color='black', markersize='6')\n",
    "            ax.plot(10.**xi_data[i], gamma_data_new[i], 'o', color='black', markersize='6', label='Non-SB')\n",
    "        else:\n",
    "            ax.plot(10.**xi_data[i], gamma_data_new[i], 'o', color='black', markersize='6')\n",
    "            ax.plot(10.**xi_data[i], gamma_data_new[i], 'o', color='black', markersize='6')\n",
    "\n",
    "ax.legend(loc='upper left', fontsize=\"24\", frameon=False)\n",
    "ax.legend(loc='upper left', fontsize=\"24\", frameon=False)\n",
    "# ax[1].legend(loc='upper left', fontsize=\"26\")\n",
    "file_name = os.path.join(fig_path, 'gamma_xi_gals.jpeg')\n",
    "# plt.savefig(file_name, bbox_inches='tight', dpi=160 )\n"
   ]
  },
  {
   "cell_type": "code",
   "execution_count": 330,
   "id": "685a2cf3",
   "metadata": {},
   "outputs": [
    {
     "data": {
      "image/png": "[encoded data removed]",
      "text/plain": [
       "<Figure size 576x576 with 2 Axes>"
      ]
     },
     "metadata": {
      "needs_background": "light"
     },
     "output_type": "display_data"
    }
   ],
   "source": [
    "fig, ax = plt.subplots(1, 1, gridspec_kw = {'wspace':0.01, 'hspace':0.00},figsize=(8,8))\n",
    "\n",
    "cbarx    = 0.155\n",
    "cbheight = 0.04\n",
    "cbary = 0.89\n",
    "cblen = 0.7\n",
    "dx1 = 0.4\n",
    "cbtitlex = 0.1\n",
    "colors =  sns.color_palette(\"Spectral\", 8, as_cmap=True)\n",
    "\n",
    "plot = ax.pcolormesh(10.**xi_arr, Gamma, np.transpose(FH2_flux),\\\n",
    "                    vmin=0., vmax=1.,\n",
    "                    cmap=colors)\n",
    "cax = fig.add_axes([cbarx, cbary, cblen, cbheight])\n",
    "fig.colorbar(plot, cax=cax, orientation='horizontal', ticks=(0.0, 0.2, 0.4, 0.6, 0.8, 1.))\n",
    "cax.xaxis.set_ticks_position('top')\n",
    "cax.set_title(r\" $\\mathcal{F}_{\\rm H_2}$\", fontsize=30)\n",
    "# ax.set_xlim(-11., 7.)\n",
    "ax.set_ylim(3.e-4, 1.e2)\n",
    "ax.set_yscale('log')\n",
    "ax.set_xscale('log')\n",
    "ax.set_ylabel(r'$\\Gamma$', fontsize=30)\n",
    "ax.set_xlabel(r'$\\xi$', fontsize=30)\n",
    "ax.tick_params(axis='y', which='both', labelleft=True, right=True, left=True)\n",
    "\n",
    "\n",
    "\n",
    "slope = 1.\n",
    "yy =  ( xi_arr * slope + 1.2) \n",
    "# ax.plot(10.**xi_arr, 10.**yy, color='black', ls='--', lw=2.)\n",
    "# ax.legend(loc='lower right', fontsize=\"30\")\n",
    "ax.set_xlim(2.e-11, 1.e7)\n",
    "\n",
    "\n",
    "for i in range(xi_data.shape[0]):\n",
    "    \n",
    "    if(galtype[i]=='Starburst'):\n",
    "        if(i==8):\n",
    "            ax.plot(10.**xi_data[i], gamma_data_old[i], '*', color='gold', markersize='12',label='Starburst')\n",
    "        else:\n",
    "            ax.plot(10.**xi_data[i], gamma_data_old[i], '*', color='gold', markersize='14')\n",
    "            ax.plot(10.**xi_data[i], gamma_data_old[i], '*', color='gold', markersize='14')\n",
    "    else:\n",
    "        if(i==0):\n",
    "            ax.plot(10.**xi_data[i], gamma_data_old[i], 'o', color='black', markersize='6')\n",
    "            ax.plot(10.**xi_data[i], gamma_data_old[i], 'o', color='black', markersize='6', label='Non-SB')\n",
    "        else:\n",
    "            ax.plot(10.**xi_data[i], gamma_data_old[i], 'o', color='black', markersize='6')\n",
    "            ax.plot(10.**xi_data[i], gamma_data_old[i], 'o', color='black', markersize='6')\n",
    "\n",
    "ax.legend(loc='upper left', fontsize=\"24\", frameon=False)\n",
    "ax.legend(loc='upper left', fontsize=\"24\", frameon=False)\n",
    "# ax[1].legend(loc='upper left', fontsize=\"26\")\n",
    "file_name = os.path.join(fig_path, 'gamma_xi_gals.jpeg')\n",
    "# plt.savefig(file_name, bbox_inches='tight', dpi=160 )\n"
   ]
  },
  {
   "cell_type": "code",
   "execution_count": null,
   "id": "c16eca1c",
   "metadata": {},
   "outputs": [],
   "source": [
    "data_home = os.path.join(home, \"Data/\")\n",
    "datapath = os.path.join(data_home, \"*.txt\")\n",
    "list_file = glob.glob(datapath)\n",
    "log_siggas = []\n",
    "log_sigSFR = []\n",
    "log_siggas_tdyn = []\n",
    "galtype = []\n",
    "radius = []\n",
    "log_torb = []\n",
    "list_file = ['/Users/aditivijayan/Projects/PhotoIonization/Data/krumholz_12.txt']\n",
    "for file in list_file:\n",
    "    infile = open(file)\n",
    "    lines = infile.readlines()\n",
    "#     print(file)\n",
    "    for line in lines:\n",
    "        while(line.split()[0]!='#' and line.split()[0]!='\\n'):\n",
    "            siggas = float(line.split()[0])\n",
    "            sigSFR = float(line.split()[1])\n",
    "            sgastdyn = float(line.split()[2])\n",
    "            gal_type = str(line.split()[3])\n",
    "            rad = float(line.split()[4])\n",
    "            torb = float(line.split()[5])\n",
    "            \n",
    "            log_torb.append(torb)\n",
    "            log_siggas.append(siggas)\n",
    "            log_sigSFR.append(sigSFR)\n",
    "            log_siggas_tdyn.append(sgastdyn)\n",
    "            galtype.append(gal_type)\n",
    "            radius.append(rad)\n",
    "            print(rad)\n",
    "            break\n",
    "            \n",
    "log_siggas_genzel =(log_siggas)\n",
    "log_sigSFR_genzel = log_sigSFR\n",
    "log_torb_genzel = (log_torb)\n",
    "log_siggas_tdyn_genzel = log_siggas_tdyn\n",
    "siggas_genzel = 10.**(np.asarray(log_siggas))*Msun/pc/pc\n",
    "torb_genzel = 10.**np.asarray(log_torb) * Myr\n",
    "galtype_genzel = (galtype)\n",
    "rad_genzel = np.asarray(radius)*kpc\n",
    "v0_genzel = 2.  * math.pi * rad_genzel/torb_genzel/kmps\n",
    "v0_genzelt"
   ]
  },
  {
   "cell_type": "code",
   "execution_count": 715,
   "id": "ad879323",
   "metadata": {},
   "outputs": [],
   "source": [
    "file = '/Users/aditivijayan/Projects/PhotoIonization/Data/CleanData/krumholz12.txt'\n",
    "log_torb = []\n",
    "gal_name_krum = []\n",
    "gal_type_krum = []\n",
    "log_sigmagas = []\n",
    "log_sigmastar = []\n",
    "log_siggastdyn = []\n",
    "infile = open(file)\n",
    "lines = infile.readlines()\n",
    "i=0\n",
    "for line in lines:\n",
    "        while(line.split()[0]!='#' and line.split()[0]!='\\n'):\n",
    "            name = (line.split('\\t')[0].split(' ')[1])\n",
    "            if ((name.find('+')*name.find('w'))>0):\n",
    "                gal_name_krum.append(int(name))\n",
    "                gal_type_krum.append(line.split('\\t')[1])\n",
    "                log_sigmagas.append(float(line.split('\\t')[2]))\n",
    "                log_torb.append(float(line.split('\\t')[3]))\n",
    "                log_siggastdyn.append(float(line.split('\\t')[4]))\n",
    "                log_sigmastar.append(float(line.split('\\t')[5]))\n",
    "            break\n",
    "\n",
    "gal_name_krum = np.asarray(gal_name_krum)\n",
    "log_sigmagas_krum = np.asarray(log_sigmagas)\n",
    "log_sigmastar_krum = np.asarray(log_sigmastar)\n",
    "torb_krum = 10.**np.asarray(log_torb)\n",
    "log_siggastdyn_krum = np.asarray(log_siggastdyn)\n",
    "# gal_type_krum = np.asarray(gal_type_krum)"
   ]
  },
  {
   "cell_type": "code",
   "execution_count": 718,
   "id": "594ac093",
   "metadata": {},
   "outputs": [],
   "source": [
    "file = '/Users/aditivijayan/Projects/PhotoIonization/Data/kennicutt98_table1.txt'\n",
    "dia_arcmin = []\n",
    "gal_name_kenni = []\n",
    "\n",
    "infile = open(file)\n",
    "lines = infile.readlines()\n",
    "for line in lines:\n",
    "        while(line.split()[0]!='#' and line.split()[0]!='\\n'):\n",
    "            gal_name_kenni.append(int(line.split()[0]))\n",
    "            dia = float(line.split()[1])\n",
    "            dia_arcmin.append(dia)\n",
    "            break\n",
    "gal_name_kenni = np.asarray(gal_name_kenni)\n",
    "dia_arcmin = np.asarray(dia_arcmin)"
   ]
  },
  {
   "cell_type": "code",
   "execution_count": 719,
   "id": "20151968",
   "metadata": {},
   "outputs": [
    {
     "data": {
      "text/plain": [
       "array([ 224,  598,  772,  925, 1569, 2336, 2403, 2903, 2976, 3031, 3310,\n",
       "       3338, 3368, 3486, 3521, 3631, 3675, 3726, 3893, 4178, 4254, 4258,\n",
       "       4294, 4303, 4321, 4394, 4402, 4501, 4519, 4535, 4548, 4561, 4569,\n",
       "       4571, 4579, 4639, 4647, 4651, 4654, 4689, 4698, 4713, 4736, 5033,\n",
       "       5055, 5457, 6207, 6217, 6503, 6643, 7331])"
      ]
     },
     "execution_count": 719,
     "metadata": {},
     "output_type": "execute_result"
    }
   ],
   "source": [
    "common_krkc = (np.intersect1d(gal_name_krum, gal_name_kenni))\n",
    "indices_krum = np.where(np.isin(gal_name_krum, common_krkc))[0]\n",
    "indices_kenni = np.where(np.isin(gal_name_kenni, common_krkc))[0]\n",
    "common_krkc"
   ]
  },
  {
   "cell_type": "code",
   "execution_count": 720,
   "id": "d8d03e62",
   "metadata": {},
   "outputs": [
    {
     "name": "stdout",
     "output_type": "stream",
     "text": [
      "51\n"
     ]
    }
   ],
   "source": [
    "sorted_name_krum = [x for _,x in sorted(zip(gal_name_kenni[indices_kenni],gal_name_krum[indices_krum]))]\n",
    "print(len(sorted_name_krum))"
   ]
  },
  {
   "cell_type": "code",
   "execution_count": 721,
   "id": "a83f2333",
   "metadata": {},
   "outputs": [],
   "source": [
    "sorted_gtype_krum = []\n",
    "for ele in sorted_name_krum:\n",
    "    indx = np.where(ele==gal_name_krum)[0]\n",
    "    sorted_gtype_krum.append(gal_type_krum[int(indx)])"
   ]
  },
  {
   "cell_type": "code",
   "execution_count": 722,
   "id": "1cee984e",
   "metadata": {},
   "outputs": [],
   "source": [
    "inds = np.asarray(sorted_name_krum).argsort()\n",
    "trunc_logSigGas_krum = log_sigmagas_krum[indices_krum]\n",
    "sorted_logSigGas_krum =trunc_logSigGas_krum[inds]\n",
    "trunc_logSigStar_krum = log_sigmastar_krum[indices_krum]\n",
    "sorted_logSigStar_krum =trunc_logSigStar_krum[inds]\n",
    "trunc_torb_krum = torb_krum[indices_krum]\n",
    "sorted_torb_krum =trunc_torb_krum[inds]\n",
    "trunc_siggastdyn_krum = log_siggastdyn_krum[indices_krum]\n",
    "sorted_siggastdyn_krum =trunc_siggastdyn_krum[inds]"
   ]
  },
  {
   "cell_type": "code",
   "execution_count": 655,
   "id": "71ed905d",
   "metadata": {},
   "outputs": [
    {
     "data": {
      "text/plain": [
       "((51,), (51,))"
      ]
     },
     "execution_count": 655,
     "metadata": {},
     "output_type": "execute_result"
    }
   ],
   "source": [
    "file = '/Users/aditivijayan/Projects/PhotoIonization/Data/common_galaxies.txt'\n",
    "common_name = (np.loadtxt(file, usecols=0))\n",
    "distance_kenni = np.loadtxt(file, usecols=1)\n",
    "common_name.shape, distance_kenni.shape\n"
   ]
  },
  {
   "cell_type": "code",
   "execution_count": 656,
   "id": "4fdb55d6",
   "metadata": {},
   "outputs": [
    {
     "data": {
      "text/plain": [
       "array([165.2,  55.9,   7.2,   8.9,   2.5,   6.9,  15.8,  10.7,   4.9,\n",
       "        22.2,   3.5,   5.9,   6.5,   7.1,   8.1,   4.6,   5.9,   5.4,\n",
       "         3.9,   4. ,   5.2,  15.1,   2.5,   5.9,   6.8,   3.9,   3.1,\n",
       "         6. ,   3.1,   6.3,   5.1,   1.4,   7.9,   3.7,   5.1,   2.7,\n",
       "         3.4,   3.5,   4.3,   3.9,   3.7,   2.6,  10.5,   9.1,  11. ,\n",
       "        26.9,   2.6,   3. ,   4.9,   3.4,   8.5])"
      ]
     },
     "execution_count": 656,
     "metadata": {},
     "output_type": "execute_result"
    }
   ],
   "source": [
    "(dia_arcmin[indices_kenni])"
   ]
  },
  {
   "cell_type": "code",
   "execution_count": 657,
   "id": "0bd30de0",
   "metadata": {},
   "outputs": [
    {
     "data": {
      "text/plain": [
       "array([16.7678 ,  6.4844 , 34.452  , 12.25975,  1.0875 , 33.0165 ,\n",
       "       27.492  , 13.9635 ,  2.48675, 11.5884 ,  9.135  , 20.532  ,\n",
       "        9.425  ,  0.     , 15.2685 , 14.674  , 15.399  , 10.962  ,\n",
       "        9.6135 ,  8.004  , 13.195  , 15.3265 ,  0.     , 14.97125,\n",
       "       17.255  ,  9.89625,  7.192  , 13.05   ,  7.6415 , 15.98625,\n",
       "       12.94125,  4.669  , 20.04625,  9.38875, 12.94125,  6.85125,\n",
       "        8.6275 ,  0.     , 10.91125,  9.89625,  9.38875,  9.048  ,\n",
       "        6.85125, 11.8755 ,  0.     , 23.403  ,  6.032  ,  0.     ,\n",
       "        4.263  ,  9.86   , 17.255  ])"
      ]
     },
     "execution_count": 657,
     "metadata": {},
     "output_type": "execute_result"
    }
   ],
   "source": [
    "radius_kenni = (dia_arcmin[indices_kenni]*2.9e-4/2.) * distance_kenni * 1.e3 * kpc\n",
    "radius_kenni/kpc"
   ]
  },
  {
   "cell_type": "code",
   "execution_count": 733,
   "id": "5e90abec",
   "metadata": {},
   "outputs": [],
   "source": [
    "file = '/Users/aditivijayan/Projects/PhotoIonization/Data/krumholz_kennit_gal_data.txt'\n",
    "np.savetxt(file, np.column_stack([common_name,      dia_arcmin[indices_kenni],        distance_kenni,\\\n",
    "                                  radius_kenni/kpc, sorted_logSigGas_krum, sorted_logSigStar_krum,\\\n",
    "                                  sorted_torb_krum, sorted_siggastdyn_krum]),\\\n",
    "           fmt='%i \\t %1.2f \\t %1.2f \\t %1.2f \\t %1.2f \\t %1.2f \\t %1.2f \\t %1.2f \\n')"
   ]
  },
  {
   "cell_type": "code",
   "execution_count": 725,
   "id": "471361d7",
   "metadata": {},
   "outputs": [
    {
     "data": {
      "text/plain": [
       "array([0.68, 1.03, 0.94, 0.91, 1.33, 0.91, 0.88, 0.86, 0.98, 0.85, 1.14,\n",
       "       0.81, 0.93, 0.88, 1.22, 1.16, 0.99, 1.06, 1.06, 1.13, 1.39, 0.59,\n",
       "       1.02, 1.21, 1.14, 0.63, 1.08, 1.09, 0.99, 1.01, 0.69, 1.52, 0.61,\n",
       "       0.83, 0.81, 0.73, 1.04, 1.06, 1.1 , 0.94, 0.25, 1.04, 0.65, 0.93,\n",
       "       1.17, 1.09, 1.03, 1.29, 0.89, 1.11, 1.08])"
      ]
     },
     "execution_count": 725,
     "metadata": {},
     "output_type": "execute_result"
    }
   ],
   "source": [
    "sorted_logSigGas_krum"
   ]
  },
  {
   "cell_type": "code",
   "execution_count": 726,
   "id": "e4f0c2cb",
   "metadata": {},
   "outputs": [
    {
     "data": {
      "text/plain": [
       "array([-3.37, -2.71, -3.08, -2.68, -1.04, -2.16, -2.39, -2.55, -1.9 ,\n",
       "       -2.74, -1.38, -2.8 , -2.79, -2.7 , -2.15, -1.97, -2.25, -2.52,\n",
       "       -2.2 , -2.51, -1.94, -2.6 , -2.11, -1.98, -2.31, -3.12, -3.04,\n",
       "       -2.45, -2.22, -2.62, -2.76, -2.17, -3.02, -2.8 , -2.56, -2.35,\n",
       "       -2.46, -2.22, -2.3 , -2.62, -3.79, -1.77, -2.46, -2.88, -2.56,\n",
       "       -2.7 , -1.94, -2.15, -2.32, -2.05, -2.57])"
      ]
     },
     "execution_count": 726,
     "metadata": {},
     "output_type": "execute_result"
    }
   ],
   "source": [
    "sorted_logSigStar_krum"
   ]
  },
  {
   "cell_type": "code",
   "execution_count": 731,
   "id": "7c00079b",
   "metadata": {},
   "outputs": [
    {
     "data": {
      "text/plain": [
       "array([-3.37, -2.71, -3.08, -2.68, -1.04, -2.16, -2.39, -2.55, -1.9 ,\n",
       "       -2.74, -1.38, -2.8 , -2.79, -2.7 , -2.15, -1.97, -2.25, -2.52,\n",
       "       -2.2 , -2.51, -1.94, -2.6 , -2.11, -1.98, -2.31, -3.12, -3.04,\n",
       "       -2.45, -2.22, -2.62, -2.76, -2.17, -3.02, -2.8 , -2.56, -2.35,\n",
       "       -2.46, -2.22, -2.3 , -2.62, -3.79, -1.77, -2.46, -2.88, -2.56,\n",
       "       -2.7 , -1.94, -2.15, -2.32, -2.05, -2.57])"
      ]
     },
     "execution_count": 731,
     "metadata": {},
     "output_type": "execute_result"
    }
   ],
   "source": [
    "sorted_logSigStar_krum"
   ]
  },
  {
   "cell_type": "code",
   "execution_count": 732,
   "id": "880e0e34",
   "metadata": {},
   "outputs": [
    {
     "data": {
      "text/plain": [
       "array([-1.98, -1.57, -1.96, -1.95, -0.97, -1.96, -1.66, -1.63, -1.13,\n",
       "       -1.58, -1.26, -1.79, -1.5 , -1.63, -1.3 , -1.53, -1.35, -1.45,\n",
       "       -1.42, -1.46, -1.15, -2.09, -1.46, -1.47, -1.51, -1.88, -1.54,\n",
       "       -1.43, -1.47, -1.71, -1.84, -0.68, -2.09, -1.84, -1.64, -1.61,\n",
       "       -1.5 , -1.37, -1.44, -1.57, -2.15, -1.47, -1.78, -1.96, -1.41,\n",
       "       -1.85, -1.38, -1.17, -1.34, -1.46, -1.68])"
      ]
     },
     "execution_count": 732,
     "metadata": {},
     "output_type": "execute_result"
    }
   ],
   "source": [
    "sorted_siggastdyn_krum"
   ]
  },
  {
   "cell_type": "code",
   "execution_count": 734,
   "id": "27de22f7",
   "metadata": {},
   "outputs": [
    {
     "data": {
      "text/plain": [
       "array([457.08818961, 398.10717055, 794.32823472, 724.43596007,\n",
       "       199.5262315 , 741.3102413 , 346.73685045, 309.02954325,\n",
       "       128.82495517, 269.15348039, 251.18864315, 398.10717055,\n",
       "       269.15348039, 323.59365693, 331.13112148, 489.77881937,\n",
       "       218.77616239, 323.59365693, 301.99517204, 389.04514499,\n",
       "       346.73685045, 478.63009232, 301.99517204, 478.63009232,\n",
       "       446.68359215, 323.59365693, 416.86938347, 331.13112148,\n",
       "       288.40315031, 524.80746025, 338.84415614, 158.48931925,\n",
       "       501.18723363, 467.73514129, 281.83829313, 218.77616239,\n",
       "       346.73685045, 269.15348039, 346.73685045, 323.59365693,\n",
       "       251.18864315, 323.59365693, 269.15348039, 776.24711663,\n",
       "       380.18939632, 870.96358996, 257.03957828, 288.40315031,\n",
       "       169.82436525, 371.5352291 , 575.43993734])"
      ]
     },
     "execution_count": 734,
     "metadata": {},
     "output_type": "execute_result"
    }
   ],
   "source": [
    "sorted_torb_krum"
   ]
  },
  {
   "cell_type": "code",
   "execution_count": null,
   "id": "27fef12d",
   "metadata": {},
   "outputs": [],
   "source": []
  }
 ],
 "metadata": {
  "kernelspec": {
   "display_name": "Python 3 (ipykernel)",
   "language": "python",
   "name": "python3"
  },
  "language_info": {
   "codemirror_mode": {
    "name": "ipython",
    "version": 3
   },
   "file_extension": ".py",
   "mimetype": "text/x-python",
   "name": "python",
   "nbconvert_exporter": "python",
   "pygments_lexer": "ipython3",
   "version": "3.9.12"
  }
 },
 "nbformat": 4,
 "nbformat_minor": 5
}

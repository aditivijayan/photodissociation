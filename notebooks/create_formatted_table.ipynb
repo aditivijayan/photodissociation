{
 "cells": [
  {
   "cell_type": "code",
   "execution_count": 2,
   "id": "35fb6241",
   "metadata": {},
   "outputs": [],
   "source": [
    "import seaborn as sns\n",
    "import matplotlib as mpl\n",
    "import _init_\n",
    "from constants import *\n",
    "from set_path import *\n",
    "from config import *\n",
    "from functions import *\n",
    "import scipy.integrate as integrate\n",
    "import matplotlib.colors as mcolors\n",
    "import matplotlib.cm\n",
    "import glob\n",
    "from scipy import interpolate"
   ]
  },
  {
   "cell_type": "code",
   "execution_count": 3,
   "id": "cc5b9213",
   "metadata": {},
   "outputs": [],
   "source": [
    "p_avg     = 3.e3 * 1.e5\n",
    "G         = 6.67e-8\n",
    "Sigma_diss = 1.5 * Msun /pc/pc/Myr\n",
    "chi0 = 1.0\n",
    "#xi = chi0 * Sigma_diss *t0/Sigma_gas"
   ]
  },
  {
   "cell_type": "markdown",
   "id": "c04c7a60",
   "metadata": {},
   "source": [
    "# Daddi+10"
   ]
  },
  {
   "cell_type": "code",
   "execution_count": 4,
   "id": "ea084d79",
   "metadata": {},
   "outputs": [
    {
     "data": {
      "text/plain": [
       "(1.1609326759320253,\n",
       " 0.058313746708636836,\n",
       " 0.15776570960696956,\n",
       " 0.017064852111817547)"
      ]
     },
     "execution_count": 4,
     "metadata": {},
     "output_type": "execute_result"
    }
   ],
   "source": [
    "data_home = os.path.join(home, \"Data/CleanData/\")\n",
    "datapath = os.path.join(data_home, \"*.txt\")\n",
    "list_file = glob.glob(datapath)\n",
    "log_siggas = []\n",
    "log_sigSFR = []\n",
    "log_siggas_tdyn = []\n",
    "galtype = []\n",
    "radius = []\n",
    "torb = []\n",
    "list_file = ['/Users/aditivijayan/Projects/PhotoDissociation/Data/CleanData/daddi10.txt']\n",
    "for file in list_file:\n",
    "    infile = open(file)\n",
    "    lines = infile.readlines()\n",
    "#     print(file)\n",
    "    for line in lines:\n",
    "        while(line.split()[0]!='#' and line.split()[0]!='\\n'):\n",
    "            siggas = float(line.split()[0])\n",
    "            sigSFR = float(line.split()[1])\n",
    "            sgastdyn = float(line.split()[2])\n",
    "            gal_type = str(line.split()[3])\n",
    "            rad = float(line.split()[4])\n",
    "            torbval = float(line.split()[5])\n",
    "            if(file == '/Users/aditivijayan/Projects/PhotoDissociation/Data/CleanData/daddi10.txt'):\n",
    "                siggas = np.log10(siggas)\n",
    "                sigSFR = np.log10(sigSFR)\n",
    "                sgastdyn = np.log10(sgastdyn)\n",
    "            torb.append(torbval)\n",
    "            log_siggas.append(siggas)\n",
    "            log_sigSFR.append(sigSFR)\n",
    "            log_siggas_tdyn.append(sgastdyn)\n",
    "            galtype.append(gal_type)\n",
    "            radius.append(rad)\n",
    "\n",
    "            break\n",
    "            \n",
    "log_siggas_daddi       = log_siggas\n",
    "log_sigSFR_daddi       = log_sigSFR\n",
    "log_siggas_tdyn_daddi  = log_siggas_tdyn\n",
    "galtype_daddi          = galtype\n",
    "\n",
    "siggas_daddi     = 10.**(np.asarray(log_siggas_daddi))*Msun/pc/pc\n",
    "sigSFR_daddi     = 10.**(np.asarray(log_sigSFR_daddi))*Msun/yr_to_sec/kpc/kpc\n",
    "siggas_tdyn_daddi= 10.**(np.asarray(log_siggas_tdyn_daddi))*Msun/yr_to_sec/pc/pc/1.e6\n",
    "torb_daddi       = np.asarray(torb) * Myr\n",
    "rad_daddi        = np.asarray(radius)*kpc\n",
    "v0_daddi         =  2. *math.pi * rad_daddi/torb_daddi/kmps\n",
    "gamma_data_daddi = sigSFR_daddi * p_avg * torb_daddi**2/(16. * math.pi**2 * rad_daddi * siggas_daddi)\n",
    "xi_data_daddi = chi0 * Sigma_diss * torb_daddi/(2.**1.5 * math.pi * siggas_daddi)\n",
    "# xi_data_daddi = chi0 * Sigma_diss/(siggas_tdyn_daddi)\n",
    "np.amax(gamma_data_daddi),np.amin(gamma_data_daddi),np.amax(xi_data_daddi),np.amin(xi_data_daddi)"
   ]
  },
  {
   "cell_type": "code",
   "execution_count": 9,
   "id": "ef8da09a",
   "metadata": {},
   "outputs": [
    {
     "data": {
      "text/plain": [
       "array([0.19549151, 0.20098099, 0.07988297, 0.09944749, 0.07399825,\n",
       "       0.16650703])"
      ]
     },
     "execution_count": 9,
     "metadata": {},
     "output_type": "execute_result"
    }
   ],
   "source": [
    "siggas_daddi"
   ]
  },
  {
   "cell_type": "code",
   "execution_count": 4,
   "id": "0889d0ec",
   "metadata": {},
   "outputs": [],
   "source": [
    "daddi_name = [\n",
    "    'BzK-4171',\n",
    "'BzK-21000', \n",
    "'BzK-16000',\n",
    "'BzK-17999',\n",
    "'BzK-12591',\n",
    "'BzK-25536' \n",
    "]\n",
    "ref_daddi = ['Daddi et al. (2010)']*len(daddi_name)"
   ]
  },
  {
   "cell_type": "code",
   "execution_count": 5,
   "id": "c57e51f2",
   "metadata": {},
   "outputs": [
    {
     "name": "stdout",
     "output_type": "stream",
     "text": [
      "BzK-4171\tNon-SB\t0.08\t2.95\t90.0\t3.7\t-1.23\t-1.77\n",
      "BzK-21000\tNon-SB\t0.19\t2.96\t170.0\t6.2\t-0.80\t-1.50\n",
      "BzK-16000\tNon-SB\t-0.03\t2.56\t340.0\t5.1\t0.06\t-0.80\n",
      "BzK-17999\tNon-SB\t0.03\t2.66\t130.0\t4.7\t-0.78\t-1.31\n",
      "BzK-12591\tNon-SB\t-0.04\t2.53\t90.0\t4.5\t-1.01\t-1.35\n",
      "BzK-25536\tNon-SB\t0.05\t2.88\t210.0\t3.0\t-0.37\t-1.33\n"
     ]
    }
   ],
   "source": [
    "i=0\n",
    "for galtype, sfr, siggas, torb, rad, gam, xi in zip(galtype_daddi, np.asarray(log_sigSFR_daddi), np.asarray(log_siggas_daddi), np.asarray(torb_daddi)/Myr, (rad_daddi/kpc), np.log10(np.asarray(gamma_data_daddi)), np.log10(np.asarray(xi_data_daddi))):\n",
    "    if(galtype!='Starburst'):\n",
    "        tyype = 'Non-SB'\n",
    "    else:\n",
    "        tyype = 'SB'\n",
    "    print(daddi_name[i] +  '\\t' + tyype + '\\t' '%.2f'%(sfr) +'\\t' '%.2f'%(siggas) +'\\t' '%.1f'%(torb) +'\\t' '%.1f'%(rad) +'\\t' '%.2f'%(gam) +'\\t' '%.2f'%(xi))\n",
    "    i+=1"
   ]
  },
  {
   "cell_type": "markdown",
   "id": "3ae6f1f3",
   "metadata": {},
   "source": [
    "# Genzel+10"
   ]
  },
  {
   "cell_type": "code",
   "execution_count": 6,
   "id": "25c917a3",
   "metadata": {},
   "outputs": [
    {
     "data": {
      "text/plain": [
       "(0.30304662518819475,\n",
       " 0.018529167563143205,\n",
       " 0.07268553308526017,\n",
       " 5.613360292468564e-05)"
      ]
     },
     "execution_count": 6,
     "metadata": {},
     "output_type": "execute_result"
    }
   ],
   "source": [
    "data_home = os.path.join(home, \"Data/CleanData/\")\n",
    "datapath = os.path.join(data_home, \"*.txt\")\n",
    "list_file = glob.glob(datapath)\n",
    "log_siggas = []\n",
    "log_sigSFR = []\n",
    "log_siggas_tdyn = []\n",
    "galtype = []\n",
    "radius = []\n",
    "log_torb = []\n",
    "v0_genzel = []\n",
    "list_file = ['/Users/aditivijayan/Projects/PhotoDissociation/Data/CleanData/genzel2010.txt']\n",
    "for file in list_file:\n",
    "    infile = open(file)\n",
    "    lines = infile.readlines()\n",
    "#     print(file)\n",
    "    for line in lines:\n",
    "        while(line.split()[0]!='#' and line.split()[0]!='\\n'):\n",
    "            siggas = float(line.split()[0])\n",
    "            sigSFR = float(line.split()[1])\n",
    "            sgastdyn = float(line.split()[2])\n",
    "            gal_type = str(line.split()[3])\n",
    "            rad = float(line.split()[4])\n",
    "            torb = float(line.split()[5])\n",
    "            v0 = float(line.split()[6])\n",
    "            log_torb.append(torb)\n",
    "            log_siggas.append(siggas)\n",
    "            log_sigSFR.append(sigSFR)\n",
    "            log_siggas_tdyn.append(sgastdyn)\n",
    "            galtype.append(gal_type)\n",
    "            radius.append(rad)\n",
    "            v0_genzel.append(v0)\n",
    "            break\n",
    "            \n",
    "log_siggas_genzel =(log_siggas)\n",
    "log_sigSFR_genzel = log_sigSFR\n",
    "log_torb_genzel = (log_torb)\n",
    "log_siggas_tdyn_genzel = log_siggas_tdyn\n",
    "\n",
    "siggas_genzel = 10.**(np.asarray(log_siggas))*Msun/pc/pc\n",
    "sigSFR_genzel = 10.**(np.asarray(log_sigSFR_genzel))*Msun/yr_to_sec/kpc/kpc\n",
    "siggas_tdyn_genzel = 10.**(np.asarray(log_siggas_tdyn_genzel))*Msun/yr_to_sec/pc/pc/1.e6\n",
    "torb_genzel = 10.**np.asarray(log_torb) * Myr\n",
    "galtype_genzel = (galtype)\n",
    "rad_genzel = np.asarray(radius)*kpc\n",
    "torb_genzel1 = 2.* math.pi * rad_genzel/v0_genzel/kmps\n",
    "\n",
    "gamma_data_genzel = sigSFR_genzel * p_avg * torb_genzel1**2/(16. * math.pi**2 * rad_genzel * siggas_genzel)\n",
    "xi_data_genzel = chi0 * Sigma_diss * torb_genzel1/(2.**1.5 * math.pi * siggas_genzel)\n",
    "# xi_data_genzel = chi0 * Sigma_diss/siggas_tdyn_genzel\n",
    "np.amax(gamma_data_genzel),np.amin(gamma_data_genzel),np.amax(xi_data_genzel),np.amin(xi_data_genzel)"
   ]
  },
  {
   "cell_type": "code",
   "execution_count": 7,
   "id": "ee6139a9",
   "metadata": {},
   "outputs": [],
   "source": [
    "name_genzel = [\n",
    "\n",
    "'Q2343-MD59 ',     \n",
    "'SMMJ02399-0136',\n",
    "'SMMJ09431+4700',\n",
    "'SMMJ105141+5719',  \n",
    "'SMMJ123549+6215',  \n",
    "'SMMJ123634+6212',  \n",
    "'SMMJ123707+6214',  \n",
    "'SMMJ131201+4242',  \n",
    "'SMMJ131232+4239',  \n",
    "'SMMJ163650+4057',  \n",
    "'SMMJ163658+4105'  ]\n",
    "ref_genzel = ['Genzel et al. (2010)']*len(name_genzel)"
   ]
  },
  {
   "cell_type": "code",
   "execution_count": 8,
   "id": "a0c53793",
   "metadata": {},
   "outputs": [
    {
     "name": "stdout",
     "output_type": "stream",
     "text": [
      "Q2343-MD59 \tNon-SB\t-0.68\t2.69\t210.9\t5.5\t-1.16\t-1.14\n",
      "SMMJ02399-0136\tSB\t0.84\t2.73\t52.0\t5.1\t-0.87\t-1.79\n",
      "SMMJ09431+4700\tSB\t1.83\t3.63\t28.6\t1.4\t-0.74\t-2.95\n",
      "SMMJ105141+5719\tSB\t1.04\t2.76\t40.8\t3.1\t-0.69\t-1.92\n",
      "SMMJ123549+6215\tSB\t2.20\t4.10\t12.3\t0.9\t-1.38\t-3.78\n",
      "SMMJ123634+6212\tSB\t0.63\t2.68\t72.0\t4.1\t-0.65\t-1.60\n",
      "SMMJ123707+6214\tSB\t1.01\t2.83\t53.2\t2.8\t-0.52\t-1.88\n",
      "SMMJ131201+4242\tSB\t1.09\t3.09\t42.0\t3.0\t-0.93\t-2.24\n",
      "SMMJ131232+4239\tSB\t1.29\t3.28\t34.8\t2.0\t-0.91\t-2.51\n",
      "SMMJ163650+4057\tSB\t1.37\t3.52\t27.6\t2.4\t-1.35\t-2.85\n",
      "SMMJ163658+4105\tSB\t2.44\t4.39\t8.2\t0.8\t-1.73\t-4.25\n"
     ]
    }
   ],
   "source": [
    "i=0\n",
    "for galtype, sfr, siggas, torb, rad, gam, xi in zip(galtype_genzel, np.asarray(log_sigSFR_genzel), np.asarray(log_siggas_genzel), np.asarray(torb_genzel1)/Myr, (rad_genzel/kpc),  np.log10(np.asarray(gamma_data_genzel)), np.log10(np.asarray(xi_data_genzel))):\n",
    "    if(galtype!='Starburst'):\n",
    "        tyype = 'Non-SB'\n",
    "    else:\n",
    "        tyype = 'SB'\n",
    "    print( name_genzel[i] + '\\t' + tyype + '\\t' '%.2f'%(sfr) +'\\t' '%.2f'%(siggas) +'\\t' '%.1f'%(torb) +'\\t' '%.1f'%(rad) +'\\t' '%.2f'%(gam) +'\\t' '%.2f'%(xi))\n",
    "    i+=1"
   ]
  },
  {
   "cell_type": "markdown",
   "id": "289279a0",
   "metadata": {},
   "source": [
    "# Kennicutt Data-- taken from Kennicutt98 and Krumholz+12, distances from simbad"
   ]
  },
  {
   "cell_type": "code",
   "execution_count": 9,
   "id": "71efe651",
   "metadata": {},
   "outputs": [
    {
     "data": {
      "text/plain": [
       "(3.0894612486273942,\n",
       " 0.012151557453640733,\n",
       " 23.84507752748416,\n",
       " 0.8079756233093239)"
      ]
     },
     "execution_count": 9,
     "metadata": {},
     "output_type": "execute_result"
    }
   ],
   "source": [
    "file = '/Users/aditivijayan/Projects/PhotoDissociation/Data/krumholz_kennit_gal_data.txt'\n",
    "name_kenni = np.loadtxt(file, usecols=0)\n",
    "rad_kenni = np.loadtxt(file, usecols=3)*kpc\n",
    "log_sigmagas_kenni = np.loadtxt(file, usecols=4)\n",
    "log_sigmaSFR_kenni = np.loadtxt(file, usecols=5)\n",
    "torb_kenni = np.loadtxt(file, usecols=-2)*Myr\n",
    "log_siggas_tdyn_kenni = np.loadtxt(file, usecols=-1)\n",
    "\n",
    "\n",
    "siggas_kenni = 10.**(np.asarray(log_sigmagas_kenni))*Msun/pc/pc\n",
    "sigSFR_kenni = 10.**(np.asarray(log_sigmaSFR_kenni))*Msun/yr_to_sec/kpc/kpc\n",
    "siggas_tdyn_kenni = 10.**(np.asarray(log_siggas_tdyn_kenni))*Msun/yr_to_sec/pc/pc/1.e6\n",
    "v0_kenni = 2.*math.pi*rad_kenni/(torb_kenni)/kmps\n",
    "gal_type_kenni = ['D']*log_sigmagas_kenni.shape[0]\n",
    "\n",
    "gamma_data_kenni = sigSFR_kenni * p_avg * (torb_kenni)**2/(16. * math.pi**2 * rad_kenni * siggas_kenni)\n",
    "gamma_data_kenni[gamma_data_kenni>1.e4]=1.e4\n",
    "# xi_data_kenni    = chi0 * Sigma_diss/siggas_tdyn_kenni\n",
    "xi_data_kenni = chi0 * Sigma_diss * torb_kenni/(2.**1.5 * math.pi * siggas_kenni)\n",
    "ref_kenni = [\"Kennicutt (1998)\"]*len(name_kenni)\n",
    "np.amax(gamma_data_kenni),np.amin(gamma_data_kenni),np.amax(xi_data_kenni),np.amin(xi_data_kenni)"
   ]
  },
  {
   "cell_type": "code",
   "execution_count": 10,
   "id": "964206da",
   "metadata": {},
   "outputs": [
    {
     "name": "stdout",
     "output_type": "stream",
     "text": [
      "NGC224\tNon-SB\t-3.37\t0.68\t457.1\t16.770\t-1.66\t1.21\n",
      "NGC598\tNon-SB\t-2.71\t1.03\t398.1\t6.480\t-1.05\t0.80\n",
      "NGC772\tNon-SB\t-3.08\t0.94\t794.3\t34.450\t-1.46\t1.19\n",
      "NGC925\tNon-SB\t-2.68\t0.91\t724.4\t12.260\t-0.66\t1.18\n",
      "NGC1569\tNon-SB\t-1.04\t1.33\t199.5\t1.090\t0.49\t0.20\n",
      "NGC2336\tNon-SB\t-2.16\t0.91\t741.3\t33.020\t-0.55\t1.19\n",
      "NGC2403\tNon-SB\t-2.39\t0.88\t346.7\t27.490\t-1.33\t0.89\n",
      "NGC2903\tNon-SB\t-2.55\t0.86\t309.0\t13.960\t-1.28\t0.86\n",
      "NGC2976\tNon-SB\t-1.90\t0.98\t128.8\t2.490\t-0.76\t0.36\n",
      "NGC3031\tNon-SB\t-2.74\t0.85\t269.1\t11.590\t-1.50\t0.81\n",
      "NGC3310\tNon-SB\t-1.38\t1.14\t251.2\t9.140\t-0.38\t0.49\n",
      "NGC3338\tNon-SB\t-2.80\t0.81\t398.1\t20.530\t-1.43\t1.02\n",
      "NGC3368\tNon-SB\t-2.79\t0.93\t269.1\t9.420\t-1.54\t0.73\n",
      "NGC3486\tNon-SB\t-2.70\t0.88\t323.6\t10.000\t-1.26\t0.86\n",
      "NGC3521\tNon-SB\t-2.15\t1.22\t331.1\t15.270\t-1.22\t0.53\n",
      "NGC3631\tNon-SB\t-1.97\t1.16\t489.8\t14.670\t-0.62\t0.76\n",
      "NGC3675\tNon-SB\t-2.25\t0.99\t218.8\t15.400\t-1.45\t0.58\n",
      "NGC3726\tNon-SB\t-2.52\t1.06\t323.6\t10.960\t-1.30\t0.68\n",
      "NGC3893\tNon-SB\t-2.20\t1.06\t302.0\t9.610\t-0.99\t0.65\n",
      "NGC4178\tNon-SB\t-2.51\t1.13\t389.1\t8.000\t-1.07\t0.69\n",
      "NGC4254\tNon-SB\t-1.94\t1.39\t346.7\t13.200\t-1.07\t0.38\n",
      "NGC4258\tNon-SB\t-2.60\t0.59\t478.6\t15.330\t-0.72\t1.32\n",
      "NGC4294\tNon-SB\t-2.11\t1.02\t302.0\t6.180\t-0.66\t0.69\n",
      "NGC4303\tNon-SB\t-1.98\t1.21\t478.6\t14.970\t-0.71\t0.70\n",
      "NGC4321\tNon-SB\t-2.31\t1.14\t446.7\t17.250\t-1.09\t0.74\n",
      "NGC4394\tNon-SB\t-3.12\t0.63\t323.6\t9.900\t-1.43\t1.11\n",
      "NGC4402\tNon-SB\t-3.04\t1.08\t416.9\t7.190\t-1.44\t0.77\n",
      "NGC4501\tNon-SB\t-2.45\t1.09\t331.1\t13.050\t-1.32\t0.66\n",
      "NGC4519\tNon-SB\t-2.22\t0.99\t288.4\t7.640\t-0.88\t0.70\n",
      "NGC4535\tNon-SB\t-2.62\t1.01\t524.8\t15.990\t-1.10\t0.94\n",
      "NGC4548\tNon-SB\t-2.76\t0.69\t338.8\t12.940\t-1.20\t1.07\n",
      "NGC4561\tNon-SB\t-2.17\t1.52\t158.5\t4.670\t-1.66\t-0.09\n",
      "NGC4569\tNon-SB\t-3.02\t0.61\t501.2\t20.050\t-1.23\t1.32\n",
      "NGC4571\tNon-SB\t-2.80\t0.83\t467.7\t9.390\t-0.97\t1.07\n",
      "NGC4579\tNon-SB\t-2.56\t0.81\t281.8\t12.940\t-1.28\t0.87\n",
      "NGC4639\tNon-SB\t-2.35\t0.73\t218.8\t6.850\t-0.94\t0.84\n",
      "NGC4647\tNon-SB\t-2.46\t1.04\t346.7\t8.630\t-1.06\t0.73\n",
      "NGC4651\tNon-SB\t-2.22\t1.06\t269.1\t12.720\t-1.23\t0.60\n",
      "NGC4654\tNon-SB\t-2.30\t1.10\t346.7\t10.910\t-1.06\t0.67\n",
      "NGC4689\tNon-SB\t-2.62\t0.94\t323.6\t9.900\t-1.24\t0.80\n",
      "NGC4698\tNon-SB\t-3.79\t0.25\t251.2\t9.390\t-1.92\t1.38\n",
      "NGC4713\tNon-SB\t-1.77\t1.04\t323.6\t9.050\t-0.45\t0.70\n",
      "NGC4736\tNon-SB\t-2.46\t0.65\t269.1\t6.850\t-0.79\t1.01\n",
      "NGC5033\tNon-SB\t-2.88\t0.93\t776.2\t11.880\t-0.81\t1.19\n",
      "NGC5055\tNon-SB\t-2.56\t1.17\t380.2\t12.790\t-1.38\t0.64\n",
      "NGC5457\tNon-SB\t-2.70\t1.09\t871.0\t23.400\t-0.98\t1.08\n",
      "NGC6207\tNon-SB\t-1.94\t1.03\t257.0\t6.030\t-0.63\t0.61\n",
      "NGC6217\tNon-SB\t-2.15\t1.29\t288.4\t9.160\t-1.18\t0.40\n",
      "NGC6503\tNon-SB\t-2.32\t0.89\t169.8\t4.260\t-1.08\t0.57\n",
      "NGC6643\tNon-SB\t-2.05\t1.11\t371.5\t9.860\t-0.72\t0.69\n",
      "NGC7331\tNon-SB\t-2.57\t1.08\t575.4\t17.250\t-1.07\t0.91\n"
     ]
    }
   ],
   "source": [
    "i=0\n",
    "kenni_name = [] \n",
    "for galtype, sfr, siggas, torb, rad, gam, xi in zip(gal_type_kenni, np.asarray(log_sigmaSFR_kenni), np.asarray(log_sigmagas_kenni), np.asarray(torb_kenni)/Myr, (rad_kenni/kpc),  np.log10(np.asarray(gamma_data_kenni)), np.log10(np.asarray(xi_data_kenni))):\n",
    "    if(galtype!='Starburst'):\n",
    "        tyype = 'Non-SB'\n",
    "    else:\n",
    "        tyype = 'SB'\n",
    "    print('NGC%d'%name_kenni[i] + '\\t' + tyype + '\\t' + '%.2f'%(sfr) + '\\t' '%.2f'%(siggas) +'\\t' '%.1f'%(torb) +'\\t' '%.3f'%(rad) +'\\t' '%.2f'%(gam) +'\\t' '%.2f'%(xi))\n",
    "    kenni_name.append('NGC%d'%name_kenni[i])\n",
    "    i+=1"
   ]
  },
  {
   "cell_type": "markdown",
   "id": "fc599bce",
   "metadata": {},
   "source": [
    "# Concatenate Arrays"
   ]
  },
  {
   "cell_type": "code",
   "execution_count": 11,
   "id": "10ffc4f0",
   "metadata": {},
   "outputs": [],
   "source": [
    "name = daddi_name + name_genzel + kenni_name\n",
    "ref_list = ref_daddi + ref_genzel + ref_kenni\n",
    "galtype   = galtype_daddi + galtype_genzel + gal_type_kenni\n",
    "logsigSFR = np.concatenate((np.asarray(log_sigSFR_daddi), np.asarray(log_sigSFR_genzel),np.asarray(log_sigmaSFR_kenni)))\n",
    "logSiggas = np.concatenate((np.asarray(log_siggas_daddi), np.asarray(log_siggas_genzel), np.asarray(log_sigmagas_kenni)))\n",
    "torb_full      = np.concatenate((np.asarray(torb_daddi)/Myr, np.asarray(torb_genzel1)/Myr, np.asarray(torb_kenni)/Myr))\n",
    "radius_full    = np.concatenate(((rad_daddi/kpc), (rad_genzel/kpc),  (rad_kenni/kpc)))\n",
    "gamma_full= np.concatenate((np.log10(np.asarray(gamma_data_genzel)), np.log10(np.asarray(gamma_data_genzel)),  np.log10(np.asarray(gamma_data_kenni))))\n",
    "xi_full   = np.concatenate((np.log10(np.asarray(xi_data_genzel)), np.log10(np.asarray(xi_data_genzel)),np.log10(np.asarray(xi_data_kenni))))"
   ]
  },
  {
   "cell_type": "code",
   "execution_count": 27,
   "id": "97f06c75",
   "metadata": {},
   "outputs": [
    {
     "name": "stdout",
     "output_type": "stream",
     "text": [
      "#Name               SB/Non-SB  #SigmaSFR #SigmaGas #torb       #Radius     #log(Gamma) #log(xi)                #Ref\n",
      "\t\t\t\t #[log(Msun/pc/pc/yr)]   #[log(Msun/pc/pc)] #[Myr]  #[kpc]\n",
      "BzK-4171            \tNon-SB\t      0.08      2.95\t 90.00\t  3.70     -1.16       -1.14   Daddi et al. (2010)\n",
      "BzK-21000           \tNon-SB\t      0.19      2.96\t170.00\t  6.20     -0.87       -1.79   Daddi et al. (2010)\n",
      "BzK-16000           \tNon-SB\t     -0.03      2.56\t340.00\t  5.10     -0.74       -2.95   Daddi et al. (2010)\n",
      "BzK-17999           \tNon-SB\t      0.03      2.66\t130.00\t  4.70     -0.69       -1.92   Daddi et al. (2010)\n",
      "BzK-12591           \tNon-SB\t     -0.04      2.53\t 90.00\t  4.50     -1.38       -3.78   Daddi et al. (2010)\n",
      "BzK-25536           \tNon-SB\t      0.05      2.88\t210.00\t  3.00     -0.65       -1.60   Daddi et al. (2010)\n",
      "Q2343-MD59          \tNon-SB\t     -0.68      2.69\t210.89\t  5.50     -0.52       -1.88  Genzel et al. (2010)\n",
      "SMMJ02399-0136      \tSB\t      0.84      2.73\t 52.04\t  5.10     -0.93       -2.24  Genzel et al. (2010)\n",
      "SMMJ09431+4700      \tSB\t      1.83      3.63\t 28.57\t  1.40     -0.91       -2.51  Genzel et al. (2010)\n",
      "SMMJ105141+5719     \tSB\t      1.04      2.76\t 40.84\t  3.10     -1.35       -2.85  Genzel et al. (2010)\n",
      "SMMJ123549+6215     \tSB\t      2.20      4.10\t 12.26\t  0.90     -1.73       -4.25  Genzel et al. (2010)\n",
      "SMMJ123634+6212     \tSB\t      0.63      2.68\t 71.96\t  4.10     -1.16       -1.14  Genzel et al. (2010)\n",
      "SMMJ123707+6214     \tSB\t      1.01      2.83\t 53.17\t  2.80     -0.87       -1.79  Genzel et al. (2010)\n",
      "SMMJ131201+4242     \tSB\t      1.09      3.09\t 42.00\t  3.00     -0.74       -2.95  Genzel et al. (2010)\n",
      "SMMJ131232+4239     \tSB\t      1.29      3.28\t 34.80\t  2.00     -0.69       -1.92  Genzel et al. (2010)\n",
      "SMMJ163650+4057     \tSB\t      1.37      3.52\t 27.62\t  2.40     -1.38       -3.78  Genzel et al. (2010)\n",
      "SMMJ163658+4105     \tSB\t      2.44      4.39\t  8.16\t  0.80     -0.65       -1.60  Genzel et al. (2010)\n",
      "NGC224              \tNon-SB\t     -3.37      0.68\t457.09\t 16.77     -0.52       -1.88      Kennicutt (1998)\n",
      "NGC598              \tNon-SB\t     -2.71      1.03\t398.11\t  6.48     -0.93       -2.24      Kennicutt (1998)\n",
      "NGC772              \tNon-SB\t     -3.08      0.94\t794.33\t 34.45     -0.91       -2.51      Kennicutt (1998)\n",
      "NGC925              \tNon-SB\t     -2.68      0.91\t724.44\t 12.26     -1.35       -2.85      Kennicutt (1998)\n",
      "NGC1569             \tNon-SB\t     -1.04      1.33\t199.53\t  1.09     -1.73       -4.25      Kennicutt (1998)\n",
      "NGC2336             \tNon-SB\t     -2.16      0.91\t741.31\t 33.02     -1.66        1.21      Kennicutt (1998)\n",
      "NGC2403             \tNon-SB\t     -2.39      0.88\t346.74\t 27.49     -1.05        0.80      Kennicutt (1998)\n",
      "NGC2903             \tNon-SB\t     -2.55      0.86\t309.03\t 13.96     -1.46        1.19      Kennicutt (1998)\n",
      "NGC2976             \tNon-SB\t     -1.90      0.98\t128.82\t  2.49     -0.66        1.18      Kennicutt (1998)\n",
      "NGC3031             \tNon-SB\t     -2.74      0.85\t269.15\t 11.59      0.49        0.20      Kennicutt (1998)\n",
      "NGC3310             \tNon-SB\t     -1.38      1.14\t251.19\t  9.14     -0.55        1.19      Kennicutt (1998)\n",
      "NGC3338             \tNon-SB\t     -2.80      0.81\t398.11\t 20.53     -1.33        0.89      Kennicutt (1998)\n",
      "NGC3368             \tNon-SB\t     -2.79      0.93\t269.15\t  9.42     -1.28        0.86      Kennicutt (1998)\n",
      "NGC3486             \tNon-SB\t     -2.70      0.88\t323.59\t 10.00     -0.76        0.36      Kennicutt (1998)\n",
      "NGC3521             \tNon-SB\t     -2.15      1.22\t331.13\t 15.27     -1.50        0.81      Kennicutt (1998)\n",
      "NGC3631             \tNon-SB\t     -1.97      1.16\t489.78\t 14.67     -0.38        0.49      Kennicutt (1998)\n",
      "NGC3675             \tNon-SB\t     -2.25      0.99\t218.78\t 15.40     -1.43        1.02      Kennicutt (1998)\n",
      "NGC3726             \tNon-SB\t     -2.52      1.06\t323.59\t 10.96     -1.54        0.73      Kennicutt (1998)\n",
      "NGC3893             \tNon-SB\t     -2.20      1.06\t302.00\t  9.61     -1.26        0.86      Kennicutt (1998)\n",
      "NGC4178             \tNon-SB\t     -2.51      1.13\t389.05\t  8.00     -1.22        0.53      Kennicutt (1998)\n",
      "NGC4254             \tNon-SB\t     -1.94      1.39\t346.74\t 13.20     -0.62        0.76      Kennicutt (1998)\n",
      "NGC4258             \tNon-SB\t     -2.60      0.59\t478.63\t 15.33     -1.45        0.58      Kennicutt (1998)\n",
      "NGC4294             \tNon-SB\t     -2.11      1.02\t302.00\t  6.18     -1.30        0.68      Kennicutt (1998)\n",
      "NGC4303             \tNon-SB\t     -1.98      1.21\t478.63\t 14.97     -0.99        0.65      Kennicutt (1998)\n",
      "NGC4321             \tNon-SB\t     -2.31      1.14\t446.68\t 17.25     -1.07        0.69      Kennicutt (1998)\n",
      "NGC4394             \tNon-SB\t     -3.12      0.63\t323.59\t  9.90     -1.07        0.38      Kennicutt (1998)\n",
      "NGC4402             \tNon-SB\t     -3.04      1.08\t416.87\t  7.19     -0.72        1.32      Kennicutt (1998)\n",
      "NGC4501             \tNon-SB\t     -2.45      1.09\t331.13\t 13.05     -0.66        0.69      Kennicutt (1998)\n",
      "NGC4519             \tNon-SB\t     -2.22      0.99\t288.40\t  7.64     -0.71        0.70      Kennicutt (1998)\n",
      "NGC4535             \tNon-SB\t     -2.62      1.01\t524.81\t 15.99     -1.09        0.74      Kennicutt (1998)\n",
      "NGC4548             \tNon-SB\t     -2.76      0.69\t338.84\t 12.94     -1.43        1.11      Kennicutt (1998)\n",
      "NGC4561             \tNon-SB\t     -2.17      1.52\t158.49\t  4.67     -1.44        0.77      Kennicutt (1998)\n",
      "NGC4569             \tNon-SB\t     -3.02      0.61\t501.19\t 20.05     -1.32        0.66      Kennicutt (1998)\n",
      "NGC4571             \tNon-SB\t     -2.80      0.83\t467.74\t  9.39     -0.88        0.70      Kennicutt (1998)\n",
      "NGC4579             \tNon-SB\t     -2.56      0.81\t281.84\t 12.94     -1.10        0.94      Kennicutt (1998)\n",
      "NGC4639             \tNon-SB\t     -2.35      0.73\t218.78\t  6.85     -1.20        1.07      Kennicutt (1998)\n",
      "NGC4647             \tNon-SB\t     -2.46      1.04\t346.74\t  8.63     -1.66       -0.09      Kennicutt (1998)\n",
      "NGC4651             \tNon-SB\t     -2.22      1.06\t269.15\t 12.72     -1.23        1.32      Kennicutt (1998)\n",
      "NGC4654             \tNon-SB\t     -2.30      1.10\t346.74\t 10.91     -0.97        1.07      Kennicutt (1998)\n",
      "NGC4689             \tNon-SB\t     -2.62      0.94\t323.59\t  9.90     -1.28        0.87      Kennicutt (1998)\n",
      "NGC4698             \tNon-SB\t     -3.79      0.25\t251.19\t  9.39     -0.94        0.84      Kennicutt (1998)\n",
      "NGC4713             \tNon-SB\t     -1.77      1.04\t323.59\t  9.05     -1.06        0.73      Kennicutt (1998)\n",
      "NGC4736             \tNon-SB\t     -2.46      0.65\t269.15\t  6.85     -1.23        0.60      Kennicutt (1998)\n",
      "NGC5033             \tNon-SB\t     -2.88      0.93\t776.25\t 11.88     -1.06        0.67      Kennicutt (1998)\n",
      "NGC5055             \tNon-SB\t     -2.56      1.17\t380.19\t 12.79     -1.24        0.80      Kennicutt (1998)\n",
      "NGC5457             \tNon-SB\t     -2.70      1.09\t870.96\t 23.40     -1.92        1.38      Kennicutt (1998)\n",
      "NGC6207             \tNon-SB\t     -1.94      1.03\t257.04\t  6.03     -0.45        0.70      Kennicutt (1998)\n",
      "NGC6217             \tNon-SB\t     -2.15      1.29\t288.40\t  9.16     -0.79        1.01      Kennicutt (1998)\n",
      "NGC6503             \tNon-SB\t     -2.32      0.89\t169.82\t  4.26     -0.81        1.19      Kennicutt (1998)\n",
      "NGC6643             \tNon-SB\t     -2.05      1.11\t371.54\t  9.86     -1.38        0.64      Kennicutt (1998)\n",
      "NGC7331             \tNon-SB\t     -2.57      1.08\t575.44\t 17.25     -0.98        1.08      Kennicutt (1998)\n"
     ]
    }
   ],
   "source": [
    "i=0\n",
    "kenni_name = [] \n",
    "print('#Name'.ljust(20) + 'SB/Non-SB'.ljust(11)   + '#SigmaSFR'.ljust(10) + '#SigmaGas'.ljust(10) + '#torb'.ljust(12) + '#Radius'.ljust(12) + '#log(Gamma)'.ljust(12) + '#log(xi)'.ljust(6) + '#Ref'.rjust(20))\n",
    "print('\\t\\t\\t\\t #[log(Msun/pc/pc/yr)]   #[log(Msun/pc/pc)] #[Myr]  #[kpc]')\n",
    "for nom, gtype, sfr, siggas, torb, rad, gam, xi, ref in zip(name, galtype, logsigSFR, logSiggas, torb_full, radius_full, gamma_full, xi_full, ref_list):\n",
    "    if(gtype!='Starburst'):\n",
    "        tyype = 'Non-SB'\n",
    "    else:\n",
    "        tyype = 'SB'\n",
    "    print(nom.ljust(20) +  '\\t' + tyype +  '\\t' '{:10.2f}'.format(sfr)+ '{:10.2f}'.format(siggas) +'\\t' '{:6.2f}'.format(torb) +'\\t' '{:6.2f}'.format(rad) +'{:10.2f}'.format(gam) +\\\n",
    "          '{:12.2f}'.format(xi) + ref.rjust(22))\n",
    "    i+=1"
   ]
  },
  {
   "cell_type": "code",
   "execution_count": 28,
   "id": "9f02a5c8",
   "metadata": {},
   "outputs": [
    {
     "data": {
      "text/plain": [
       "68"
      ]
     },
     "execution_count": 28,
     "metadata": {},
     "output_type": "execute_result"
    }
   ],
   "source": [
    "i"
   ]
  },
  {
   "cell_type": "code",
   "execution_count": null,
   "id": "7b75a26a",
   "metadata": {},
   "outputs": [],
   "source": []
  }
 ],
 "metadata": {
  "kernelspec": {
   "display_name": "Python 3 (ipykernel)",
   "language": "python",
   "name": "python3"
  },
  "language_info": {
   "codemirror_mode": {
    "name": "ipython",
    "version": 3
   },
   "file_extension": ".py",
   "mimetype": "text/x-python",
   "name": "python",
   "nbconvert_exporter": "python",
   "pygments_lexer": "ipython3",
   "version": "3.9.21"
  }
 },
 "nbformat": 4,
 "nbformat_minor": 5
}
